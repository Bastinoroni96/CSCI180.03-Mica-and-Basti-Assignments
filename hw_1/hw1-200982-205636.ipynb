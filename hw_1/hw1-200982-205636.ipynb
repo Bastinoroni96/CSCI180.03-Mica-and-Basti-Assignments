{
 "cells": [
  {
   "cell_type": "markdown",
   "metadata": {},
   "source": [
    "**Angeline Micaela Cantal & Sebastian Louis de Leon [200982 & 205636]**"
   ]
  },
  {
   "cell_type": "markdown",
   "metadata": {},
   "source": [
    "# Homework 1"
   ]
  },
  {
   "cell_type": "markdown",
   "metadata": {},
   "source": [
    "*Due date:* February 4, 2025 (Tuesday) at 8 PM"
   ]
  },
  {
   "cell_type": "markdown",
   "metadata": {},
   "source": [
    "This homework is designed to get you started in implementing some cryptographic algorithms in Python.\n",
    "This should be easy enough for you to do solo, but it doesn't hurt if you want to work with a partner.\n",
    "These exercises are important in the sense that they serve as stepping stones to future attacks, and most likely you'll need your code for these for the final contest.\n",
    "If you can finish this homework on time, then you'll very likely do well in the final contest!\n",
    "\n",
    "Much of classical crypto operates on alphabetic strings (strings only containing letters) while modern \n",
    "crypto deals excusively with binary strings.\n",
    "Despite that crucial difference, we may see some familiar parallels between historical ciphers like \n",
    "Caesar or Vigenère and relatively modern ones like the XOR cipher and the one-time pad."
   ]
  },
  {
   "cell_type": "markdown",
   "metadata": {},
   "source": [
    "This homework has 32 points in total, but will be divided by 30 to get the final percentage. Final percentages are capped at 100%.\n",
    "\n",
    "Please be guided on the policies regarding late submissions, regrading, and collaboration.\n",
    "If any, please direct all your questions and clarifications about this homework in the `#hw1-help` channel on the Discord server."
   ]
  },
  {
   "cell_type": "markdown",
   "metadata": {},
   "source": [
    "## Dealing with binary data in Python"
   ]
  },
  {
   "cell_type": "markdown",
   "metadata": {},
   "source": [
    "Python supports *byte literals* (I just call them \"bytestrings\" for convenience), string-like sequences that are prefixed by `b`."
   ]
  },
  {
   "cell_type": "code",
   "execution_count": 1,
   "metadata": {},
   "outputs": [
    {
     "data": {
      "text/plain": [
       "b'This is a byte literal'"
      ]
     },
     "execution_count": 1,
     "metadata": {},
     "output_type": "execute_result"
    }
   ],
   "source": [
    "b'This is a byte literal'"
   ]
  },
  {
   "cell_type": "code",
   "execution_count": 2,
   "metadata": {},
   "outputs": [
    {
     "data": {
      "text/plain": [
       "'Meanwhile this is a string literal'"
      ]
     },
     "execution_count": 2,
     "metadata": {},
     "output_type": "execute_result"
    }
   ],
   "source": [
    "'Meanwhile this is a string literal'"
   ]
  },
  {
   "cell_type": "markdown",
   "metadata": {},
   "source": [
    "A bytestring is not the same as its string counterpart..."
   ]
  },
  {
   "cell_type": "code",
   "execution_count": 3,
   "metadata": {},
   "outputs": [
    {
     "data": {
      "text/plain": [
       "False"
      ]
     },
     "execution_count": 3,
     "metadata": {},
     "output_type": "execute_result"
    }
   ],
   "source": [
    "'some_string' == b'some_string'"
   ]
  },
  {
   "cell_type": "markdown",
   "metadata": {},
   "source": [
    "...because they have different types."
   ]
  },
  {
   "cell_type": "code",
   "execution_count": 4,
   "metadata": {},
   "outputs": [
    {
     "name": "stdout",
     "output_type": "stream",
     "text": [
      "<class 'str'>\n",
      "<class 'bytes'>\n"
     ]
    }
   ],
   "source": [
    "print(type('some_string'))\n",
    "print(type(b'some_string'))"
   ]
  },
  {
   "cell_type": "markdown",
   "metadata": {},
   "source": [
    "The usual string operations work with bytestrings."
   ]
  },
  {
   "cell_type": "code",
   "execution_count": 5,
   "metadata": {},
   "outputs": [
    {
     "name": "stdout",
     "output_type": "stream",
     "text": [
      "b's is a '\n",
      "32\n"
     ]
    }
   ],
   "source": [
    "test = b'this is a long bytestring'\n",
    "print(test[3:10])   # slicing\n",
    "print(test[4])      # get the 4th byte (returns an int)"
   ]
  },
  {
   "cell_type": "code",
   "execution_count": 6,
   "metadata": {},
   "outputs": [
    {
     "name": "stdout",
     "output_type": "stream",
     "text": [
      "b'this is a long bytestring and anotha one!'\n",
      "b' and anotha one! and anotha one! and anotha one! and anotha one! and anotha one! and anotha one! and anotha one! and anotha one! and anotha one! and anotha one!'\n"
     ]
    }
   ],
   "source": [
    "another = b' and anotha one!'\n",
    "print(test + another)   # concatenating bytestrings\n",
    "print(another * 10)     # n-fold concatenation"
   ]
  },
  {
   "cell_type": "markdown",
   "metadata": {},
   "source": [
    "We can use the following libraries to convert between encodings (hex and Base64)."
   ]
  },
  {
   "cell_type": "code",
   "execution_count": 7,
   "metadata": {},
   "outputs": [],
   "source": [
    "from binascii import hexlify, unhexlify"
   ]
  },
  {
   "cell_type": "code",
   "execution_count": 8,
   "metadata": {},
   "outputs": [],
   "source": [
    "from base64 import b64encode, b64decode"
   ]
  },
  {
   "cell_type": "code",
   "execution_count": 9,
   "metadata": {},
   "outputs": [
    {
     "data": {
      "text/plain": [
       "b'7468697320697320676f6e6e612062652068657820736f6f6e'"
      ]
     },
     "execution_count": 9,
     "metadata": {},
     "output_type": "execute_result"
    }
   ],
   "source": [
    "hexlify(b'this is gonna be hex soon')"
   ]
  },
  {
   "cell_type": "code",
   "execution_count": 10,
   "metadata": {},
   "outputs": [
    {
     "data": {
      "text/plain": [
       "b'this is hex no more'"
      ]
     },
     "execution_count": 10,
     "metadata": {},
     "output_type": "execute_result"
    }
   ],
   "source": [
    "unhexlify(b'7468697320697320686578206e6f206d6f7265')"
   ]
  },
  {
   "cell_type": "code",
   "execution_count": 11,
   "metadata": {},
   "outputs": [
    {
     "data": {
      "text/plain": [
       "b'QmFzZTY0IHRoaXMgdGhpbmch'"
      ]
     },
     "execution_count": 11,
     "metadata": {},
     "output_type": "execute_result"
    }
   ],
   "source": [
    "b64encode(b'Base64 this thing!')"
   ]
  },
  {
   "cell_type": "code",
   "execution_count": 12,
   "metadata": {},
   "outputs": [
    {
     "data": {
      "text/plain": [
       "b'base64 is not encryption!'"
      ]
     },
     "execution_count": 12,
     "metadata": {},
     "output_type": "execute_result"
    }
   ],
   "source": [
    "b64decode(b'YmFzZTY0IGlzIG5vdCBlbmNyeXB0aW9uIQ==')"
   ]
  },
  {
   "cell_type": "markdown",
   "metadata": {},
   "source": [
    "## Some reminders\n",
    "\n",
    "You are not allowed to use additional libraries (even within the Python standard library) other than those explicitly used here, though you may implement additional functions of your own.\n",
    "\n",
    "**Very important:** Always work with raw bytes, never with encoded strings.\n",
    "\n",
    "The following pages from the Python documentation may be helpful:\n",
    "- https://docs.python.org/3/library/stdtypes.html#bytes-objects\n",
    "- https://docs.python.org/3/library/binascii.html\n",
    "- https://docs.python.org/3/library/base64.html"
   ]
  },
  {
   "cell_type": "markdown",
   "metadata": {},
   "source": [
    "## 1-1. Hex to Base64 [2 pts]"
   ]
  },
  {
   "cell_type": "markdown",
   "metadata": {},
   "source": [
    "Write a function called `hex_to_b64` to convert a hex-encoded bytestring into Base64. For example, the string\n",
    "```\n",
    "48656c7021204920676f7420584f52206579657320616e642069742773206b696c6c696e67206d65\n",
    "```\n",
    "should output\n",
    "```\n",
    "SGVscCEgSSBnb3QgWE9SIGV5ZXMgYW5kIGl0J3Mga2lsbGluZyBtZQ==\n",
    "```"
   ]
  },
  {
   "cell_type": "code",
   "execution_count": 13,
   "metadata": {},
   "outputs": [
    {
     "name": "stdout",
     "output_type": "stream",
     "text": [
      "b'SGVscCEgSSBnb3QgWE9SIGV5ZXMgYW5kIGl0J3Mga2lsbGluZyBtZQ=='\n"
     ]
    }
   ],
   "source": [
    "from binascii import hexlify, unhexlify\n",
    "from base64 import b64encode, b64decode\n",
    "\n",
    "def hex_to_b64(h):\n",
    "    #Decode hexstring to bytestring\n",
    "    hex_bytes = unhexlify(h)\n",
    "\n",
    "    b64_bytes = b64encode(hex_bytes)\n",
    "    return b64_bytes\n",
    "\n",
    "test = hex_to_b64(b'48656c7021204920676f7420584f52206579657320616e642069742773206b696c6c696e67206d65')\n",
    "print(test)"
   ]
  },
  {
   "cell_type": "code",
   "execution_count": 69,
   "metadata": {},
   "outputs": [],
   "source": [
    "# if your function works properly, no error should appear when running this line\n",
    "assert hex_to_b64(b'48656c7021204920676f7420584f52206579657320616e642069742773206b696c6c696e67206d65') == b'SGVscCEgSSBnb3QgWE9SIGV5ZXMgYW5kIGl0J3Mga2lsbGluZyBtZQ=='"
   ]
  },
  {
   "cell_type": "markdown",
   "metadata": {
    "tags": []
   },
   "source": [
    "## 1-2. XOR'ing two bytestrings [4 pts]"
   ]
  },
  {
   "cell_type": "markdown",
   "metadata": {},
   "source": [
    "Write a function called `xor_bytes` that takes two bytestrings of equal length and outputs their XOR. For example, if I have a bytestring\n",
    "```\n",
    "49207374696c6c206861766520584f522065796573206e6f772077686174\n",
    "```\n",
    "after hex-decoding it, and when I XOR it against\n",
    "```\n",
    "3a4f1e11060209001b04180100302a3e5045141c5345170a040016292955\n",
    "```\n",
    "it should output\n",
    "```\n",
    "736f6d656f6e652073656e642068656c70206d7920657965732061414821\n",
    "```"
   ]
  },
  {
   "cell_type": "code",
   "execution_count": 14,
   "metadata": {},
   "outputs": [
    {
     "name": "stdout",
     "output_type": "stream",
     "text": [
      "b'I still have XOR eyes now what'\n",
      "b':O\\x1e\\x11\\x06\\x02\\t\\x00\\x1b\\x04\\x18\\x01\\x000*>PE\\x14\\x1cSE\\x17\\n\\x04\\x00\\x16))U'\n",
      "b'someone send help my eyes aAH!'\n",
      "b'736f6d656f6e652073656e642068656c70206d7920657965732061414821'\n"
     ]
    }
   ],
   "source": [
    "from binascii import hexlify, unhexlify\n",
    "\n",
    "def xor_bytes(a, b):\n",
    "    #this is to see if the length of the two bytestrings are equal or not\n",
    "    if len(a) != len(b):\n",
    "        #return an empty bytes object if lengths are different\n",
    "        return b''\n",
    "    \n",
    "    # XOR the byte strings and return the result as a bytes object\n",
    "    return bytes(byte_a ^ byte_b for byte_a, byte_b in zip(a, b))\n",
    "\n",
    "a = b'49207374696c6c206861766520584f522065796573206e6f772077686174'\n",
    "b = b'3a4f1e11060209001b04180100302a3e5045141c5345170a040016292955'\n",
    "\n",
    "test = xor_bytes(unhexlify(a), unhexlify(b))\n",
    "\n",
    "print(unhexlify(a))\n",
    "print(unhexlify(b))\n",
    "\n",
    "print(test)\n",
    "\n",
    "print(hexlify(test))"
   ]
  },
  {
   "cell_type": "code",
   "execution_count": 15,
   "metadata": {},
   "outputs": [],
   "source": [
    "# if your function works properly, no error should appear when running this line\n",
    "assert hexlify(xor_bytes(unhexlify(b'49207374696c6c206861766520584f522065796573206e6f772077686174'), unhexlify(b'3a4f1e11060209001b04180100302a3e5045141c5345170a040016292955'))) == b'736f6d656f6e652073656e642068656c70206d7920657965732061414821'"
   ]
  },
  {
   "cell_type": "markdown",
   "metadata": {},
   "source": [
    "## 1-3. Single-byte XOR cipher [6 pts]"
   ]
  },
  {
   "cell_type": "markdown",
   "metadata": {},
   "source": [
    "You could say that this is just the Caesar cipher but it works over binary strings instead. Anyways, I have encrypted the hex-encoded bytestring\n",
    "```\n",
    "264f0300190a4f0d06084f1c0a02061f1d06020a1c4f0e010b4f264f0c0e0101001b4f03060a4e\n",
    "```\n",
    "by XOR'ing it against a single character. Find out what key I used, and decrypt the message."
   ]
  },
  {
   "cell_type": "markdown",
   "metadata": {},
   "source": [
    "You can do this by hand (since there are only 256 possible keys to choose from), but don't!\n",
    "**Write code to do this for you.**\n",
    "Have some way of \"scoring\" a piece of English plaintext, like using character frequency, so you can try each possible key and just output the one with the best score.\n",
    "\n",
    "Write a function called `try_decrypt_xor` that does just that, i.e., it takes a bytestring and outputs the key and the decrypted message (and optionally the score). And yes, you may implement your own functions as well."
   ]
  },
  {
   "cell_type": "code",
   "execution_count": 16,
   "metadata": {},
   "outputs": [],
   "source": [
    "# taken from http://pi.math.cornell.edu/~mec/2003-2004/cryptography/subs/frequencies.html\n",
    "FREQ_TABLE = {'e': 12.02, 't': 9.10, 'a': 8.12, 'o': 7.68, 'i': 7.31, 'n': 6.95, \n",
    "              's': 6.28,  'r': 6.02, 'h': 5.92, 'd': 4.32, 'l': 3.98, 'u': 2.88, \n",
    "              'c': 2.71,  'm': 2.61, 'f': 2.30, 'y': 2.11, 'w': 2.09, 'g': 2.03, \n",
    "              'p': 1.82,  'b': 1.49, 'v': 1.11, 'k': 0.69, 'x': 0.17, 'q': 0.11, \n",
    "              'j': 0.10,  'z': 0.07, ' ': 19.18}"
   ]
  },
  {
   "cell_type": "code",
   "execution_count": 17,
   "metadata": {},
   "outputs": [
    {
     "name": "stdout",
     "output_type": "stream",
     "text": [
      "Key: 111 (o)\n",
      "Message: b'I love big semiprimes and I cannot lie!'\n",
      "Score: 332.99000000000007\n"
     ]
    }
   ],
   "source": [
    "from binascii import unhexlify\n",
    "\n",
    "def score_text(text):\n",
    "    # Use frequency table to score the encryption\n",
    "    return sum(FREQ_TABLE.get(chr(c).lower(), 0) for c in text)\n",
    "\n",
    "def xor_bytes(data, key):\n",
    "    #XOR the byte string with a single byte key.\n",
    "    key_bytes = bytes([key]) * len(data)  # Repeat the key for the length of data\n",
    "    return bytes(byte_a ^ byte_b for byte_a, byte_b in zip(data, key_bytes))\n",
    "\n",
    "def try_decrypt_xor(c):\n",
    "    #Try decrypting a bytestring XOR'd with a single-character key.\n",
    "    ciphertext = unhexlify(c.strip())  # Convert hex to raw bytes\n",
    "    best_score = 0\n",
    "    best_key = None\n",
    "    best_message = None\n",
    "\n",
    "    for key in range(256):  # Try all possible single-byte keys\n",
    "        decrypted = xor_bytes(ciphertext, key)\n",
    "        try:\n",
    "            score = score_text(decrypted)\n",
    "            if score > best_score:\n",
    "                best_score = score\n",
    "                best_key = key\n",
    "                best_message = decrypted\n",
    "        except:\n",
    "            continue  # Skip invalid decryption attempts\n",
    "\n",
    "    return best_key, best_message, best_score\n",
    "\n",
    "# Test\n",
    "key, message, score = try_decrypt_xor(b\"264f0300190a4f0d06084f1c0a02061f1d06020a1c4f0e010b4f264f0c0e0101001b4f03060a4e\")\n",
    "\n",
    "print(\"Key: \" + str(key) + \" (\" + chr(key) + \")\")\n",
    "print(\"Message: \" + str(message))\n",
    "print(\"Score: \" + str(score))\n"
   ]
  },
  {
   "cell_type": "markdown",
   "metadata": {},
   "source": [
    "## 1-4. Detect single-character XOR [6 pts]"
   ]
  },
  {
   "cell_type": "markdown",
   "metadata": {},
   "source": [
    "I have a [file](http://lunchtimeattack.wtf/csci184.03/xor_strings.txt) that contains 420 64-character hex-encoded strings, and **only one** of them has been encrypted by single-character XOR. \n",
    "\n",
    "Find that string.\n",
    "\n",
    "*Hint:* Your code from the previous item should help."
   ]
  },
  {
   "cell_type": "code",
   "execution_count": 18,
   "metadata": {},
   "outputs": [],
   "source": [
    "fin = open('xor_strings.txt', 'rb')"
   ]
  },
  {
   "cell_type": "code",
   "execution_count": 19,
   "metadata": {},
   "outputs": [],
   "source": [
    "strings = fin.readlines()"
   ]
  },
  {
   "cell_type": "code",
   "execution_count": 20,
   "metadata": {},
   "outputs": [
    {
     "name": "stdout",
     "output_type": "stream",
     "text": [
      "Encrypted string: 761f59504a515b1f4b575a1f575e461f56511f5e1f515a5a5b535a4c4b5e5c54\n",
      "Key: 63 (?)\n",
      "Decrypted message: b'I found the hay in a needlestack'\n",
      "Score: 290.3\n"
     ]
    }
   ],
   "source": [
    "from binascii import unhexlify\n",
    "\n",
    "def score_text(text):\n",
    "    # Score a string based on the frequency of English letters.\n",
    "    return sum(FREQ_TABLE.get(chr(c).lower(), 0) for c in text)\n",
    "\n",
    "def xor_with_key(data, key):\n",
    "    #XOR the byte string with a single byte key.\n",
    "    key_bytes = bytes([key]) * len(data)  # Repeat the key for the length of data\n",
    "    return bytes(byte_a ^ byte_b for byte_a, byte_b in zip(data, key_bytes))\n",
    "\n",
    "def try_decrypt_xor(c):\n",
    "    ciphertext = unhexlify(c.strip())  # Convert from hex to raw bytes\n",
    "    best_score = 0\n",
    "    best_key = None\n",
    "    best_message = None\n",
    "\n",
    "    for key in range(256):  # Try all 256 possible single-byte keys\n",
    "        decrypted = xor_with_key(ciphertext, key)\n",
    "        try:\n",
    "            score = score_text(decrypted)\n",
    "            if score > best_score:\n",
    "                best_score = score\n",
    "                best_key = key\n",
    "                best_message = decrypted\n",
    "        except:\n",
    "            continue  # Skip invalid results\n",
    "\n",
    "    return best_key, best_message, best_score\n",
    "\n",
    "def find_encrypted_string(strings):\n",
    "    #Processes multiple hex strings and finds the one encrypted with single-character XOR.\n",
    "    best_overall_score = 0\n",
    "    best_string = None\n",
    "    best_key = None\n",
    "    best_decrypted_message = None\n",
    "\n",
    "    for c in strings:\n",
    "        key, message, score = try_decrypt_xor(c)\n",
    "        if score > best_overall_score:  # Track the best result across all strings\n",
    "            best_overall_score = score\n",
    "            best_string = c\n",
    "            best_key = key\n",
    "            best_decrypted_message = message\n",
    "\n",
    "    return best_string, best_key, best_decrypted_message, best_overall_score\n",
    "\n",
    "# Example usage (assuming `strings` is already defined in a previous cell)\n",
    "best_string, best_key, best_message, best_score = find_encrypted_string(strings)\n",
    "\n",
    "# Test\n",
    "if best_string:\n",
    "    print(\"Encrypted string: \" + best_string.strip().decode())\n",
    "    print(\"Key: \" + str(best_key) + \" (\" + chr(best_key) + \")\")\n",
    "    print(\"Decrypted message: \" + str(best_message))\n",
    "    print(\"Score: \" + str(best_score))\n",
    "else:\n",
    "    print(\"No valid encrypted string found.\")\n"
   ]
  },
  {
   "cell_type": "markdown",
   "metadata": {},
   "source": [
    "## 1-5. Implement repeating-key XOR [4 pts]"
   ]
  },
  {
   "cell_type": "markdown",
   "metadata": {},
   "source": [
    "Here are the first two lines of what people consider one of [Frank's greatest hits](https://youtu.be/ntULIFnj7MY):\n",
    "```\n",
    "Shawty had them apple bottom jeans,\n",
    "The boots with the fur\n",
    "```\n",
    "Encrypt it using repeating-key XOR, with the key \"`LOW`\"."
   ]
  },
  {
   "cell_type": "markdown",
   "metadata": {},
   "source": [
    "The way repeating-key XOR works is that the first byte of plaintext will be XOR'd against `L`, the next `O`, the next `W`, then `L` again for the 4th byte, and so on. In effect, it will look something like this:\n",
    "```\n",
    "Plaintext:   S h a w t y   h a d   t ...\n",
    "Key:         L O W L O W L O W L O W ...\n",
    "```\n",
    "If this reminds you of the Vigenère cipher, you're absolutely right! This *is* just Vigenère, but we're working over binary strings instead."
   ]
  },
  {
   "cell_type": "markdown",
   "metadata": {},
   "source": [
    "Write a function called `xor_repeating` that takes two bytestrings corresponding to the plaintext and the key, and encrypts it using repeating-key XOR. Using the plaintext and key above, your function should output:\n",
    "```\n",
    "1f27363b3b2e6c2736286f23242a3a6c2e273c23326c2d38383b38216f\n",
    "3d292e393f635d1827326c2d38233b246c383e3827773827326c29223e\n",
    "```\n",
    "when hex-encoded. (Note that this is a single hex string; it's only split into two lines to make it fit.)"
   ]
  },
  {
   "cell_type": "code",
   "execution_count": 21,
   "metadata": {},
   "outputs": [
    {
     "name": "stdout",
     "output_type": "stream",
     "text": [
      "b'1f27363b3b2e6c2736286f23242a3a6c2e273c23326c2d38383b38216f3d292e393f635d1827326c2d38233b246c383e3827773827326c29223e'\n"
     ]
    }
   ],
   "source": [
    "from binascii import hexlify\n",
    "\n",
    "#Get message, key, encrypt using key\n",
    "def xor_repeating(m, key):\n",
    "    key_length = len(key) #low\n",
    "    encode = bytes([b ^ key[i % key_length] for i, b in enumerate(m)]) #go through each byte of m, cycle depending on key-leth\n",
    "    return encode\n",
    "\n",
    "\n",
    "# Test \n",
    "test = hexlify(xor_repeating(b'Shawty had them apple bottom jeans,\\nThe boots with the fur', b'LOW'))\n",
    "print(test)"
   ]
  },
  {
   "cell_type": "code",
   "execution_count": 22,
   "metadata": {},
   "outputs": [],
   "source": [
    "# if your function works properly, no error should appear when running this line\n",
    "assert hexlify(xor_repeating(b'Shawty had them apple bottom jeans,\\nThe boots with the fur', b'LOW')) == b'1f27363b3b2e6c2736286f23242a3a6c2e273c23326c2d38383b38216f3d292e393f635d1827326c2d38233b246c383e3827773827326c29223e'"
   ]
  },
  {
   "cell_type": "markdown",
   "metadata": {},
   "source": [
    "## 1-6. Break repeating-key XOR [10 pts]"
   ]
  },
  {
   "cell_type": "markdown",
   "metadata": {},
   "source": [
    "I have [another file here](http://lunchtimeattack.wtf/csci184.03/encrypted.txt).\n",
    "It has been Base64-encoded after being encrypted with repeating-key XOR.\n",
    "\n",
    "Decrypt it."
   ]
  },
  {
   "cell_type": "markdown",
   "metadata": {},
   "source": [
    "Here's how:\n",
    "\n",
    "1. Let $n$ be the guessed key length. Try values from $n = 2$ up to $n = 40$.\n",
    "\n",
    "2. Write a function called `hamming_dist` that computes the [Hamming distance](https://en.wikipedia.org/wiki/Hamming_distance) between two bytestrings of equal length.\n",
    "The Hamming distance is just the number of differing bits.\n",
    "For example, the Hamming distance between `twelve plus one` and `ElEveN pLUs twO` is $30$. **Please make sure your function works correctly first before proceeding.**\n",
    "\n",
    "3. For each $n$, take the first $n$ bytes and the second $n$ bytes, and find the Hamming distance between them. \n",
    "Divide the result by $n$ to normalize it.\n",
    "\n",
    "4. The $n$ with the smallest normalized Hamming distance is *probably* the key. But just to make sure, you could proceed with the smallest 2 or 3 values of $n$, or you could take 4 blocks of $n$ instead of 2 and average their distances.\n",
    "\n",
    "5. Now that you probably know $n$, split the ciphertext into blocks of length $n$.\n",
    "\n",
    "6. Now transpose the blocks: make a block that is the first byte of every block, and a block that is the second byte of every block, and so on. For example, suppose we have the ciphertext split into blocks of length 5:\n",
    "```\n",
    "QWERT YUIOP ASDFG HJKLZ\n",
    "```\n",
    "then transposing these blocks will yield five blocks of length 4:\n",
    "```\n",
    "QYAH WUSJ EIDK ROFL TPGZ\n",
    "```\n",
    "\n",
    "7. Solve each block as if it was single-character XOR. You have code to do this, so go use that.\n",
    "\n",
    "8. For each block, the single-byte XOR key that has the best score is the repeating-key XOR key byte for that block. All you need to do is to put them together and you have the key!\n",
    "\n",
    "As before, you may implement additional functions of your own."
   ]
  },
  {
   "cell_type": "code",
   "execution_count": 24,
   "metadata": {},
   "outputs": [
    {
     "name": "stdout",
     "output_type": "stream",
     "text": [
      "30\n"
     ]
    }
   ],
   "source": [
    "def hamming_dist(a, b):\n",
    "    if len(a) != len(b):\n",
    "        return b'' \n",
    "    return sum(bin(byte1 ^ byte2).count('1') for byte1, byte2 in zip(a, b))\n",
    "\n",
    "\n",
    "#test hamming distance\n",
    "print(hamming_dist(b'twelve plus one', b'ElEveN pLUs twO'))"
   ]
  },
  {
   "cell_type": "code",
   "execution_count": 25,
   "metadata": {},
   "outputs": [],
   "source": [
    "# if your function works properly, no error should appear when running this line\n",
    "assert hamming_dist(b'twelve plus one', b'ElEveN pLUs twO') == 30"
   ]
  },
  {
   "cell_type": "code",
   "execution_count": 26,
   "metadata": {},
   "outputs": [],
   "source": [
    "fin = open('encrypted.txt', 'rb')"
   ]
  },
  {
   "cell_type": "code",
   "execution_count": 27,
   "metadata": {},
   "outputs": [],
   "source": [
    "b64str = fin.read()"
   ]
  },
  {
   "cell_type": "code",
   "execution_count": 28,
   "metadata": {},
   "outputs": [
    {
     "name": "stdout",
     "output_type": "stream",
     "text": [
      "Possible Key Size: 2\n",
      "Possible Keys: b'ne'\n",
      "Decrypt: b'tLUD\\x0fXR\\x17:*P$Hmg is<aT-ne\"ms! hceLdl se} \\\\dkz+h=2i~reNcecanseI-fx*,t1\\'y4k\\x16\\x06\\x03CHONUi7\\'T+mh1ilo)\\x19\\x06\\x03NARNAnBU,nEsetb\\x7feAihr --,\\n=7:~<-i0:*k\\x16\")Jap}n\\x1a`nq&x=+o~:-Yzl beyn\\x1aebd+\"=\\x0cn*n-],pear<-\\x0e=+&~<=,t*m$K,aere<aTi\\'o!y=&o\\x7fv!\\x18{hlk ho\\x1ads8nMs! yu(],yeoppe\\x1azfz%iyete:,L\"\\x03\\nThy Chfdneneneme\\x15=;,00,\\n0CFD\\x1cMI\\nR0:\\x11Pig it<gUy\\'a/~p r&:6Wal icyb_\\x7f`enax)to~i\\x18e} be\\x7faWh\\'w ,t6lkt!\\x14,hnd roM-s~+~xbs*v*L\\x7f)of hr_ht6,i~$uy\\x7feQx.s w}rWhu8D\\x06I-e*c Y~)is roM-*\\'~ -u0\\x00\\x10\\x0by^[ATON:\\x1a^h:nbr2 ~r Ji.s pyoJab6!b=1ho:,K`hnd }n^-s~+u:7e*x$Kejalle Ibubnc{ehkt\"Qbn ouh Sc\\'t+xj ed:1Pi)mourt[dieni|1id}eVy}s ozf\\x1ayus+\\x7f=$nn:0Kegg tte\\x1aafb+\\x7fietoy-Vceogy2 vdlsn\\x7fi*noieYbm boklI#\\r\\x1c\\x1adxeseo+\\\\,ff a<dUbut+`qecbs(]\")The<y_lu6\\'\\x7f=+o}:h\\r<9.\\n\\nSUn^NR\\x0b,J\\nRF^e\\x10GFREA5:\\x1aInx),y*nm4O2BHRRAHOh7\\'_:+netb\\x7feWy}sidy Mbuz* =$nn:1Pip haje\\x1aybu&br)omce^~fm tte\\x1akrb;~xi fs.],{ealpy\\x1ajhy*,p tkveYbm cr}zC-u\\x7f-i=#axw6\\x19\\x06Gow,<yUx\\'u/b=(aa\\x7feY,eot sf\\x1a\\x7fnu+,o afv<\\x14,{ealpy\\x1a|r\\x7f-gq<.\\x00N-Yx)mears\\x1ada67cheo}teLdl fanm\\x16-~y;,r2n*{eTc} of<fUbc:n{u,cb:,K,zomehhSc`6+zx7yhu!A,geedo Nb\\'e;~k,vo4ekc% th}t\\x1a`f}+\\x7f=<o\\x7f:.Qbn.\\n\\n]s\\x1aGff/b=\"e~ie[cgquene^!\\'b&i=<ekhe_cls fnoW-*%~<=1o*(q\\x0b\\x06\\x03NARNAnBU,n^t&e*|$Ja`ng }n^-u\\x7f-i=.id}!Waz spne[i\\'w-~r6s*n-],eand<aVa\\'b&i=2as:1W,aere2 neb6#cn1 cw5W~}ant<kSc`r!anewoh \\x18dlre,<h_\\x7fb:ndx7e&:-]~l, hyr_!\\'~+~xi kt!\\x18dlre.<BOy+6:dt6 et \\x18{hs tte\\x1a`he:,p*s~:,U|frtart\\x16-uc\"iyebs:$\\x18.aeavynVt\\'e;|x7poh6Wb%\" on _`ws<coefeheKdfrt.<KTbd}ngs*ca6e_i} thy ^bhdb,t1\\'y:7]``gior.0\\x07S~+,d ax:,K,gow )9\\t#\\r\\x1c\\x00MO\\x17A^U\\x17\\x02,]he reM-wd\\'b~  }{+L\\x7f)evenyUcb6:c=1rs:1Pez hoh Thp6<iq,gcu+\\x18j{om ^a_fms`\\x06\\x17\\x15RCT\\x06},ZHOTSKo7\\'F\"i|6e*n7A,}his<r_anq\\'csk.$\\x10OvM[RATSR\\x00-)8`,u  y{,\\\\\"\\x03\\nJALAtHTSt,S*!\\x00\\x10\\x0by^[ATON:\\x1a#)8=mt! ol Jukody2\\n0]U_\\x00OXeSBU\\x11wG\\\\: Tny\\x1ads8`\"\\x17ONKH\\x17yXFR: 2.\\x14-osn\\x7f|,d$\\x10OrMYANEOE\\x00-Iy`\"3O\\nD[\\x17jM]OR:<.\\x14#\\'e/eyee|\\x7f7Anfdy }g[di:n}h,e~\\x7f7\\x18xais hiWh)\\x1cDXu  s\\x7f$J,`s nsw\\x1a;7\"`\\x06\\x17\\x0bAXH\\x04lC[: Ard\\x1a~h:nxu  x\\x7f)Qk`on kaI-wc:,t+te:5Tmje ard\\x1alkznxu  xo)]\\x7f)thah Yljsn{t1h*s1\\x16\\x06\\x03The<y_lu6\\'\\x7f=+o}:s\\x0c9\\'\\n\\nN]RhLSY\\x1c6=\\x11hoti\\x18xae gsv_\\x7fi{+biewkieLmben sv_\\x7f\\'t7,|+o~r J,jliqie\\x1alirnxu y*w$\\\\i)somy Hhay<anelcq \\x02,dakirg\\x1ayosnkr3ext(]b} gojeHc\\'{!~xi kt!\\x18ahkin{ Neb6)ck rdw Vx)mory VdlsnOu,nk=6\\x18kfverrm_cs:n{u,cb:,K,h gojeHcjs x=1hkne_c\\x7ferno Wbus`\\x06\\x17\\x0fAZ[\\x0b\\x02,Ai, _hScf8D\\x06S\\x04RX[\\x11w^3 ..2 Nebon\\x7f|,d$\\x10O{D@NA:<HS!\\'r\\'|n-i~4O2BHRRAHOh7\\'8`\"n$in:\\x06Pega.\\n\\x16J{]FXt,^$n*c*M,jall<uI-ty#ii-id}e]`ze ohh_\\x7f\\'b&msedcj6Pe}?\\n\\nRAh_FB\\x01^\\'e.$4eKm`d J}p[c)\\x1cDOU\\x0cNK etebe wtaN2\\r\\x1c\\x00MO\\x17A^U\\x17\\x02,\\'.. oaSi\\'U&es$.\\x00\\x10\\x0fy\\\\HN: ToM-ft!yies\\x7ft7Q\\x7fl lard\\x05\\x07\\rX\\x0f^O\\x04TEH\\x7f\\x18\"\\'. s}i^-Mw>msk\\n\\x00T\\x04j^HTOR& {cc6:dx< yn*Ti)Chira\\x1d~\\'w\"|u$boneYbm wrst_-f6,cr..$4O2Xae yyaH-nenbr2 =+t\\x16\\x06\\x03NARNAnBU,n\"3k kx*Mx)theqs_aqs=\"=\\x04nn:1Pig thyy\\x1a`fr+,q*ty:*^,yoetny\\x1alirnmo1 kt!\\x18mgothyr\\x1aohy%\"3k\\n\\x00N-],pear<iI-iy9,*w0$\\x10OvM[RATSR\\x00-)8`,|\\'o\\x7fneLdlmsepv_~)\\x1cDMnetb\\x7fe[myitap Uk\\'\\\\/||+ m\\x7f1K,dovex,\\x1ayosnux$r*}*]\\x7f)froq \\x0f876:c=r434O2BHRRAHOh7\\'B&isi ~r A,ztople^-jy8es\" ~r \\x18ohpit}l\\x1ahqs<u=1ig\\x7feLdl emleHbu6*ex!,*{+\\\\,bept<iN-nxncs  zv$[i)for<a\\x1azo\\x7f\"i3eRc}-L,aere2 {cc:nxu y*y*V}|erex Neb6 co1h&:#Qbhlly2\\n0Yosnux$r*s6\\x18bfw 8,20\\x07IW\\x1c^\\\\\\x11OX e\\x7fi} th}t\\x1a~vc/~x! km$A\"\\x03\\nThy Chfdneneneme\\x00<=\\n\\nN]RhLSY\\x1c6=\\x04 xs&P,aipsheH-iw#iyeK\\x7fq$Q,`s bsr_i\\'a\\'xueme~ Jb)BudxhS~j:nzt6i~ie{d`na,<aTi\\'z+mo+s*{eZi}ter<v_\\x7ft\\x7f!b=2hcy-\\x18ez mone\\x14#)\\x1cDOU\\nR_I\\x7f\\x18\\x7fyirihu[a&\\x1cDB\\\\\\x17RKN\\nj6)...<cU`benn|&k&:7]egvenhs\\x1ayosnmq5hkx L,hnd \\x7faO~benmo1 kt!\\x18``ter}tO\\x7fb6:c=\\'e\\x00\\x10\\x06pC[US:<gHhfbo\\x06\\x17\\x0bAXH\\x04lC[: .2.\\x1akhdnm=)od}eLede. ]n^-s~+,o*ykveHmeace<tO\\x7fis*,t+te:6Moa a xr_lj69co)d*u#\\x18m{t ttaN-s~+u=7ekv)A,midn;t\\x1ajn`+,|esbs1\\x18mkout<rOci\\x7f k=1ho:&Wygtry2 ib+6\\'j=<o\\x7f:)Qzl ouhsSib6:dxepkv$[i% hok [\\x7fb67ches\\x7fj5W\\x7fld ts J\\x7fhb+oieyeo7\\x18\\x7fait zrU`\\'u<ep,nkv6\\x07\\x06\\x03CHONUi7\\'^\\'~xea*i$Uy{ai.\\x16\\n{~\\'b&i=6ago7Ye)filp plww  =1ho:<]m{ goys\\x1akuy#,,u0=:1W,8042\\x16\\ntLUD\\x0fXR\\x17:*_3]~pone<sNlub+h=-ixs+_,zamunaS#\\r\\x1c\\x0f,~*rx\\x7f&Lefn bsx\\x1a}hf=,h5\\n\\x00T\\x04j^HTOR& hdd~nep5oxn$Vx)peoll_-o\\x7f<iyeskw0Jm`. PsoH-ws!|q  }r*\\x18ofuld<nUy\\'w(jr7d*n*\\x18d`re oaWxuw\\',y,d*t*L,aire<s[`rd/e3eTb\\x7feKmdurau Xhdw#i=*rm{+Qvld ard\\x1a}ha+~{0l&:(W~l pokeHkrznxu$n*n-],novennWhib`,N*,*n-]u)mady Neb\\x7f<,r2n*w,Te}ary<gU{bd ax+t*r Ji\\'\\n\\nTte\\x1atbw<,t6 du2\\x18=892\\n\\x16N{_UW\\x1aCO\\x7f ^r A,eet hh_-b{>io*r*i1Q`e be<\"_`ws<coi\"*x0L,}he ohUjrxneneain0Y`ey ir Ybib<cqk\\n\\x00N-],pear<iI-iy9,,w6<\\x10OvM[RATSR\\x00-Ed+mv,nm:\\x0b]{z: Tte\\x1a@hx)cq6 b{3],`nvaxe^-D~\\'b|k\\n\\x00W\\nvKFLS:<W_*qsnes3an\\x7f!\\x18Oaina2.\\x14\\x07\\rX\\x0f^O\\x04TEH\\x7f\\x18\"\\'.saud\\x1ayosnAr+gev6\\x16\\x06\\x03MON[Ov^=6\\x1e`x$so:7]\\x7fyect<uI-hdniq6e*m \\x18a`ght<iT{fr+,d*u*{6\\x18{lll.>\\n0GFF\\x0fB\\'eOa{<\\x16\"\\'\\n\\nTte\\x1a~hc h=*f*o+Kdlathun]-ta!~y6\\n\\x00T\\x04j^HTOR& \\x14#)6=mt! @{5Yb\\'\\n\\nTte\\x1atbw<,t6 du2\\x18=;74\\nRAh_FB\\x01^\\'eSe6eLdl MorgUat6-mp  el J,{eade \\\\bu69moead~e\\\\eld ir [-sy<b|!o$\\x10\\x11Pi)yean S~\\'x!{=t22+O2BHRRAHOh7\\'T;x1etb\\x7f<\\x18x{ied<a]lnxnms! b{!\\x18m)nicy Ndjsnjt\"h~s+_,~ith<tRh\\'\\\\/||+ey\\x7feZy} thyn\\x1ains*,t+ k:1W~gado2\\n0Yosnux$r*s6\\x18bfw 1/3\\t\\x07\\rX\\x0f^O\\x04TEH\\x7f\\x18Xaen hh_-b{>io*r*u3]~}hroks\\x1ayosn\\x7fu*g\\x7ft$Li\\'\\n\\nTte\\x1atbw<,t6 du2\\x18=:36\\n\\x16N{_UW\\x1aCO\\x7f ^r V,}he ohUjrx/xxeo|\\x7f7Ld{ows<hS`\\'t/ovead~eUc\\x7fes ho\\x1aF~y:c=$nn:(Ygls a<n_z\\'e&cz0nkn \\x16,Hnd hh_-b{>io*r*y$V,ztilp ^\\x7fbe=,q,ko:$V,lmpenoH-npndxewkt1K7)thah\\'I-a\\x7f i3O\\nIR\\njYZ: Nsw\\x1ayos<i:6 gu7],hrt!\\x16\\ntLUD\\x0fXR\\x17:*4k\\x16,eike<p[dib\\'bzewcn-\\x18`lss \\x7foVbueb,~*lf{\\'W~htivy Jbbb<u1epf{<K )monweC-ac  =1ek:5Y~}ies0 ]lur+bt+g&:$Joaite\\x7ftO\\x7fb:njq*woh6\\x16\\x06\\x03A qiiYf\\'t\"mn1 e|eY,aorn2 neb67i|7 cieVc~ 14*4\\x14\\x07\\rX\\x0f^O\\x04TEH\\x7f\\x18E}\\'s hiWh\\'p!~=gWbubK,noin{ Nb\\'t+,i-e*t @x)sho{uT2%6\\x1b\\x7fh$lfci\\x18e}\\'s hh_-t~!kh+\\'y:.Qh% buh Neb6=dr\"ud:!Wizn\\'t<h[{b6/,v,d&:6W,ae tni_~\\'b!,z t*r,K,krotteH-syn}h,t*x Qbn a qoTf\\'w h=\\'e*n-],gext<sRb`c \"=\\re*i$A\\x7f\\'..\\n\\x16AiEN]\\x0fK\\\\eTEI\\rqA@: OwaC\\x07\\rX\\x0f^O\\x04TEH\\x7f\\x18N|t tteT-s~+,n-omo+\\x18dhs a<kSi)6\\x1dc1enemeOdf\\'s ut\\x1ajhx m=\\'e5:\\x13Wxl nok Uc\\'o!yoepbu+]\\x7f\\'.. ]n^-b`+~d*no:3Wxld ss Rlurnxu$t*n-],yala\\x7fe\\x1anfc)dieod:#Q~l anx Xxux+h=!o}tk2\\x06LxplssSbi6=ch+d\\x00\\x10\\x0by^[ATON:\\x1aYosn\\x7fu*g\\x7fteYo}ualpy\\x1ainr +ieckh \\x16,Ae w}s\\x1abapn\\x7fr(e}r Ji)doirg\\x1a}hs:~dk Kt!\\x18xae wtoVh\\'u!ys1rs:\\'Jcbe ts Jdbu+\\x7f3O\\nKiermyan ~r_lleb,i-e*c Y~)goeo \\\\\\x7fh{n=)s7*n*\\x18=<03\\n\\x16N{_UW\\x1aCO\\x7f Ol Jufne us\\x1aknq&xt+g*m,Ld)eact Uyos<,{*r*v*[me pokeH-fx*,t1\\'y:$Vukody;s\\x1ajf{+\"\\x17OE_H\\nhI3 KnscQ-lx!ovk\\n\\x00N-],zounx Uk\\'e!ax*no:.Vcjkin{.\\x1aLt6/,n-iz:$J~`ves<tU-Mw>msi ~r \\x18ular {o_~\\'p<cpe1?.q\\x18xf 15*10\\x07IW\\x1c^\\\\\\x11OX eqx.s EirU}b8nBri ~r A+{e nst\\x1aebd+,i* ~{.],fver0 Nebonfh6t*m$Vbh sepl\\x1a~h{+,n-i~:)Qgl clscQ~+6/byeg\\x7ft6\\x14,hnd.2.0\\x07D^\\x01^H\\x16:*P Kyz!\\n\\nRAh_FB\\x01^\\'eSe6eLdht\\'s<cUbk:nnh1 ol Jufne\\'o Iynz\",{,gbn,Vk)eact Uyos<,{*r*y*Vx{ol,<nUz\\'a\\'xueg\\x7ft6\\x19,Hnd koOacxix=,t*x \\x18b`ce ho\\x1anhx:~r) ~r \\x18ohpit}l\\x16-p~\\'oui xs\"Px)now0 S~\\'f;|m ty:2Qxa no<oTh\\'u!bi7ofv,Vk)theq?0\\x07S~+,d ax:,K,gow -5\\x0c=)\\x1cDB\\\\\\x17RKN\\nj6)Thio Yafxnenero{!A,}o m}k_-f6<ysefeheQx% buh \\\\due:,i-es:-Yzl to<tHljf\"i=1hcieKahllen Yafxn{u,cb:,K,`n tte\\x1azfo`,N0rzh,Ki( Thy I`fz\"ioecf{+\\x18{`ns.<ATi\\'b&i=)ek~ J,ff ttaN-dz/b=6to{)K,}he ud_l\\'y(,t+vk~,Vk)the<c[}nb/`=$nn:,Vzhdes<tRh\\'u/|t1af4O2Xae yyaH-nenbr2 ;/s\\x00\"\\x03\\nNANR{YHDt,\\\\+d*s1\\x18kfes jeHt\\'a+`qk B\\x7fbK,hbouh Rlkp9mdetbh*Mka corqOhu\\x7f k=\\x0faz{+\\x18{aen ooWhhx+,j-o*m*Jgz fon Rdj6%eq)s*r,U\"\\x03\\nThy Chfdneneneme\\t912.\\n\\x16N{_UW\\x1aCO\\x7f Kt!\\x18xaen ooWhhx+,x)so:2Pc)worws\\x1akhdndt( as)T\\x7f)theq.0Lirnxu$t*}0A,oinioh_~\\'u!bl0exs+_,Capar.0\\x07S~+,d ax:,K,gow -5\\x03=\\r\\x1c\\x00MO\\x17A^U\\x17\\x02,Hnd hh_c\\'~+,~*nls6[m}ed yv_\\x7f~t!hdbs*i2W~ms ard\\x1a`fr+,n*mo:7M`ls.\\n\\x16N\\x7fZ\\'E\\x06CZ\\x10N0:gybm nok s*j6)ct+g*n*\\x18egvady qbus/ =$nn:1Pig hole\\\\xkz7,^-id{i\\x1a,ae s}i^!\\'w h=#acv \\\\ )and<aV~h6*ex!.\\x00\\x10\\x11Pi)yean S~\\'x!{=t53\"k2\\x06GARR]Tu_=6\\x0cyiebo|*Ji)he xi_i\\'~+,i*ln:1Pize fuv_-`c7\\x7f=1o*n$Si)cary Uk\\'~\\'\\x7f=#i|\\x7fhAihr-opd\\x1a~hxnys1if:-]+z olx _chc)d=1o*x \\x18xae nyxN-uc\"ioeol:\\x0fY|hn. ]n^-s~+,{,vo:\"Muz saud\\x14#)\\x1cDJT\\x13E*]\\x10a_3 Ye}h\\x16-u\\x7f)dik CnbK,got {oTcf6,i=1hcieSem. Ihs\\x1ajhx m=\\'e*u+],ff uo.\\x1a*Dw;\\x7fxewo=7],nrowruJ~)\\x1cDB\\\\\\x17RKN\\nj6)And0 Sy en|o*bkx)A,nonn} Xh\\'b&eneg\\x7fceOdf halp_ct6:c=\\'e*m$A,dore<rSno6/byepem Jj|l ttaT-s~+,r1hoh6\\x16\\x06\\x03An um[jb6!j=\\x01od{)\\\\,]ruml S~\\'e;|x7igj*Kim ovyr\\x1ayosnep$go:*^,}he ooUc*b!!\\x7f  d\\x7f2\\x18\\x7faogur.0\\x07IW\\x1c^\\\\\\x11OX ey,eot sf\\x1a}by>`xes\\x7fj5W~} hiq.\\x1aOrbnm=)o~:*^,yeoppe\\x1a~rf>co1 du1\\x18\\x7f|ppontSc`6&epk\\n\\x00N-],pear<iI-iy9,,s0:4O2BHRRAHOh7\\'B&idehkl \\x18m)figtt\\x1alirndxewct6\\x18mgd shaHyt6/,s w*}*Ni{nmert\\x1a\\x7fnq&x=-ex\\x7f\\x7f2\\x06]he ee[\\x7f\\'\\x7f=,s*w*+s\\x08?\\x03\\nCHSRo^=6\\x0bhrd\\n\\x00T\\x04j^HTOR& {cc6&i=6tcv)\\x18`lts hh_-b{>io*r*~7]\\x7fz liwe\\x1ali6+am reheYbm haje\\x1a{bd7,s,co:1Peggs.<BOy\\'r!b:1 m\\x7f1\\x18ofnfuoe^#\\'B&eneiy:1Pi)new<gU{bd ax+t&:$Vh)thee [\\x7fb68io< yn7Qo}. Ss Iyu\\x7f-x1etb\\x7f<\\x18oeosex Neb6-ch+txck2\\x06]he ee[\\x7f\\'\\x7f=,s*w*+s\\x0b5\\'\\n\\nN]RhLSY\\x1c6=\\x0bo*u+],jan pe[{b:nms! dueWbl car Ybjsnesi ob&]|} fon Neb6\\nyi&h&:,^,}hey<w[ciwnnh< yu(],zhit2 xxs6:dx< b{3],}o ds Sy\\'d\\'ku1 b\\x7f7]\"\\x03\\nThy Chfdneneneme\\t:?4.\\n\\x16N{_UW\\x1aCO\\x7f Du2\\x18xaat hh_-bx:eo  iu0Vx{y w}s\\x1achbnmiewkheOe}h ihs_aa:nxu  zu5M`htior Scdd+mn d*{eTc}. BisScbe=,t+cx\\x7f$Kim, s\\x7fhUbken{x7e*x0Q`}, rsa^~\\'a+~xeb\\x7fs)L )evenyUcb6\"i|7no~eLc)reax,\\x1aohy%\\x7f=2ex\\x7feHykliste^!\\'b&io  }{6\\x18|fetre,\\x1a}kw7\\x7f1esob<\\x18x`mes0 Jxwf+x=6hem6\\x14,hnd XuNno6=xh!ioik2\\x06]he ee[\\x7f\\'\\x7f=,s*w*+r\\x0b9\\'\\n\\nN]RhLSY\\x1c6=\\x15eej)],ztarhe^-syn\\x7fi0ds:\\x00M~fpear Inns oxefxu(\\x18nfoks<tRh~6,ch\"h~:#Jcd thy ~xsu&\"=\\x12e-h \\x18xhlkirg\\x1ajby)~|5hs6eKglletsnI!\\'f&un,cy6e[dlmishrC!\\'w=xo*new<\\x14,hnd qaCob6+zx+ ov [x{icihy\\x14\\x07\\rW=,i-e*_&Wbfmic<&\\x1aNrz:yo$l*J7W\\x7fyerihy\\x1aibu<i|6ey6eLdl ye}r\\x1ajhs=,{7og:t\\x0f5: to<1\\x02858D\\x06S\\x04RX[\\x11w^3 Ovyr\\x1ayn{+,i-e*\\x7f&Wbfmic<aTi\\'u;`i0rkveH~fspeniNt\\'t+k|+ ~ue_~hduaplC-tz!{=!o}7O2NFNUS& |bu6/,~-ady \\x18xf geh Neus+,x=tx{eHc`nts<fU\\x7f\\'b&i=+ernePcdewonk\\x16-js=\\x7f|\"e*w \\x18cg Carv[~\\'a\\'xueyeo7\\x18mgswen Nb\\'b&i=4uoi1Qcg \"Io Qhsu&ymecet6Qhlred<jOddsq,J-y*u7\\x18{ay nst\\x05/\\'e:~t&tfceWb)or ~e\\\\busnxu  n\\x7f$\\\\``ne sf\\x1ayo\\x7f=,u*mom*Jg\\' If<yUx d+,i-e*u+Tu)one<iT-s~+,~)ayieLdht arsMhuenxu,s*k0]\\x7f}ion0 Uckonur0 }s)T,net hh_-s~<ixeern7Y,yoinhs\\x14-Npnie$c~v<\\x18\\x7flven<o\\\\-~y;,t+ ~r \\x18oeass<aT~ps<,i-iy:4Miztior,\\x1ahqs<ur+e*} L\\x7f)one<eByuwn|r,n~4ewxaerwus_!\\'x!,r+e*m,T`)get<tRh\\'s6xo$ zu,Vxz. A\\x7fkTbpz+hz,nm:1Pm} thus\\x1aohx;\\x7f= xci1K,}o tte\\x1ankw=\\x7f=2ifve^c{feih Nenennr+uy:#W~)the<eTynd+,~)ayii\\x18\\x7ff be<c[\\x7fbp;`<O\\n_T\\x0clIM ST]T\\x7f^=6\\x05br&k*q+Wob! Ih\\'I-s~+,H+i~\\x7f!\\x18_}ateo.\\x1aZnb&,u0go:\\'Wm}s, kiNe\\'q;bnk Mo+Zchts.\\x16\\nwLSB\\x06IJePOH\\x17a,!UNIHE~-TB\\x0fXX\\x16)0:\\nHig thy Ybrx:~dk Yn*H,aavirg\\x1ads6,i=&lei \\\\\"\\x03\\nNANR{YHDt,3k.*i$Qh)the<UTdss*,N1a~\\x7f6\\x16,]hery\\'I-us/`q< du1Pegg tteC-dy;`yede4ekc% thyy\\x1a~nq iyea*y*Vx{act<tRls6\"ii6 ~r \\x18Ygitex iyfb+\\x7f1eBxs1Yeg, ard\\x1a_re=e|evci,L,Capar [c~b\\'axetb\\x7f<\\x18{hnt.<CRbt~;,|+d*I$L\\x7f|ma taNhc6:dt6.\\x00\\x10\\x15jC_INCYS\\x1aBA6\\rDR\\x16H_:c\\x18_HTSUQA\\x00-S~/x=6uiq6\\x19\\x06\\x03NARNAnBU,n\"3k ~r A,zaid2\\n0]UY\\x18ES\\x06EY:\\n~,JHOSTU\\x1a+\\'E\\x0fXN\\x10MK eld`s sicQ~&\\x1cDXu  s\\x7f$J,`s nsw\\x1a<? v\"\\x17ONKH\\x17yXFR: ]n^-p\\x7f:d=$lgu6L,\\x7fery<lSysz+,r0tys!],aelp0 Nebonck r~r7]{)the<sRb`c mi ,*{+\\\\,zometoM-jw*i=1ho: U|lror<tRh\\'s#|x7ox:$_m`n, }n^-jy8iyehcweLc)Edo0 Menu&,i-es:7]bhmed<\"\\x7fltb+~seckj,Lme.\" Hh_t\\'{/hxea*t O,novennWhibn{u,cb:2Y\\x7f)a lst\\x1a`hd+,J s~\\x7f7V\")Thee Wlcsnm=+e}:&WbztititSbi6:d|1 }{6\\x18|{ette mhtb+~sk Kt!\\x18m)milut[\\x7f~6:d|1 }{6\\x16\"\\' prytNt\\'A+\\x7fi rd4e|c)you<kTbp69d|1 ov6],`s WysNhuxq,I-a~=6\\x18~`ght2 sy enor+q\\x7f\\x7f7Qbn stif\\\\#\\r\\x1c\\x04MM\\x04N0:\\x16W )whah Yli69i=&odk0]~6 Kone[,\\r\\x1c\\x1adxeyo{7\\x18ez nok \\x0b5>\"`\\x06\\x17\\x0bAXH\\x04lC[: TteC-dy }h r*Q*Jih, t}kSc`6\\'x=#reweQxz pryvSbrencj+ex6e{d`na,<aTi\\'b&isege:$\\x18``ttly Xds6(yo1hohk\\x18Mgd RisIdf6<yn-ey:,V,fut sf\\x1acha&io  kt!\\x18\\x7fhys:\\x16\\nhXTE\\x07M\\'eS~u5\\x14,go, eoO-dw +ietkq \\x18xaat.<W_-ps<i=\"odt$\\x18n|ilt<a\\x1a\\x7ff\\x7f\"~r$d*n-Jc|gh teHh\\'b!,i7y*n*\\x18klt ssm_-pw<a=2a~\\x7f7\\x16\\x06\\x03The<y_lu6\\'\\x7f=+o}:t\\x0050.\\nN]RhLSY\\x1c6=\\x04nn:\\x17M\\x7fzia ~uSacenxu ix:7Yeeroax,\\x1a~rf+~k,so~eZu)a stiN sy ,r# yu)\\\\elrs.<ATi\\'b&isewb\\x7f+\\x18xae r}iV\\x7fhw*,j$s*~*Vi% thyy\\x1aiha ko$do~eLc)a ficQ sy \"=\\x01in:\\x0c\\x18\\x7fhy dswTjuw*i\"eI*w Yb} up{r[ib8nMs! @{5Yb)sayo:0\\x07MW\\x1eMS\\x7f I{+\\x18ufu m}yXh\\'u&eq)?\\x00\\x10\\x0by^[ATON:\\x1aLirn^h6sc{eKmps:\\n\\x16Ro^T_\\x0f6=\\ro}:$Zc|t m}yXh\\'o!y=&hcv)\\x07\\x06\\x03NARNAnBU,nF|5ad:,K,bind} Infd+h=*f*H0K\\x7f`a. EoO*kznbx3ex:\"Mizs wto\\x1d~\\'w\"\\x7frekct!\\x18co sc}r_i\\'y(,O0sys$\\x02,Nreah x\\x7fnb/esd\\n\\x00N-],pear<iI-iy9,,|084O2BHRRAHOh7\\'E! =\\x0faz{+\\x18mgd Gne[y\\'T<ei$id:(Ygl an<aVanw oxete} Ldlr ss Nebono|+ h\\x7fe\\x1am)lithl_-ks=\\x7f=6ckh \\\\,ff RisIdf8l\\x06\\x17\\x11ho:<]m{ is<nUz\\'\\'w<)k\\n\\x00T\\x04j^HTOR& |hbz\\'bzecet#Qhlnt,<J[}fxnkr s*n*\\x18{hr a{aSctbn^h6sc{i\\x18f|st zoH-f6#cp n~4eybm thyn\\x1ayos7,\\x7f*tb:\"]x)tiryd\\x1alirn\\x7fi*p$\\x10O{DFRUS& sy enxt(e*|*J,^orlx mlu6\\x07-\\x17OTb\\x7feAihr io Tbp6\\x7f5,q.\\x00\\x10\\x0by^[ATON:\\x1aYosn{r7ln:,K,hbouh Nb\\'~/zxea*m$J,kecais_-nbi\\x7f=1ho:t\\x01<9s ard\\x1azbw>cs6 kh \\x18klttirg\\x1anuw4u=$nn:$T`)theoe\\x1ahjf\\'~x6 kh \\x18iqcityd\\x1ayh6:~detb\\x7f(\\x18c|t or _ld~nci-ex4euihnwhul_!\\'\\\\/||+ b{6\\x18nlen ynPb~\\x7f k=&odk0]~`ng otOka6/byewkt1K\"\\'.\\n\\nVAjLI,n\"3k Gu7]-\\x03\\nNANR{YHDt,\\\\+d*n-],gext<tRdiqncsetb\\x7f,J,eist<iI-s~\\'\\x7f=5axneWj)Chira\\x1alirn`r1s*u#\\x18x`ny usVlir=\"=\\x04lf:1Pm} stif\\\\-es\"cs\"s*n*\\x18Klrmary\\x16-p~\\'ouej\\x7fi1\\x18dhd w}r\\x1aibu\"mo d*u+\\x18np Brut[di6,i~$uy\\x7fez~`tair Mlt6(~t nnieOe}h Byl]dr{b,j-iireOmz beun]-sd+\\x7fm$sy\\x7f!\\x18np Genm[c~6\\'b=*rn\\x7f7\\x18xf geh Nb\\'P<ms&e*n*\\x18g`ck Zr[cdsi\\x7f=$sy:\\']ohuse<FHliu+,j$s*|7Qigds kiNe\\'D;\\x7fn,a&:2Pc)was<g_ys\\x7f k=7ek~<\\x18xf ki\\x7fk\\x1aLre:~t$\\'y:$K\\x7f)bec}uIh\\'W;\\x7fi7ik:2Y\\x7f)gethiTj\\'d+my< ~ueSejk SyrXdf1=,|6s*x [m|se ooWhhx+,{7og:\\x16]~kia ohUy\\'b&i=)ek~ J,ff AisN\\x7fnwi\\x7f=$sy4e\\x10C{, a\\x7ftOlkz7 =-e*i-Wx)him<iT-s~+,u an4l\\x18Mgd BniNlnxnenec\\x7fh7]b}ly zrShir=,j,tb:\\x0fY|hn. Oo\\x16-~y;,v+o}:2Pm} th}t\\x1a`bw \\x7f3eD\\x7frd2\\x06JHORIS\\x00-Mw>msesbu0Th)taky Neb6\\'\\x7fq$nnid2\\x06GARR]Tu_=6\\x19dt&h*s6\\x18{aat hh_t\\'a/bi d*n*\\x18hf anew[t)6\\x1dc1etb\\x7f<\\x18ohllex x\\x7fnb/eseod:1Pi)\"tepe\\x18-syn\\x7fr7t*u#\\x18`lt tteW-lx!{3eAd~eLdln tteC-c\\x7f*,t1.*[+\\\\,}hey<aV~h6&iq5en:\\x07Je}ain<a\\x1aanb:`xehoh \\x18mgd tteHh\\'a\\'xuesew \\x18i{ranxs\\x1alirn\\x7fi0fl4O2M)schsoVobz\",o,nmik\\x18Xae yyaH-nenbr2 ;#t\\x01\"\\x03\\nNANR{YHDt,S*w*n-],~ar us\\x1abqs<\"=\\x04nn6e[cggrahuVls\\x7f!bneJkj$V-)You<t_nox\\'o|)ls:#Wynht un\\x1ayosn{|7,*m-Qoa me}nI-~y;,z t*n*\\x18\\x7f`t ah Neb6 iz*tc{1Qbn ta~l_-p\\x7f:d=1ho:\\'Qk)dudys\\x16-p~+~xetb\\x7f<\\x18hlcidyd\\x1azoyncj+s*m-Yx\\' Anx Cht:nF|5ad:\"]xz to<k_hw6/`qetb{1\\x18\\x7fait hh_t\\'e:cq  lh*U,Nerm}nC#\\'O!y=$lyue_i} to<jUdi6:dxepei1\\x15{hr myg[-fz\"e|+co O2OAORUO:\\x1ayosn@x$g\\x7f\\x7feWj)NatuoT~&\\x1cDB\\\\\\x17RKN\\nj6)Whooe\\x1a`ne=er+ yn$Lident<iI-synxo< du1\\x18xf tawe\\x1abqs<,i-e*m*J`m.\\n\\nHh_-~s/~=,s*t*O,89292\\n0CFD\\x1cMI\\nR0:\\x11Pi)Gre}t\\x1aIbf<in6ieteQ\\x7f)bad0 [cc6\\x04mm$n-ie]ofnome S~\\'x!{=&rkj5A\")But<tRh\\'{\\'`t1axceQ\\x7f)doirg\\x1agre:,{,no6eYbm it<iT{fr+\\x7f=\\x08ady-M~`a.\\n\\x16TRh\\'o+moeiy:+W{)193-.0\\x07IW\\x1c^\\\\\\x11OX eybm thy vhfq;i=*f*T$Lefns us\\x1aan}+6\\x17OLO[\\x02mI)OF RAnDHX\\x1d6=\\x0bo&:!Wb.t ds Nefb`,T# su0\\x1f~l in<tRh\\'Z+mz0e*u#\\x18Bhtiors\\x16-~y;+o  du1\\x18\\x7f|ppooe^-synx|.e*u3]~)the<wU\\x7fkro\\x06\\x17\\x0bAXH\\x04lC[: Ard\\x1aGff/b=6ac~k\\x16\"\\x03\\nCHSRo^\\'W\\x1d,W\\x04PKT\\x7f\\x18\"\\'.Hok \\x1dohc:,Tede:$Vu~ay?\\x16\\n{~\\'\\\\/||+\\'y:1]~{itony\\x1adiu<i|6ey6eLdl ye}r\\x1ajhs=,{7og:t\\x01?> to<1\\x03>>8D\\x06S\\x04RX[\\x11w^3 Anx plww ,t+vk~ \\\\,dore<aTi\\'{!~xead~eUc{e ard\\x1a`hd+,|+d*w*Ji)of _hScf6/byewkieH`hnnirg\\x1ayh6\\'bk$do:1Pi)entur_-bw=x3O\\nKU\\t\\x18OFMPUHEh-QY\\x07OX\\x7f Su0\\x1fzl goh Wlnz`\\x06\\x17\\x0bAXH\\x04lC[: Ih\\'I-ad!a=\\x02exw$Vu\\' Thy Thp6\"i|!ex:*^,Nerm}nC#\\'^+,u$s*{e[cfl misNld~+,|+d*s6\\x18x{yin{ Nb\\'b/gxeo|\\x7f7\\x18xae wsrVi\\'w h=+eo~6\\x18j{ienxs\\x14-S~\\'\\x7f=$lyue_c} fonw[\\x7fcs*,i* Cn$Tu\\' Thyy\\x1alkznhx&in\\x7f!\\x18xf be<fHdbx*\\x7f=\\'ei{0Ki)thee Rlc6=c=(uireQb)comqoT#\\r\\x1c\\rDR\\x17UY eqx.s tum_-ay<,J*rf~eom{ II=\\n0Yosnux$r*s6\\x18bfw 1%3\\x03#\\r\\x1c\\x00MO\\x17A^U\\x17\\x02,Nerm}nC-nenes3ans+_,}he reSjot!~nk ^r V,}hey<iT{fr+,i-e*t Qkabor;s\\x1acb\\x7f)d\\x7f*ry4eldln tte\\x1acb\\x7f)d\\x7f*r-ieVi`ghbsr\\x1d~\\'x+ez-beh6\\x14,~ho taJ}bxnxrebo:\\x07Je}ain0 Ilnr`\"3O\\nIR\\njYZ AS<BhDSW\\x07B\\'eHev<\\x18\\x7fait!\\x16\\ntLUD\\x0fXR\\x17:*[+\\\\ )the<UTdss*,N1a~\\x7f6\\x18\\x7f}artyd\\x1aebz>es\" Hh,Lm`n byc[xtsnxu y-h \\x16\"\\'\\n\\nCTOhXT6\\x0f_=\\x10NCN\\x00|,ZTATYS\\x00-@y!h=#rc\\x7f+\\\\\\x7f(\\n\\nN]RhLSY\\x1c6=k.$:$Vh)stant_i\\'x!x=-efj,Vk)Jap}n\\x1aobu/yn .$4O2OAORUO {^\\'C\\x00EI\\x00D*I\\x11yXLS: Hh_du6(~t nnieYbm oun \\\\\\x7fns hneax\\x7feVc} frueTit8n\\\\q0s&:1Pip\\'re<pVlix\\'bzeod:,Vzhdin{ Neb6+bi,ro:*[ihn.\\n\\x16N{_UW\\x1aCO\\x7f ^r \\x18Ygitex iyfb+\\x7f=,s*{)Kc)worwiTj\\'y ,|elkh\"] )vere Rx`snnr(b$:\\x07Qkner hh[c\\'w u=*tb\\x7f7\\x18nfmb,<eLhu\\xf4\\xca\\xae3eJ\\x7fi1\\x18eg caoe\\x14-Ec:,i-es:6Leel h}v_c bnfr,no~eLdl wan.\\x1aZfdn`r*ky:\\'Yh)on HV\\x16-fx*,i-e*O+Qxld ShaNht6\\'\\x7f=7ekv)A,ztarhiTj\\'b!,~$ro:$Zc|t tteS\\x7f\\'\\x7f#mz .\\x00\\x10\\x11Pi)yean S~\\'x!{=t9>+O2BHRRAHOh7\\'T;x=1hotermyan opSyt6!b=1howeQb)Haw}iS!\\'w h=&hkv)]bnes hh_`\\'b!,j$r$:\\x04Vh)thee Il~8`\"\\x17OUDS\\x11}H)STAHEi7\\'O+\\x7f<O\\nD[\\x17jM]OR:<ATi\\'b&iseGoh(Ybp, ao [-to#nr) e|e^~`endohS}+6*i~)ax\\x7f6\\x18{hr or Neb6\\x1bbt1en:\\x16Lm}es,<aV~h8n_ri ~r \\x18Ygitex iyfb+\\x7f=\"ooieLc)war<iT-Bc<cm ,*{+\\\\,}hey<h_aw6:dxegkt\"\\x18oaase<G_\\x7fjw u=\\'aiqeQb}o GyrWliob,|+d*n-]u)alss Iyfd:,~-ays+_,Capar Xld}nes1o*P$Hmg, ard\\x1ayos7,u$votbL,|sed<tRh\\'t!a\\x7feyoneYbm ary Yxu\\x7f!ynete:6]i)if ut\\x1azhd%\\x7f3eSe:1Pip drsp\\x1ads6!b=\\x0faz{+\\x16\\x06\\x03The<y_lu6\\'\\x7f=+o}:t\\x018<\\n\\nTteC-fu:y|)ls:!Jcy tws.0\\x07IW\\x1c^\\\\\\x11OX eldl Unut_~\\'E:mi s*s+Kxhllex [-is9,z*voh+Uigt irsJdus*,\\x7f< ~r \\x18Ygitex iyfb+\\x7f=\"o|\\x7f7Valnt kiNe\\'|;\\x7fietb\\x7feJenht un]\\x7fbr\\'is1s*|*J,h...\\x16\\nyEHD\\x1b_\\'epei1\\x15{hr e\\x7foTbj\\x7f-,p,rky)]-\\x03\\nThy Chfdnkr s*|7Wa)195- Nb\\'\\'w4-k\\n\\x00T\\x04j^HTOR& {cc6\\x04mm$n*i1Y~}s m}kSc`6\\x1aZni \\\\Y\\x17K )autsmUonz+\\x7f1ead~e[mdcorxeH~\\'w=,{$s~:$K,}hey<c[c)6\\x0fbyi kv6W,kettyr\\x1ayow ,x3exc\\'Whp eloe\\x14\\x07\\r\\\\/||+\\'y: [cgomy<iW}uy8inefxu(\\x18=060 ho\\x1a<>/{\"\\x17ONKH\\x17yXFR: Hh_t\\'q+x=7iireYbm thy _nhx!adege\\x7f6\\x18{`ld.\\x16\\nplww +neeiu+Wap de\\x7fr_lts=,|#tohe\\t505.\\n\\x16N{_UW\\x1aCO\\x7f Kt!\\x18xaen,<tRh\\'{\\'~|&lo:2]m{s ozf\\x14-Ec:,x3exc1Pegg\\' otSak6>~x1ts:&Wce, I<gOhte`\\x06\\x17\\x06HEH\\x10k6)Bye=\\n'\n",
      "Possible Key Size: 20\n",
      "Possible Keys: b'This is not Vigenere'\n",
      "Decrypt: b'NARRATOR: Japan is an island by the sea filled with volcanoes and it\\'s...\\n\\nCHORUS: Beautiful!\\n\\nNARRATOR: In the year -1,000,000,000... Japan might not have been here. In the year -40,000 it was here and you could walk to it. And some people walked to it.\\n\\nThe year is now -12,000\\n\\nNARRATOR: Then it got warmer, some icebergs melted, it became an island, and now there\\'s lots of trees because it\\'s warmer.\\n\\nThe year is now -10,000\\n\\nNARRATOR: So, now there\\'s people on the island and they\\'re basically sort of hanging out in between the mountains eating nuts off trees and using the latest technology. Like stones and bowls.\\n\\nThe sound of a doorbell chime. The year is now -500.\\n\\nOUTSIDE WORLD (KOREA): Ding dong.\\n\\nNARRATOR: It\\'s the outside world, and they have technology from the future, like really good metal and crazy rice farms!\\nNow, you can make a lot of rice really, really quickly.\\nThat means if you own the farm, you own a lot of food, which is something everybody needs to survive. So, that makes you king.\\n\\nAs Japan gets conquered, the year goes from -300 to 243\\n\\nNARRATOR: Rice farming and rice kingdoms spread across the land all the way to here. The most important kingdoms were here, here, here, here, here, here, and here. But, this one was the most most important, ruled by a \"heavenly superperson,\" or emperor for short. Knock knock, get the door, it\\'s religion.\\n\\nThe year is now 593.\\n\\nNARRATOR: The new prince wants everyone to try this hot new religion from Baekje.\\n\\nPRINCE SHOTOKU: Please try this religion...\\n\\nNARRATOR: ... he said.\\n\\nJAPANESE: No!\\n\\nNARRATOR: ...said everybody.\\n\\nPRINCE SHOTOKU: Try it...\\n\\nNARRATOR: ... he said.\\n\\nJAPANESE: No...\\n\\nNARRATOR: ... said everybody again, quieter this time.\\n\\nThe year is now 604.\\n\\nNARRATOR: And so, the religion was put into place and all the rules that came with it.\\n\\nThe year is now 645.\\n\\nNARRATOR: Then, the government was taken over by another clique and they made some reforms like: making the government govern more, and making the government more like China\\'s government, which is a government that governs more.\\n\\nJAPAN: Hi, China.\\n\\nNARRATOR: ... they said.\\n\\nCHINA: Hi, dipshit.\\n\\nNARRATOR: ...said China.\\n\\nJAPAN: Can you call us something else other than dipshit?\\n\\nNARRATOR: ... said Japan.\\n\\nCHINA: Like what?\\n\\nNARRATOR: ... said China.\\n\\nJAPAN: How about sunrise land?\\n\\nNARRATOR: ... said Japan.\\n\\nNARRATOR: And they stole China\\'s alphabet and wrote a book...\\n\\nThe year is now 711.\\n\\nNARRATOR: ... about themselves. And then they made lots of poetry and art and another book...\\n\\nThe year is now 720.\\n\\nNARRATOR: ... about themselves.\\n\\nAs the capital of Japan gets moved, the year goes from 550 to 749.\\n\\nNARRATOR: Then, they stopped moving the capital every time the emperor died, and kept it in one place for a while. Right here. And, they conquered the north, finally.\\n\\nThe year is now 802\\n\\nNARRATOR: Get that squared away.\\n\\nThe year is now 804\\n\\nNARRATOR: A rich hipster named Kukai is bored with modern Buddhism, visits China, and learns a better version which is more...\\n\\nCHORUS: spiritual!\\n\\nNARRATOR: ... comes back, reinvents the alphabet and causes art and literature to be\\n\\nCHORUS: great!\\n\\nNARRATOR: ... for a long time. And the royal palace turned into such a dream world of art that they really didn\\'t give a shit about running the country. So, if you live outside the palace, how are you supposed to protect your shit from criminals?\\n\\nCHORUS: Hire a samurai.\\n\\nAs the samurai fill Japan, the year goes from 1007 to 1042\\n\\nNARRATOR: Everyone started hiring samurai.\\n\\nA correction box pops up\\n\\nNARRATOR: Rich important people hired samurai. Poor people who could not afford to hire samurai did not hire samurai. The samurai became organized and powerful, more powerful than the government. So, they made their own military government here.\\n\\nThe year is now 1192\\n\\nNARRATOR: They let the emperor still be \"emperor,\" but the shogun is actually in control.\\n\\nThe year is now 1266\\n\\nNARRATOR: Breaking News: The Mongols have invaded China.\\n\\nMONGOLS: We\\'ve invaded China...\\n\\nNARRATOR: ...said the Mongols.\\n\\nMONGOLS: Please respect us or else we might invade you as well.\"\\n\\nJAPAN: Okay...\\n\\nThe sound of unsheathing swords\\n\\nNARRATOR: ... said Japan.\\n\\nThe year is now 1274\\nNARRATOR: So, the Mongols came over ready for war and died in a tornado.\\nThe year is now 1281\\n\\nNARRATOR: But, they tried again and had a nice time fighting with the Japanese but then died in a tornado.\\n\\nThe year is now 1333\\n\\nNARRATOR: Then the emperor overthrows the shogunate.\\n\\nThe year is now 1336\\n\\nNARRATOR: Then the shogunate overthrows him back and moves to Kyoto and makes a new shogunate. And the emperor can still dress like an emperor if he wants; that\\'s fine.\\n\\nCHORUS: Now there\\'s more art!\\n\\nNARRATOR: ... like painting with less colors, collaborative poetry, plays, monkey fun, tea parties, gardening, architecture, flowers.\\n\\nA quick blast of a horn. The year is now 1464.\\n\\nNARRATOR: It\\'s time for \"Who\\'s going to be the next shogun?\" Usually, it\\'s the shogun\\'s kid, but the shogun doesn\\'t have a kid, so he tries to get his brother to quit being a monk and be the next shogun. He says...\\n\\nASHIKAGA TOSHIMI: Okay\\n\\nNARRATOR: But then the shogun has a kid. So, now who\\'s it gonna be? Vote now on your phones... And everyone voted so hard that the palace caught on fire and burned down.\\n\\nExplosion sound\\n\\nNARRATOR: The shogun actually didn\\'t care. He was off somewhere doing poetry. And the whole country broke to pieces.\\n\\nAs Japan breaks, the year goes from 1467 to 1503\\n\\nNARRATOR: Everyone is fighting with each other for local power and it\\'s anybody\\'s game.\\n\\nEUROPE: Knock knock.\\n\\nThe sound of someone knocking. As a ship arrives to Japan, the year goes from 1544 to 1561\\n\\nNARRATOR: It\\'s Europe. No, they\\'re not here to take over, they just wanna sell some shit like clocks, and guns, and...\\n\\nCHORUS: Jesus!\\n\\nNARRATOR: So, that\\'s cool, but everyone\\'s still fighting each other for control, now with guns! And wouldn\\'t it be nice to control the capital, which, right now, is puppets with no one controlling them?\\n\\nThe year is now 1560.\\n\\nNARRATOR: This clan is ready to make a run for it, but first they have to trample this smaller clan which is in the way. Surprise! The smaller clan wins. And the leader of that clan steals the idea of invading the capital and invades the capital.\\n\\nThe year is now 1568.\\n\\nNARRATOR: And it goes very well. He\\'s about halfway through conquering Japan when someone who works for him kills him.\\n\\nThe year is now 1582.\\n\\nNARRATOR: And then someone else who works for him kills them.\\nAnd that guy finishes conquering Japan.\\n\\nThe year is now 1590\\n\\nNARRATOR: And then he confiscated everybody\\'s swords and made some rules.\\n\\nNEW SHOGUN: \"And now I\\'m going to invade Korea, and then hopefully China,\" he said, and failed, and also died.\\n\\nThe year is now 1598.\\n\\nNARRATOR: But before he died he told these five guys to take care of his five-year-old son until he\\'s old enough to be the next ruler of Japan. And the five guys said...\\n\\nFIVE GUYS: Yeah, right. It\\'s not gonna be this kid. Its gonna be one of us. \\'Cause we\\'re grownups.\\n\\nNARRATOR: And, it\\'s probably gonna be this guy who happens to be way more rich and powerful than the others.\\n\\nAn image of Donald Trump is superimposed over the image of the soon-to-be new shogun.\\n\\nNARRATOR: A lot of people support him. But a lot of people support not supporting him.\\n\\nThe year is now 1600.\\n\\nNARRATOR: They have a fight and he wins and starts a new government right here:\\n\\nThe year is now 1603\\n\\nCHORUS: Edo!\\n\\nNARRATOR: And he still lets the emperor dress like an emperor and have very nice things. But don\\'t get confused. This is the new government, and they are very strict. So strict, they closed the country.\\n\\nThe year is now 1639.\\n\\nNARRATOR: No one can leave, and no one can come in, except for the Dutch, if they wanna buy some shit. But they have to do it right here.\\n\\nThe year is now 1664.\\n\\nNARRATOR: Now that the entire country was not at war with itself, the population increased a lot. Business increased, schools were built, roads were built, everyone learned to read, books were published, there was poetry, plays, sexy times, puppet shows, and Dutch studies.\\n\\nThe year is now 1735.\\n\\nNARRATOR: People started to study European science from books they bought from the Dutch. We\\'re talking geography, skeletons, physics, chemistry, astronomy, and maybe even electricity.\\n\\nAs the Economic & Cultural Prosperity decreases, the year goes from 1793 to 1852.\\n\\nNARRATOR: Over time the economic and cultural prosperity began to gradually slow dow-\\n\\nBONUS: For a chance to get three extra points for the next homework, message me on Canvas with your answer to the question \"Is ketchup considered juice? Why or why not?\" strictly on or before the deadline of this homework. If you\\'re the only one in the class that answers this question, only you will get the three extra points. If exactly seven of you in the class answer this question, everyone gets one extra point. Otherwise, no one will get the extra points. Acknowledging that this bonus exists to the class will forfeit this bonus for the entire class, so be careful!\\n\\nUNITED STATES: Knock knock! It\\'s the United States. With huge boats, with guns. Gunboats.\\n\\nMATTHEW PERRY (UNITED STATES): Open the country. Stop having it be closed.\\n\\nNARRATOR: ... said the United States. There\\'s really nothing they could do. So, they signed a contract that lets the United States, Britain, and Russia visit Japan anytime they want. Choshu and Satsuma hated this.\\n\\nPROVINCES OF CHOSHU & SATSUMA: That sucks!\\n\\nNARRATOR: ... they said.\\n\\nPROVINCES OF CHOSHU & SATSUMA: This sucks!\\n\\nThe year is now 1868.\\n\\nNARRATOR: And with almost very little outside help, they overthrew the shogunate, and somehow made the emperor the emperor again, and moved him to Edo, which they renamed \"Eastern capital.\" They made a new government which was a lot more Western. They made a new constitution that was pretty Western. And a military that was... pretty Western. Do you know what else is Western? That\\'s right. It\\'s conquering stuff.\\n\\nJAPAN: So, what can we conquer? Korea!\\n\\nThe year is now 1894.\\n\\nNARRATOR: They conquer Korea, taking it from its previous owner, China, and then go a little bit further. And Russia rushes in out of nowhere and says:\\n\\nRUSSIA: Stop, no, you can\\'t take that. We were gonna built a railroad through here to try to get some warm water.\\n\\nThe year is now 1899.\\nNARRATOR: And Russia builds their railroad, supervised by a shit-ton of soldiers. And then when the railroad was done, they downgraded to a fuck-ton. Did I say downgrade? I meant upgrade. And Japan says:\\n\\nJAPAN: Can you maybe chill?\\n\\nNARRATOR: And Russia says:\\n\\nRUSSIA: How about maybe you chill?\\n\\nNARRATOR: Japan is kinda scared of Russia. You\\'ll never guess who\\'s also kind of scared of Russia: Great Britain!\\n\\nThe year is now 1902.\\n\\nNARRATOR: So, Japan and Great Britain make an alliance together so they can be \"a little less scared of Russia.\"\\n\\nThe year is now 1904.\\n\\nNARRATOR: Feeling confident, Japan goes to war against Russia, just for a moment. And then they both get tired and stop.\\n\\nCHORUS: It\\'s time for World War I!\\n\\nThe year is now 1914.\\n\\nNARRATOR: The world is about to have a war because it\\'s the 1900s and weapons are getting crazy and all these empires are excited to try them out on each other. Meanwhile, Japan has been enjoying conquering stuff and wants...\\n\\nJAPAN: ... More!\\n\\nNARRATOR: And the next thing on their list is this part of China and lots of tiny islands. All that stuff belongs to Germany, which just had war declared on by Britain because Britain was friends with Belgium, which was being trespassed by Germany in order to get to France to kick France\\'s ass because France was friends with Russia, who was getting ready to kick Austria\\'s ass because Austria was getting ready to kick Serbia\\'s ass because someone from Serbia shot the leader of Austria\\'s ass. (Or, actually, he shot him in the head.) And Britain is currently friends with Japan. So, you know what that means. Duh!\\n\\nCHORUS: Japan should take the islands!\\n\\nNARRATOR: Which is what they wanted to do anyway. So, they called Britain on the \"tele\" to sort of let them know. And then they did it. And they also helped Britain a little here and there with some errands and stuff.\\n\\nA schoolbell rings. The year is now 1919.\\n\\nNARRATOR: Now the war is over. And, congratulations Japan! You technically fought in the war, which means you get to sit at the negotiating table with the big dudes, where they decided who owns what. And yes, Japan gets to keep all that shit they stole from Germany. You also get to join the post-war mega alliance:\\n\\nCHORUS: the League of Nations!\\n\\nNARRATOR: Whose mission statement is to try not to take over the world.\\n\\nThe year is now 1929.\\n\\nNARRATOR: The Great Depression is bad, and Japan\\'s economy is now crappy. But the military is doing just fine, and it invades Manchuria.\\n\\nThe year is now 1931.\\n\\nNARRATOR: And the League of Nations is like:\\n\\nLEAGUE OF NATIONS: No, don\\'t do that. If you\\'re in the League of Nations, you\\'re not supposed to take over the world!\\n\\nNARRATOR: And Japan said...\\n\\nCHORUS AS JAPAN: ...How \\'bout I do anyway?\\n\\nAs Japan\\'s territory increases, the year goes from 1937 to 1939.\\n\\nNARRATOR: And Japan invaded more and more and more and more and more of China and was planning to invade the entire east.\\n\\nAOL COMPUTER VOICE: You\\'ve got mail.\\n\\nNARRATOR: It\\'s from Germany. The new leader of Germany. He has a cool mustache and is trying to take over the world and needs friends. This also got forwarded to Italy. They all decided to be friends because they had so much in common.\\n\\nCHORUS: It\\'s time for World War II!\\n\\nThe year is now 1939.\\n\\nNARRATOR: Germany is invading the neighbors. Then they invade the neighbor\\'s neighbors. Then the neighbor\\'s neighbor\\'s neighbors, who happen to be Britain, said...\\n\\nCHORUS AS BRITAIN: Holy shit!\\n\\nNARRATOR: And, the United States started helping Britain because they\\'re...\\n\\nCHORUS AS UNITED STATES: Good friends!\\n\\nNARRATOR: ... and started not helping Japan because...\\n\\nCHORUS AS UNITED STATES: Their friends and our friends are not friends. Plus, they\\'re planning on invading the entire ocean.\\n\\nNARRATOR: The United States is also working on a large, very huge bomb. Bigger than any other bomb, ever\\xe2\\x84\\xa2. Just in case. But they still haven\\'t joined the war. War looks bad on TV, and the United States is really starting to care about their image.\\n\\nThe year is now 1941\\n\\nNARRATOR: But then Japan spits on them in Hawaii, and challenges them to war. And they say...\\n\\nUNITED STATES: Yes!\\n\\nNARRATOR: And then Germany, as a symbol of friendship, declares war on the United States, also. So, the United States goes to war in Europe, and they help the gang chase Germany back into Germany, and they also start chasing Japan back into Japan, and they haven\\'t used the bomb yet and are curious to see if it works. So they drop it on Japan.\\n\\nThe year is now 1945\\n\\nThey actually drop two.\\n\\nNARRATOR: The Unites States installed a new government inspired by the United States government with just the right ingredients for a...\\n\\nCHORUS: post-war economic miracle!\\n\\nThe year goes from 1951 to 1980.\\n\\nNARRATOR: And Japan starts making TVs, VCRs, automobiles, and camcorders as fast as they can. And, also better than everybody else.\\n\\nJapan\\'s economy improves from 1960 to 1995.\\n\\nNARRATOR: They get rich and the economy goes wild.\\n\\nJapan\\'s economy decreases after 1995.\\n\\nNARRATOR: And then, the miracle wears off. But everything\\' still pretty cool, I guess.\\n\\nCHORUS: Bye!\\n'\n",
      "Possible Key Size: 30\n",
      "Possible Keys: b'T Vs en nothVi in ret ii isere'\n",
      "Decrypt: b'N\\tmRAXRR: J)pa),i6 aNhiilan!<hY tr\" s }*FiSved=wu~h Io+o|noesh^nd,tt\\'s.f.\\nMOH\\nRUsr Xeau1ulUl!\\x10MNA\\x17NKtOm  Is hbe Fe&~=-1,0x\\x0f,0<-,000f..gFa5an\\x00%i}ht +s~\\x00hal\" b yd\\x00hZhe.=Ir*thZ >i|r -4x\\x1300<=it w)s /ir  aN, cou &s\\x7fLd m&lkehe\\x00iK4 Asd<yomZ 7irple ?^lkiy to !t.M\\x06T-e Y-ah isereW -+u,0u,\\x00*N~HRAION0 TWe),tt go<\\x1fwa~per, ;om\",i&ebE:gi me)hoD, s3 b \\x7fkMe\\x1f{n tspknd\\x13 &by nowhKhe~x\\'s l\\'tsgcfetrE-s:bec$iyE in`s 2}xMeM4\\n\\nIhy*ye^rgen nowh\\x1210 -00\\n\\n\\x06AR\\x15MT\\nR:\\x00\\x1bo6 no2<~Her\\x7f`s 5yePlZ:on=tto iLl&by andhKheu:re b)si$ml)y S\\'rn ofetkNgit  o0h*In\\x1fxetjeyd tWegarunta!Qs i|tinghnu3\\x7f *ff\\x00<r\\x7fes $rn\\x00uss)g 1to\\x00l^nesi hochQo+czy. L!Te \\x7fioneshan#,b*wlSf\\n\\x10TheeoeUnd:(f $<nOoMxelq \\x7fbimZ.gXue ye)M i\\x7f=now e50w\"\\nOOUt\\x1bI^E W\\nNFd (Q\\x08RE\\x0450\\x00DVtg yorm.\\n5N\\x06^OATORr\\x1fIt+n thehou3\\x7fi!e W\\'rvd, $rn\\x00th\\x7f> h$jo\\x00tZyhnrlsmy Yr(a=the .Jtu~x, li#e 5ia)ly\\x00/oud m hkL at# c7}pY Msce=f}xms\\x1e\\n\\tcj, yo=\\x1fcab=makeha +cteof\\x00:iye r }fLy,:5ea)ps\\x00qJsckqy2\\x00Th^tgaxans !Y ych ownhth\",f$rm\\x0chyuu o2r*A lu3 o#<lOo[6 wui\\x7fb iL 4cpethi&X ezxrybo,y )ie!s T\\' iurv,jo\\x0e Suk t-}~\\x00m^qes=ys\\x7f kVn \"\\x17\\nAs \\x02^pab=getshco)}u reDd nhe <ykR gu\"s #neM \\x12)00=ts*24\\x0c\\nMB\\\\RRAT\\x07m: ^tce f)rm.bgeanDhrsce .udGdow4 s5noAd\\x1f{crrso*thZ +msd al$\\x1fthi=way <o /ir . t e:mos1<cMpoh3an1<aInX~omn kore\\x1fh\"~x, he:Z, dxre,  er\"  -erEd rerei<kNd r\"rek<HUt\\x13:thts<ene\\x1fw&\\x7f=the %Pst,post !mp(~t$nt\\x0chrolede~s\\x00a 8/ea3ydLy\\x1fiupxrlorsPnk.=or e%Oerco forhsh(~tk KN\\'cq kn*\\x7fa\\x0c g\\x7f3 t-y*DoPh, tt;y rZl.kton.\\nBkhe,dear !s )cwe59\\x13f\\n\\x10NAR\\x17]^oR::\\x13heeroW Ohin~e<}anKsgikeryo&Z tc=try <hi4,h*t N-w:rel,{cOn |5ome^kEkU\\x7f.\\n\\x17PNCNCz \\x14DRTOKUr\\x1fPli|se t:y 3di6 rE$i}ionk2$*\\nN[\\x15RA\\x11SX\\x1a \\x114. ue<yai[.M\\x06WAPAN\\rlE:,So!\\n\\n\\x06AR\\x15MT\\nR:\\x00f.4sai!<oVerc%od<2\\x00*PmSNCX OBOTpK\\x126=Try !K..\"\\x17\\nNAR\\x1aAT\\x08^:e..\\x0ehh\\x7f sa,x$*\\nJ[\\x17AN\\x00OO\\x1a qu..3\\n\\x16DARmA\\x13CO: ..f\\x1fsaey eve:yb(hyeagA!n6 qu,y~Er n/isehcMe\\x11\\x10\\nTue<seaM .\\x7f=now ~\\x0f4.\\x06\\x17NARR\\tTO\\x156 \\x04nd\\x00;o6 th <xEli}.onekkS Oot tnhe pSa$i=and )Sl xue ru$esgxh$t C)m\\x7f wi1t*It.\\x10MTh <sEaM:is=ns} 6\\x0b5i\\x06\\x17NARR\\tkOR6=Thend t/i \"ovE:nwentekkS t{,enes|Er\\x1fxy |ns~heM $`tque )Qd xuey m)deg\\x7fo(e R-furmsepcKe::*ak,rm\\x00tW\\x7f grvyxnmZn3,zover&\\x1fmo~x, an, m&gi+g T e:gov ndMenngmo7y*LiT\\x7f Cuirk\\'s\\x1fg(zxrnme&K, {uich !s &,g*veR&m\\x7fnt 1tkT gu1er+o*MoM\\x7f.\\n\\x17J]ZAN\\x05 \\x0fe1 Chi&^.\\n\\x06SARRA\\x1cOR},.k. T ec sa,x$*\\nCR\\x0eNA\\x7f<BI,\\x1f~ipnhu~.\\n5N\\x06^OATORr\\x1f..\"naid \\x0bhi)m.O\\nJa\\x18AT: C$r*You:$al)<\\x7fS Lumeihudg Zl4i=othe:\\x1fthms dip;hi33\\nONAr\\x1aANOR:e2$\\x0e s{.d \\x0f}zAn\\x11\\x10\\nCUIRK: si,i=whatw5\\nNMORATO\\x1a: i\".esaI, Yhin$2\\x00*JAJ\\x06N:eTeW ^xoui o\\x7fnrVs\",qand?B5NA^OATORr .i\" 6aiDhJ{pank\\x16\\x00nARH\\x06TO\\x17&*an[:thxy<ytoSegOuina\\';\\x1fal|uabethan#,w7otEha:boo.2$\\x0e\\n\\nN/e <ykR Vi nrw<=11\\x11\\nMB\\\\RRAT\\x07m: \"3. ab\\'utgxh msE$v\\x7fs. \\x04rn\\x00th\\x7f) t-ys\\x00m^~e qohy oY 7cxtry )Qd mot an, a)ct-er\\x00*ouk..k\\x16\\x00the:>ea7<cS Quw *2,$\\n\\nqA\\x15^\\\\TOR:h\\x11..,|bouthth\"as lvE;.\\x10\\nAsehbE c{7it$p*Of\\x1fPap|n<metL *cked, <We uxar g\\'esgjr*m \\x15}0:to r(3\\x0e\\n\\nT\\x06RR\\x04HEr:\\x1fNhes,<~heF 4xrppedhRovesg th- c&|i1al\\x00-v\\x7fry 1ugE tr\" e(loRoM:dixd0*an[ ,imt ithVn cse pl)cegjo7 a\\x00?hsle.eNcGht:/er 2*an[6 tuee*coQq2ioed t Z ncoth, .in&`l<.\\n*\\x1ch\\x7f ye$n*Is t(w },8*\\nq[RR\\\\TSX: xe3,ihat ;Nua~xd aw)y.M\\x06T-e Y-ah isereW 8*s\\n\\n\\x0b]XrAkUR:=A<xicW /emsterhQamiy Kuk)i .\\x7f \\'orE, mitheqeDertgBu!xbIsR6 vtsu~s |h.b|, an,\\x1flemons ahbe3xe7 vE:sson 2tcCh s4 m*no\\x0e.\\x11\\x10\\nCUON_S:\\x1fs7eoitua$\\x1e\\n\\nB\\\\RRAT\\x07R:g\".k cO%ei ba&w&\\x00res)ve+hy\\x00tW\\x7f aqptkbeK &by cau;Zs mot an, l.xe7atU:e:to \\'y\\x00*CHU\\x15US\\x7f<mRe^n!\\n\\x17N]XRAkO\\x156=... .Pr m=longhti*i.eAnDhtre r*ekL p{+ac <~UrQ\\x7fd tnhe sJc/,| dre)R wcold o. a5x 1haThtrey 7ykLly:#id+;~\\x00gVle | obit\\x1fa%cht ru&Qink=the +ou)xr<. s\\',:if <s\\x7f\\x00lil\" o0hyIdZ:thx lkla\\\\ek,uow a:Z ych sup8os\"h 1o P:onecteeeUr i/itezxOm\\x1fyripirkls\\x00\\nMOUORUSr\\x1fHi~x a s)mu5mik\\n\\na; nhe 6}gUrasgfi)p*jaO{n,=tto yZa5,zoes .Mom,,007 <o v<4w\\n\\nn\\tRHATO\\x17&*eveh>on <yTaMned=huxinX 4mpuraif5\\nA,~orre+ti(b \\'ox\\x008ojs u5\\x16\\x00nARH\\x06TO\\x17&*ri\\\\r ippsxtaQtg|xoplehWiriy sam=ra.\" \\x15ooRhp\\x7fopl <}Ho y(ul!<dOt\\x1f{ffrrx*to\\x1fh.~x sam=Mai,yid n\\'t /er  sA%uhai.eHbE s{*ur$u*Be\\\\{me=onmanVz\"h=and 8Pwe~{ul, %or\",p*weR.uv th$r*The: ov ndMeQn. No0*thZyga|de t Zir,rwn m!li3mr< gO>ehnme+h*Her\\x7fi\\n\\n\\x11to\\x00yZ{r ts<dow\\x1f1v5/\\n\\nNA\\x1amATCO: Th-y +itethEhewper*n*Stiv+ b <(EmO\\x7froo,>*buK 3dx sho/Jn en act=al+u ,n C\\'nnrolk\\x16\\x00the:>ea7<cS Quw ,2*<\\n\\nqA\\x15^\\\\TOR:h}remving \\x06ew46 \\x11he\\x00\\x05otgol6<bAve:.nv$xoD |rin|.\\x16\\x00MOqG\\x08@N: WeoIe esvade, C/en$..\\x0eB\\nTARR\\x04HEr: 4i.s$un\\x00tW\\x7f Mrn{els\\x11\\nMARNGOL\\x1b\\x05 P`xase :es7ic1 uShoh el6y*We w.gh1<cNv^~e doi*as\\x1fw\"`q.\"\\n\\n\\x02~PAB\\' Oka1..i\\x06\\n\\x11he\\x00;oond *z*Unsr\"at-udG Lmorys\\x16\\x00NAmR\\x06XRR: .f\\x11 smtd Ja8ani\\x06\\n\\x11he\\x001e{r i6<dOw +u74ORKrR~NOR\\' Oe, Kh\",Pongo$L cmpe ov-r 5ia!y F\\'r:ware}dD ds\"d ,r*A Kurn|ds$\\nTWeguxar i;\\x1fno{=1281B\\nN\\x06^R\\x04TOrr Xut,ehbEy n5ie!<kGaVt asd<bad\\x1fagbtce t!Re jtghti&g 0et- tH- Papa+yyE bo3 t-yd\\x00dV\\x7fd tn<k tPr)myo.\\n\\n\\x1cWe uxar i; n({ t33\\x13B\\nTARR\\x04HEr: N/enehbE Zwpeoon*ovZr3doows <We \\x7fuogun)tei\\x06\\n\\x11he\\x001e{r i6<dOw +t36O\\x16DaRm[TOO:<^heQ 3dx sho/Jnaxx ove:th5cw6 hI% xacke}dD mu1esehe\\x00KFuto=arn m^k\"\\x7f=a ne?\\x1fshczunat-. \\x06bdethEhewper*n*Can:4ti)p*DrZis qiwo aQ \"amerorhVf dx wan<s;gxh$t\\'Shfsne.O\\x16IhORO\\x14: \\x0bs}\\x00tW\\x7fre:s<gorZ &~i!\\n\\nN\\tmRAXRR: .f. +ek  pA!nningekcTh v\"sse\\x7feLoMi, ~opfabPr&xtve p\\'Ztru1 pla1s,gao+keYhfon, 1yk\\x00pah3ie60*GaM~entn{& aMc/eiectu:Z, jqower;.\\nMM 4uiC# xlas1<eF a:/or+2*thZ:ye|r<cs Qo0,,464.B5NA^OATORr I3+setiM- |or gKbO\\'s: oi+{*To\\x1fxe ihy*neGtg\\x7fuogunw\\x1d U\\x7fhallyd i3+sethEhsrogu+;y\\x00ki~k b0h*ThZ:shrgid dPe4b:t ha>Z a,vid, ;o /i 1riE; no g h*His:%ro1toR Ku qhih*beVn ,| mon#\\x1fanh=be t e )ix1 sH\\'gon. \\ry*Sayii..O\\x16KsHvQAG\\\\ HESHvM\\x0e6=OkayB5NA^OATORr B2x 1heNhtre s-smUn r&s $<aId\\x11:So1 rew Hh(+n it /Pnnm=be? \\x1eot\",n*w O& courelbOneii..e]dD Zlerdoro vPt\"h=so h)Md xuat t e 7ml$ce\\x00+aoghtesd\\x00fih\" a+x*BuMted=ds}n.5\\n\\x02tmlosi\\'Q schnd\\n\\n\\x06AR\\x15MT\\nR:\\x00\\x1ch\\x7f sh*{\\x7fN ay3ua)ps\\x00dV~n\\'i \\x7fkre\\x11 \\x0fi=was \\'Yf \\x7frmewh-regho,ng\\x008o\\x7ftryk<KNd n/e 2teLe\\x1fyoustns bMo,i=to p!Zce\\x7f3\\n\\nAshJa7mnebrE)ki, t-y*Yeahggo o*FrPw 1)6+*to\\x1f1r<.\\n\\nNA\\x1amATCO: Ev-ry(beeis\\x00.i}hti+{*Witrgea&t*OtW\\x7fr {on*lo\\\\a+,mowerh^nd,tt\\'s )ny%cd<\\'s\\x00/awe.\\nOY_rOP_} K+siK Ttocv.\\x16\\x00ThZ 4chnd o.\\x1fsoaxone #no$gi+g.\\x00\\ts:a s-uz\\x00arh.ve6<~O u{pas,<~he\\x1fy\"mo goe;\\x1ffrcp 154| t(,1p61*BN[RRA\\x11SX\\x1a In`s \\x00ixOpZ4 Nr,<~heF\\'5i=not  Zre,io ta#e (ze7, T ec ju6h*Want& s pf\\x00sPwe nhu~ lVk\",~lock;\\x13 aby gun;, &bdk..*BCRORU\\x16&*jeso4!\\nORKrR~NOR\\' Oe, Kh&x:s co\\'S, nht ev-ry(bebs S<ivl f,{bTin}gea&t*OtW\\x7fr {on*coQt5cq, no?\\x1fwixu gun;! \\x06bdewoU$dt\\'t ,h*Be t.ceehe\\x00cPttrrl<~he\\x1fc&|ttal,hHhiou, ri/htgbo2, I; jupp hy\\x00win/ n*<eNe\\x1fyonirsfliQggxuem?\\nBkhe,dear !s )cwe15\\x16x.\\x10\\nNA\\x17NKtOR gTh,o*Cl^t in noadF 3c=makeh^ rys forhitk,b0t F!rit t-ys\\x00hal\" t*<~RaRjle=ttcs Lm&`qer c$^n {uich !s .b 1he\\x00?ac. S0nzRis\\x7ff T-y*Sm^vleo \\x7ffan\\x1fw.bn. An,\\x1fthi=lead-r (j 1haThcvan 6hoAls:3heeunEa\\x1fuf tnjkdiQggxue ca8Vta`=and !nv&he6 tH- yapi1}f\\x0e\\n\\nN/e <ykR Vi nrw<;56\\x07.M\\x06SARRA\\x1cpR:,\\\\nd i< g(iseveR1 mellk<BE\\'s:&bo0h*HaS|wad hbroJg/,~onqu-Mink=Japa& w/inesoM-ote w-s*Worq4 f*n*HiR:kiqlo*hiR.M\\x06Ihe y-^r en nowh15\\x7f>.O\\nNa\\x1aR[TOR\\x7f<KNd n/eneoeMePte xloo wWog{rrks .Pr dtm ki$lsgxh m.*\\tn~ th$h*Guy:!in,obEs\\x1fyonluyxinX \\rmman.\\nBkhe,dear !s )cwe15\\x19x\\n\\x10NAR\\x17]^oR::\\x06ndehbEn\\x1fre ~orlis\\\\a3iy eve:Fbohd\\'s s?or#\\x7f $nd\\x00%a~e s*qo\\x00ruv\"s.O\\x16DeW\\x1fIHOZUR0 \"~n#,sow IoR gctng t\\' i)za!e k\\'r\\x7fa, $rn\\x00th\\x7f) h*loFuSvy ^huda,\\x1d /i=saidd\\x1fanh=fail-d,gmn! aL;o:die!2\\x00*Th\\x7fgye$n*Is\\x1ftow=1)38.5\\n\\tMORATO\\x1a\\x05 Byi bef\\'regdeediE, re t*pn\\x00th\\x7f4e #u|E Xoys=ts*taTego|re o.\\x1fhi\\x7f=fiveeye&~-*ld\\x00;ot un1uf\\x00he=4 o)x*EnPogh=ts*be\\x1ft/i=nexthMulio of \\x02ap&b.eAnDhtre f,jo\\x00guc4 s$un\\x0e.\\x11\\x10\\nFTVY*GUfS},Deah,hMigdi. Itos )ctegoN&a:be 1tcS ks#. \\x0chy\\x00gPtna=by*onZ (j=us. o|au\\x7fx we\\':e  ~o2nuP;.\\x10\\nNA\\x17NKtOR gAn!0*It\\x18i poo~kblF  csna b-\\x1fthen guyhwh(,h$ppE&s:to \\'y*Way:*or <xIcW:any leweMf2`=thanhKhe,rther;.\\nMMneimA/e:of \\x01sdAld:\\x13ru(l*Is\\x1fiupxrugpoLe#,rver <We epage \\'f 3deesoO&-no-b <dEw i/og0r$*\\nq[RR\\\\TSX: ~ +ci of 8Zop`x sup8or3,h,m.\\x00\\nun a )s~\\x00of:7eo5po\\x00sJjpoot<dot\\x1fs2|morti&X hep.\\n\\nT e >ia7 iShnuw 1s,:\\x0e\\n\\nT\\x06RR\\x04HEr:\\x1fNhed tkve\\x1fagjtght )Qd dx win; a)h 6taR<s:a n k*Gov\\x7f5nm r~\\x00rV}ht=hyxe:5\\n\\x13dx yea:\\x1fis,sow 1~03M\\x06C\\rORu\\x1b::Edod\\x16\\x00nARH\\x06TO\\x17&*an[:he=shcll\\x1fl\"xn thehZmpioor d:es4,l,ke\\x00)n:emp neR at# h$jo\\x00vZhy si\\x7fo tWi)kn. Bu<\\x1fdob:t ge< c(bf0seDf Nhiseuy\\x00th\\x7fgne2<mOvZhnmxnh& aQdgxuey a:Z vioy st:ic3\" \\x16o S<rsct,ehbEy y+os x*ThZ:cohnhxy.5\\n\\x13dx yea:\\x1fis,sow 1~39i\\x06\\n\\x0bARr\\tTUR: \\x0bs*One:$anepoAvZ6 asd<do Pn\",~an c\\'Re es, ex+ep3,f*r T e:Dut&t&\\x00if:3he<<}AnQ{ bhy<yomZ 4dtt. B=K tdxy ha>e 3c !o I< high1<bEre4M\\nT-y*Ye^h in rew \\x0e6q83\\n\\nNA\\x1amATCO: No? t/mtethEhettir <iOunn5y 2}y\\x00nPn ai kkr Hi3d=itse$Y, xue po8ul&xi*n I&cheas x*A lu3. \\x07iyInZis tn\\x7fxeaLe# =scho\\'Ss {xre b=il3  7oaD; meree~\\x7fIlt6gev nsOnZ:le|rrod Kog~xad, *Pok\\x7f=werehpu%`i6heDd nher <}As j(et7e&\\x00pS{ys1 ooxy\\x1ft.axs, p=Opex=show;, &bdeDuT+h:stu!uoS.\\n\\x10\\x13heeeoAr\\x1fss sok*17\\x0c5i\\x06\\x17NARR\\tkOR6=Peop$e 4xa7teDhtu st0xs\\x00Euh(pe$r*ScV\\x7fncx zxom\\x1fb(cvs th-F bchght .ro*,t-e d=tyh. \\x12y-Re n&lk,rm\\x00gZugr|pts, Lk\"`xtonsd\\x1fphunics,hch\"ai6trYd {str*reMy,:&ndeqkYbZ:evxn<ole\\\\t5e~ity.B5As,ihe E+on(ai& &\\x00\\x0buvtur$p*proi7er,hs\\x00dZyre|syy, Kh\",dear /Pes,{rom y79t,t* 1\\x18}24\\n\\nN\\x04NXaTOH} O3yx\\x00tVwe ihy*ecPn(atc an,\\x1fcu`iuralhpr(\\x7fp riT1 xega+<~O gh&du$pfY Lvow=ds}-\\n5B\\x08BHS: F\\'M a,~hanc- t(,g t T r\\x7fe e=hxA pu.nt6<lOr\\x1fnhe=nyrt Wo*ijork,hRes\\x7f|ge m- o),C$nvA; mitheeeUr {)sw n*To\\x1fnhe=qiostVo),?Is k-Kchym con;id\"~e! jU!c\\x7f? W-e*Or m/y +s~\\x1f\"\\x1fitrtchfy Pngco bef\\'Me xue de)dl.beeof\\x00<hss h*qoWorqi I#<sOu\\x18he ihy*onSygcse inhKhe,~lasshth&x $nsW-ri th,o*Quei3io+0*OnSc yru<}ilS  ii thehKhrix ext:a 7ci+ts\\x0ehI| ex$\\x7f~Ly i\"ve+<eF Fuu tn<~he\\x1fc+mns an;Her,ihis 9ue4xi*n,\\x00-v\\x7fryo+y*Getigon <oXtM{ prir~. pt/iowised\\x1fno,rne w!llgke1 tH- \\x7fxtr$<zOinn4. \\x04\\x7faNoHvedzirm tWa3,ihis *Pnu\\x7f=exis<s 3c 1he\\x00+l{ss 2ufL fu5fe,h*ThVi brniy fPrgxue en<Vre,~lassd s(,b  cA:e|ul!O\\x16_nIT_\\x03 S\\x11]^eS\\x05:Knrcw*knPc,-=It\\'shKhe,Hnite, S3mt s.\\x00\\x1finh h0{o\\x00bo{3s,ekcTh\\x1f}unn.<Mun]o&xn.\\n\\nM\\tkTHIJ PER\\x1aY oYN\\x0cTEdhSNATE\\x1650\\x00Op\\x7f) t-y*CoJttrd.<YtoO /mking !K bi=clos-d.M\\x06N\\x04RRa\\x1cOH: .k2*Sai~gth <_NiK\\x7fd Nt}~es\\x11 \\x13dxre\\'shMea`qy no<hi)k 1heYhcuuldexe\\x0e Suk t-ys\\x00sV}ney }*coQt5m~t th)K liis th- U)et d s<anes,e^xItas), $rn\\x00RJisi| jcsiK \\rmman a&Ftiax the1 w&btk CH\\'sru a+x*sati2maetkTe[:thts2\\x00\\nPmO\\x11ESCES \\x07y CDRSHU n S\\x06XS\\x10MA\\x1ahTrat 6iiKs!\\x10MNA\\x17NKtOm  .3.<~heF 4mtd.\\n\\n\\x18mOVESCES \\x07F \\x04DO\\x16HU\\x00n IATS\\x10QK\\x1a Tr.s 6iiKs\\x1e\\x10\\nTue<seaM .\\x7f=now y\\x0768\"\\x17\\nNAR\\x1aAT\\x08^:eAnDhwsth $pgOst:1er<<fItKve ruhyidZ /iqp, t Zy ckerth:ewgxh  sH\\'gonat 0*And:4om teW R{de=tto eRp\"~rr th-\\x1fem|xror )ga.b,eanDhmuvedetcM tugEd*0*WhVyh ihys rZn&axd \"E)Lte~s cap!ta+\"\"eThE1 wadee}*New: ov ndMeQn wui\\x7fb w^sgm=lot %Pre,Jeste:n.gXh y M)d\\x7f a +y}\\x00cot4ti1i~IoQ:th|t<}as\\x1fp5iity W-Lte~s. An, agai)itA:y:tha1<}As.4i p7y~Ty\\x1fMesiend. {oguru kn\\'H wd|t el;e .\\x7f \\x12esT-rt? T-}~\\x07s h.gh12*it\\x18i crnm\\x7ferVn ,ntufff5\\nJMMAN: \\x1bo,g{h$t C)n:we &sdQuehx K*noA!5\\x10Thx eoar\\x1fi4,sow 1p\\x064.\\x06\\x17NARR\\tTO\\x156 \\x11heYhcunqu n*kor\\x7f&, 1}aInX:it=fnem Vt4,mrevi\\'Js cjner,hCh.bai aN, nhene{e\\x00a v.tt)y*BiK:fuottor.\\x1fA)h=Russ!^ rynhes !n (yteof\\x00&omher <kNd i&ys\\x7f\\x16\\x00rUlIIA\\' O~op\\x13 )c1 youh\\\\an+i tak- t/mtk WEhw\\x7fre \"sdNa x2il1<k\\x00r^slrrax*thMo2ku her-\\x1fto,iry t\\' g\"x 6omEhw{rm 2}~Er.\\x10MTh <sEaM:is=ns} 1\\x079~\"\\x17NARR\\tkOR6=And \\x1aus4eaebuI$di th ux\\x00ras+ro$x&\\x00sJjerkiood ]ygm=shiteKon,rf so$di\"~sk AN, nhenekbEn n/e 7}cLrP{d jao*doQek,ihey ,Pwnkoadedhtogm #ucKetun. \\x01un\\x00I i&y !s}NgM{de\" U*me^n3,hpgra,Z. Msd Ja8ang\\x7fa<s:*BJ[PAN\\x7f<IAn c(u (}sBe\\x1fyhiql#\\x00\\nN~R\\x15MIOR: \\tQd ^hssiahsa>\\x7f:O\\nRu\\x1bSSA: \\rs}\\x00abu2t (}sBe\\x1fcou=ctcll\\x00\\nMB\\\\RRAT\\x07m: F|pan !s ,en!a S+ahed *z*rusi.a.eEeU\\'Sv nxvyx gJe4\\x7f=who\\';\\x1fal\\x7fr kin, o!,s&arE, uf R0oyIa::\\x00re$h*brVnais!\\x16\\x00ThZ >i|r ishQow,,902.B\\nN\\x06^R\\x04TOrr Io, \\x0f}zAn {)d \\x02noAt\\x1fXriiaud m^k\",|n al$Vanox tog-th\"~ 6o T ec ca+<hE \"{gli1hfE S\\x7fss=s\\x7fkre[ (j=Russ!^.\"\\x06\\x17The 1ea5,i6 nO? +904k\\x16\\x00nARH\\x06TO\\x17&*feZvinz \\x7fenfVd\"bi, Ja8^n kres t\\' w&~ $gaI&sn Ru6ocA, p2stezeR ^:moper~. ~n#,ihen <Wey,\\x7foth /etgxi7ed\\x00)n~ st*l$*\\nCR\\x08RU\\x16&*it\\x18i ttmy*foM \\x10cold W)M I-\\x17\\nThehye&~ ,s N\\'w:191q2\\x00*NAH\\x15AT\\nN0\\x00TW\\x7f wrrpn iL &nrut t\\'\\x1fhazx a w)r %ic$usEhin\\'s 1to\\x0019*ws $rn\\x00wZ{poss<kre\\x1fg\"xiing +Mazu=and )llgxh se\\x00-mjire6<kRe \\x7f?ci1yn\\x00tP:trd hbem\\x1fo2x=on e)\\\\h ciher.hMe&bw-ilEd Papa+<bAs x\"eneydJoFsng=csdquZr.bz stu.Y aby wan<s.i\"\\nOJAp\\tN  ..k<GOre;M\\nN\\x04NXaTpH: \\\\nx*thZ )iet th!Qg cs the!r +es1 iShtris 5}xT o|gCh,rk\\x00aQ~ lrto*of\\x1ft.bd isl)Qds\"=All <ha3,s1ufFhb\\x7flon\"o*To ]\"rm$rs\\x0c Hricu v\\x7fst\\x1fh&h=war ,Zclmoed o& b>,B7itA!n:bec$iyE Bh.ta,r*WaL:frterns Hi3d=Belg!Jm,,jhichhwa4,b inGhthesp$oyEd x> G ngAnF:in=onner\\x1ft(,zet t\\'\\x1fFrmsce t\\' k.okeFrA&c\\x7f\\'s $oy\\x00bey&us <LRaQye jao*frVe)hn wit \\x1fRu\\x7fnia, ?hog{a6 gE<tsng 7ykDy n( k,\\x7fa\\x00AJitrta;y aLsgnxcaus-\\x1fAu\\x7firia ?asgke1tiN/ head<<~O ks$k \\x16yxBi^=s |so*be\\\\a2\\x7fx som-Pne,{rom \\x1ber%eaeshO< nhe )ykDer:(f \\x04iyTrV{\\'s=aoy. \\x17O5 =actu)Sly =he s otgdi( iNhtre h }n\\x0e) [)d \\x07ncTaVt in \\x7f\\x7frrZn3`d fri-Qds,jith \\x02ap&b.eSo\\x0chyuu k+s}\\x00wh{3 t-}~\\x00mZ{ns3 X\\x7fh!5\\n\\x04DRRUS:huapms sho=ldgxa.e T e:isl$rnS!\\n\\x10\\tAR\\x17]^oR\\x05:Whtct*is\\x1fw/mi the1\\x1fwabied t\\' d(,a+ywA1.:So,ehbEy y&ll x*brVnais sd tWeg.iele\"hKo \\x7frrt o. l\"x 1heMhktow.e]dD tr\"n 1toY [sd tt2*An[ 3dxy al;P hiqped \\nri3mi+ a\\x00$intleetoRe {)d 1toRe\\x1fmitu oeme\\x1fe5~|nds )Qd \\x7fiuff.B\\nAg\\x7fc-ooL*evl r,rmS. N/e <ykR Vi nrw<;91\\x06.M\\x06SARRA\\x1cpR:,Sow t e 0mreis\\x00\\'v\\x7fr. \\x04rn\\x0c cu)gr$h\\x7fLaKsonn VkpaQ!gUru te+Wnio|lly .ou dtein\\x00<h\\x7f wa70*Whiy/ m }dS Fuu zeh*to\\x1fs.x=at t Z nizotia<in ,t$blEhwsth 1to\\x00bi}gdu!yy\\x0c Hrerx hbey\\x1fd\"otded ?Wo cjns w ati,A+d Y-s6 Ja5}d\\x00gen4 t*<aEeO:alq hbat\\x1fs/ei the1\\x1fstcqe fr\\'m \\x00ir(anYf Cou $pyO g\\x7f3 t*<`OiQ:thx lest\\x12w&~=megah^lle|nce:B\\nC\\x0fCR\\x10S:\\x00<h\\x7f Le${\\x7fE o|gNa1ueNs\\x1e\\x10\\nN\\\\RNKTOm:g[uose %Vssern st)te*in1 iShtu tr<<dOt n( t$wo\\x00oI\\x7fr ihy*woMl#\"\\x17\\nThehFea~=is n\\'w v52|.\\n*\\x06AHRAT\\nN0\\x00Th\\x7fgGr }~\\x00DZjrensuen Vsgn|d, a&[ Jmman\\'shec(bo(y I; tow &nkPpy4gBu1<~He\\x1fwiltt}xy Vsghring \"Jst,{ine,han#,i1 iN>a~es \\x08}dChuh.a.O\\x16^He\\x1fceao uy nPwg=$31.\\nBqAR^\\\\TOR:hAn#,t-e l-a}ue *z*nats(nseuy\\x00lVqe:\\x17\\nPOAGjEgC[ NAT\\x01pNS6=No, ,on`x !o T an. I#<sOu\\'h\" i+<~He\\x1fVeazuy*of\\x1fN&xtons,hFou+oe no< s2|p*seDhtu ta.y*Ovehgth <}OrS~!\\n\\x17N]XRAkO\\x156=And \\x02^pab=saidf..M\\x06C\\rORu\\x1b [S J\\x04LKn: 4i.H*k*\\x07bPot T xe aQy0md?\\n\\nA;\\x1fJa||n\\'s <er5et*ry\\x00!nyrea6yy\\x0c tr\" y }x\\x00gP\\x7fs {rsg 1\\x063p,io 19{\\x06.\\n\\x06SARRA\\x1cOR},A+d j)p{n i+jkDed:*or <kNd\\x1fworx }dd Ro5i=and %Pre,|nd m\\'regcfeChI&a:andekkS pv&nn,rm\\x00tP:inkaxo tWegistirehZasx3\\n\\nAO\\x04 C\\x08AP\\x10TErhVUICE\\x7f<SOu\\'l\" g*h*MaVv.\\n\\x17N]XRAkO\\x156=It\\'shYroa=Germ)nyi,T-e N-w:lea!yx\\x00of:\\x00er(}dY.\\x1fRe uao*a \\\\o(`=must)\\\\he,|nd i; t5ui+g T\\' nakees|Er n/e 2sxLd\\x1f{nd=nyods\\x1ff5exnds.hkhi\\x7f=alsohgo3,f*rwA:d\\x7fd t*<CTalci T-ys\\x00aSv dxcuned\\x1ft(,\\x7fe fr!Znd\\x7f=beca=segxh y H)d:so (iiH itgco(qeN.5\\x10CHRRIY: vt`\\x7f=timehYor,JorldhWa5,I\\x0c!\\n*\\x1ch\\x7f ye$n*Is t(w t%9\\x19.5\\x10NAOR]^OR\\x05 \\x00iomanyhVs esvadi&g 3deeneI/hxorsk<^Hen:3he<<cNv^~e ihy*neVg/nrr\\'s &Zigd\\x7fors.hTh\"b 1he\\x00&esghb*n-S n\\x7f.gh\\'sx\\x07s\\x1fteizh~ers\\x13 0dr hap8Zn xr be \\nri3mi+, S)i~...O\\x16IhORO\\x14 A\\x16<HrIk[IN\\' Tely\\x1fs/ei!\\n\\nN\\tmRAXRR: A&d,gxh  UN!t\\x7fd S1}~Es i3ar1yn\\x00hZvpisg<HriKa.b=beca=Le xuey\\'r-..i\\x06\\n\\x06HOr\\x1dS:AS \\x10RCtED:\\x14TA\\x11YY\\x1a xuod=fncen[sf\\x06\\x17NARR\\tkOR6=... )ndg\\x7ft$rtE, tot -yfPin}gJa5}d\\x00bZyaune2$.\\n5C\\x0fCOUS A\\x1b\\x1fUNEIED S\\x1cAT\\x02_:eThE!r:fri rnS at# o0n*FrV\\x7fndn }xe Qo3,{rien,L. \\\\qus, <he>+r  pL)ntingesd\\x00inl&di+{*ThZ:eniino o\\\\e&b3\\n\\nNA\\x1amATCO: Th- U)et d s<anes ,o*Alsugwo7wcNg\\x1fun | pkrgZ,gzxry h=Xe nrmb. \\nig irethA& {ny *hbEr x(mbi<oVeM\\xf8\\x84\\xa23 V\\x7fst\\x1fi),~ase.h}ut,ihey ;ti+` -avE&\\'n jo,roD tr\" w$n$\\x00W^h lrowy b^dgcs TV,h^nd,ihe U&it\"h \\x16taT-s:is 7ykLly:4ta7hcNg\\x1fno ~ano a]o2x=thei:\\x1fimmze.\\n\\n\\x1chegue$r I; tow t%>\\x11\\n\\nT\\x06RR\\x04HEr:\\x1fXut=tton ua7ms spi<L ob=themhingDa2aiId {nd &tkLlet esehbEm\\x1fno jan$ AQdgxuey s)F..\"\\x17\\nUNI\\x1cEDg_T\\x04TEsr Ces!O\\x16DaRR[\\x13OR\\x7f<KNd\\x1fnhes [orm^n> =as ahLymnrl ofhfr.in!shI8,:dec)}xEs m&r *r*ThZ:Unttyn SKa3in, al;P. _r, th- U)et d s<anes \"soS tugwa7<cN zorome0*an[ 3dxy he$O tdx gan/ c/ms  GE:m{ny \\'}iK it3o \\x02yxMaQc, |nx*thZygmqso s<^rt,~hasi&g \\rmp$n B)cq in1s*jap{), $rn\\x00tW\\x7fy uajon\\'K 2\\x7fxd th-\\x1fboa\\x7f yethan#,a7e C=rsousehe\\x00se\\x7fgifeu~\\x00wPhks3 Oe tWe>,yrop !K ob=Japa&.\\nMXh  yE)r:is +s}\\x0019.r\\n\\n\\x11toY ^ytu|lps dMo7,iwo.\\nBqAR^\\\\TOR:hTh\",U+itE; Itat o*Insn&ll x*A Q\\x7fw zojornRe)x=insp!Med,\\x7fy th- U)et d s<anes \"s|Ernw\"ntekcTh\\x1fpusi hbe Mi di ing:Zdiists f\\'r &\".k\\n\\nc\\x00OHUS:eleSt-m&r  \\x7feNoRsc pinkclZ!M\\x06Ihe y-^r kres f:omg=9p1 T\\' +980k\\x16\\x00nARH\\x06TO\\x17&*an[:Jamar*st^r3\\x7f=maki&X TZn, VC\\x1as,gmu1omO*ives,e}dD c{*co7xoRs\\x1f{s {ao~ aL 3dxy ca&\\x11 Aby, al;o %it1er\\x00<h{n e3yxYbo~> e)oo\\x0e\\n5Pap|n;y e\\\\o)cpy im8Movin fro% 1~:0eto\\x00y9#5.\\nORKrRAN\\x08R:eHbEy\\x1f}et=ruih ^n#,ihe e+Pnoad goe; w.`dk\\n\\nj)p{n\\'seyiOnow> d \\x7fxEaL\\x7fs |fhor \\x0e9~93\\n\\nNA\\x1amATCO: An, t/ini tH- wira&po\\x00we{5s *zl\\x0e }ot xvyxytWi)k: sti$S p~xtty +oo+  \\x0c gU-si.\\n\\n\\x06TErUS gBy =\\x00'\n"
     ]
    }
   ],
   "source": [
    "import base64\n",
    "from binascii import unhexlify\n",
    "\n",
    "def find_key_size(ciphertext, min_size=2, max_size=40):\n",
    "    #Get the most likely key size by computing normalized Hamming distances. \n",
    "    key_sizes = []\n",
    "\n",
    "    for key_size in range(min_size, max_size + 1):\n",
    "        block1 = ciphertext[:key_size]\n",
    "        block2 = ciphertext[key_size:key_size * 2]\n",
    "\n",
    "        if len(block1) < key_size or len(block2) < key_size:\n",
    "            continue  # Skip if blocks are incomplete\n",
    "\n",
    "        distance = hamming_dist(block1, block2)\n",
    "        normalized_distance = distance / key_size  # Normalize\n",
    "        key_sizes.append((key_size, normalized_distance))\n",
    "\n",
    "    # Sort by smallest normalized distance (most likely key sizes first)\n",
    "    key_sizes.sort(key=lambda x: x[1])\n",
    "    \n",
    "    return [x[0] for x in key_sizes[:3]]  # Return the top 3 key sizes\n",
    "\n",
    "def transpose_blocks(ciphertext, key_size):\n",
    "    blocks = [b'' for _ in range(key_size)]\n",
    "    \n",
    "    for i in range(len(ciphertext)):\n",
    "        block_index = i % key_size\n",
    "        blocks[block_index] += bytes([ciphertext[i]])\n",
    "\n",
    "    return blocks\n",
    "\n",
    "\n",
    "def xor_with_key(data, key):\n",
    "    #XOR the byte string with a single byte key.\n",
    "    key_length = len(key)\n",
    "    return bytes([data[i] ^ key[i % key_length] for i in range(len(data))])\n",
    "\n",
    "def try_decrypt_xor(data):\n",
    "    best_score = 0\n",
    "    best_key = None\n",
    "\n",
    "    for key in range(256):  # Try all 256 possible single-byte keys\n",
    "        decrypted = xor_with_key(data, bytes([key]))\n",
    "        try:\n",
    "            score = sum(FREQ_TABLE.get(chr(c).lower(), 0) for c in decrypted)\n",
    "            if score > best_score:\n",
    "                best_score = score\n",
    "                best_key = key\n",
    "        except:\n",
    "            continue  # Skip invalid results\n",
    "\n",
    "    return best_key\n",
    "\n",
    "def break_repeating_key_xor(ciphertext):\n",
    "    #Break repeating-key XOR encryption.\n",
    "    ciphertext = b64decode(ciphertext)  # Convert hex to bytes\n",
    "\n",
    "    # Step 1: Find the best key sizes\n",
    "    likely_key_sizes = find_key_size(ciphertext)\n",
    "\n",
    "    for key_size in likely_key_sizes:\n",
    "        # Step 2: Transpose ciphertext into blocks\n",
    "        blocks = transpose_blocks(ciphertext, key_size)\n",
    "\n",
    "        # Step 3: Solve each block as a single-character XOR\n",
    "        key = bytes(try_decrypt_xor(block) for block in blocks)\n",
    "\n",
    "        # Step 4: Decrypt the full message\n",
    "        decrypted_text = xor_with_key(ciphertext, key)\n",
    "\n",
    "        print(\"Possible Key Size: \" + str(key_size))\n",
    "        print(\"Possible Keys: \" + str(key))\n",
    "        print(\"Decrypt: \" + str(decrypted_text))\n",
    "\n",
    "    return key_size, key, decrypted_text\n",
    "\n",
    "#test\n",
    "key_size, key, decrypted_message = break_repeating_key_xor(b64str)\n"
   ]
  }
 ],
 "metadata": {
  "kernelspec": {
   "display_name": "Python 3",
   "language": "python",
   "name": "python3"
  },
  "language_info": {
   "codemirror_mode": {
    "name": "ipython",
    "version": 3
   },
   "file_extension": ".py",
   "mimetype": "text/x-python",
   "name": "python",
   "nbconvert_exporter": "python",
   "pygments_lexer": "ipython3",
   "version": "3.8.4"
  },
  "vscode": {
   "interpreter": {
    "hash": "31f2aee4e71d21fbe5cf8b01ff0e069b9275f58929596ceb00d14d90e3e16cd6"
   }
  }
 },
 "nbformat": 4,
 "nbformat_minor": 4
}
