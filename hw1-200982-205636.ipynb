{
 "cells": [
  {
   "cell_type": "markdown",
   "metadata": {},
   "source": [
    "**Angeline Micaela Cantal & Sebastian Louis de Leon [200982 & 205636]**"
   ]
  },
  {
   "cell_type": "markdown",
   "metadata": {},
   "source": [
    "# Homework 1"
   ]
  },
  {
   "cell_type": "markdown",
   "metadata": {},
   "source": [
    "*Due date:* February 4, 2025 (Tuesday) at 8 PM"
   ]
  },
  {
   "cell_type": "markdown",
   "metadata": {},
   "source": [
    "This homework is designed to get you started in implementing some cryptographic algorithms in Python.\n",
    "This should be easy enough for you to do solo, but it doesn't hurt if you want to work with a partner.\n",
    "These exercises are important in the sense that they serve as stepping stones to future attacks, and most likely you'll need your code for these for the final contest.\n",
    "If you can finish this homework on time, then you'll very likely do well in the final contest!\n",
    "\n",
    "Much of classical crypto operates on alphabetic strings (strings only containing letters) while modern \n",
    "crypto deals excusively with binary strings.\n",
    "Despite that crucial difference, we may see some familiar parallels between historical ciphers like \n",
    "Caesar or Vigenère and relatively modern ones like the XOR cipher and the one-time pad."
   ]
  },
  {
   "cell_type": "markdown",
   "metadata": {},
   "source": [
    "This homework has 32 points in total, but will be divided by 30 to get the final percentage. Final percentages are capped at 100%.\n",
    "\n",
    "Please be guided on the policies regarding late submissions, regrading, and collaboration.\n",
    "If any, please direct all your questions and clarifications about this homework in the `#hw1-help` channel on the Discord server."
   ]
  },
  {
   "cell_type": "markdown",
   "metadata": {},
   "source": [
    "## Dealing with binary data in Python"
   ]
  },
  {
   "cell_type": "markdown",
   "metadata": {},
   "source": [
    "Python supports *byte literals* (I just call them \"bytestrings\" for convenience), string-like sequences that are prefixed by `b`."
   ]
  },
  {
   "cell_type": "code",
   "execution_count": 56,
   "metadata": {},
   "outputs": [
    {
     "data": {
      "text/plain": [
       "b'This is a byte literal'"
      ]
     },
     "execution_count": 56,
     "metadata": {},
     "output_type": "execute_result"
    }
   ],
   "source": [
    "b'This is a byte literal'"
   ]
  },
  {
   "cell_type": "code",
   "execution_count": 57,
   "metadata": {},
   "outputs": [
    {
     "data": {
      "text/plain": [
       "'Meanwhile this is a string literal'"
      ]
     },
     "execution_count": 57,
     "metadata": {},
     "output_type": "execute_result"
    }
   ],
   "source": [
    "'Meanwhile this is a string literal'"
   ]
  },
  {
   "cell_type": "markdown",
   "metadata": {},
   "source": [
    "A bytestring is not the same as its string counterpart..."
   ]
  },
  {
   "cell_type": "code",
   "execution_count": 58,
   "metadata": {},
   "outputs": [
    {
     "data": {
      "text/plain": [
       "False"
      ]
     },
     "execution_count": 58,
     "metadata": {},
     "output_type": "execute_result"
    }
   ],
   "source": [
    "'some_string' == b'some_string'"
   ]
  },
  {
   "cell_type": "markdown",
   "metadata": {},
   "source": [
    "...because they have different types."
   ]
  },
  {
   "cell_type": "code",
   "execution_count": 59,
   "metadata": {},
   "outputs": [
    {
     "name": "stdout",
     "output_type": "stream",
     "text": [
      "<class 'str'>\n",
      "<class 'bytes'>\n"
     ]
    }
   ],
   "source": [
    "print(type('some_string'))\n",
    "print(type(b'some_string'))"
   ]
  },
  {
   "cell_type": "markdown",
   "metadata": {},
   "source": [
    "The usual string operations work with bytestrings."
   ]
  },
  {
   "cell_type": "code",
   "execution_count": 60,
   "metadata": {},
   "outputs": [
    {
     "name": "stdout",
     "output_type": "stream",
     "text": [
      "b's is a '\n",
      "32\n"
     ]
    }
   ],
   "source": [
    "test = b'this is a long bytestring'\n",
    "print(test[3:10])   # slicing\n",
    "print(test[4])      # get the 4th byte (returns an int)"
   ]
  },
  {
   "cell_type": "code",
   "execution_count": 61,
   "metadata": {},
   "outputs": [
    {
     "name": "stdout",
     "output_type": "stream",
     "text": [
      "b'this is a long bytestring and anotha one!'\n",
      "b' and anotha one! and anotha one! and anotha one! and anotha one! and anotha one! and anotha one! and anotha one! and anotha one! and anotha one! and anotha one!'\n"
     ]
    }
   ],
   "source": [
    "another = b' and anotha one!'\n",
    "print(test + another)   # concatenating bytestrings\n",
    "print(another * 10)     # n-fold concatenation"
   ]
  },
  {
   "cell_type": "markdown",
   "metadata": {},
   "source": [
    "We can use the following libraries to convert between encodings (hex and Base64)."
   ]
  },
  {
   "cell_type": "code",
   "execution_count": 62,
   "metadata": {},
   "outputs": [],
   "source": [
    "from binascii import hexlify, unhexlify"
   ]
  },
  {
   "cell_type": "code",
   "execution_count": 63,
   "metadata": {},
   "outputs": [],
   "source": [
    "from base64 import b64encode, b64decode"
   ]
  },
  {
   "cell_type": "code",
   "execution_count": 64,
   "metadata": {},
   "outputs": [
    {
     "data": {
      "text/plain": [
       "b'7468697320697320676f6e6e612062652068657820736f6f6e'"
      ]
     },
     "execution_count": 64,
     "metadata": {},
     "output_type": "execute_result"
    }
   ],
   "source": [
    "hexlify(b'this is gonna be hex soon')"
   ]
  },
  {
   "cell_type": "code",
   "execution_count": 65,
   "metadata": {},
   "outputs": [
    {
     "data": {
      "text/plain": [
       "b'this is hex no more'"
      ]
     },
     "execution_count": 65,
     "metadata": {},
     "output_type": "execute_result"
    }
   ],
   "source": [
    "unhexlify(b'7468697320697320686578206e6f206d6f7265')"
   ]
  },
  {
   "cell_type": "code",
   "execution_count": 66,
   "metadata": {},
   "outputs": [
    {
     "data": {
      "text/plain": [
       "b'QmFzZTY0IHRoaXMgdGhpbmch'"
      ]
     },
     "execution_count": 66,
     "metadata": {},
     "output_type": "execute_result"
    }
   ],
   "source": [
    "b64encode(b'Base64 this thing!')"
   ]
  },
  {
   "cell_type": "code",
   "execution_count": 67,
   "metadata": {},
   "outputs": [
    {
     "data": {
      "text/plain": [
       "b'base64 is not encryption!'"
      ]
     },
     "execution_count": 67,
     "metadata": {},
     "output_type": "execute_result"
    }
   ],
   "source": [
    "b64decode(b'YmFzZTY0IGlzIG5vdCBlbmNyeXB0aW9uIQ==')"
   ]
  },
  {
   "cell_type": "markdown",
   "metadata": {},
   "source": [
    "## Some reminders\n",
    "\n",
    "You are not allowed to use additional libraries (even within the Python standard library) other than those explicitly used here, though you may implement additional functions of your own.\n",
    "\n",
    "**Very important:** Always work with raw bytes, never with encoded strings.\n",
    "\n",
    "The following pages from the Python documentation may be helpful:\n",
    "- https://docs.python.org/3/library/stdtypes.html#bytes-objects\n",
    "- https://docs.python.org/3/library/binascii.html\n",
    "- https://docs.python.org/3/library/base64.html"
   ]
  },
  {
   "cell_type": "markdown",
   "metadata": {},
   "source": [
    "## 1-1. Hex to Base64 [2 pts]"
   ]
  },
  {
   "cell_type": "markdown",
   "metadata": {},
   "source": [
    "Write a function called `hex_to_b64` to convert a hex-encoded bytestring into Base64. For example, the string\n",
    "```\n",
    "48656c7021204920676f7420584f52206579657320616e642069742773206b696c6c696e67206d65\n",
    "```\n",
    "should output\n",
    "```\n",
    "SGVscCEgSSBnb3QgWE9SIGV5ZXMgYW5kIGl0J3Mga2lsbGluZyBtZQ==\n",
    "```"
   ]
  },
  {
   "cell_type": "code",
   "execution_count": 68,
   "metadata": {},
   "outputs": [
    {
     "name": "stdout",
     "output_type": "stream",
     "text": [
      "b'SGVscCEgSSBnb3QgWE9SIGV5ZXMgYW5kIGl0J3Mga2lsbGluZyBtZQ=='\n"
     ]
    }
   ],
   "source": [
    "from binascii import hexlify, unhexlify\n",
    "from base64 import b64encode, b64decode\n",
    "\n",
    "def hex_to_b64(h):\n",
    "    #Decode hexstring to bytestring\n",
    "    hex_bytes = unhexlify(h)\n",
    "\n",
    "    b64_bytes = b64encode(hex_bytes)\n",
    "    return b64_bytes\n",
    "\n",
    "test = hex_to_b64(b'48656c7021204920676f7420584f52206579657320616e642069742773206b696c6c696e67206d65')\n",
    "print(test)"
   ]
  },
  {
   "cell_type": "code",
   "execution_count": 69,
   "metadata": {},
   "outputs": [],
   "source": [
    "# if your function works properly, no error should appear when running this line\n",
    "assert hex_to_b64(b'48656c7021204920676f7420584f52206579657320616e642069742773206b696c6c696e67206d65') == b'SGVscCEgSSBnb3QgWE9SIGV5ZXMgYW5kIGl0J3Mga2lsbGluZyBtZQ=='"
   ]
  },
  {
   "cell_type": "markdown",
   "metadata": {
    "tags": []
   },
   "source": [
    "## 1-2. XOR'ing two bytestrings [4 pts]"
   ]
  },
  {
   "cell_type": "markdown",
   "metadata": {},
   "source": [
    "Write a function called `xor_bytes` that takes two bytestrings of equal length and outputs their XOR. For example, if I have a bytestring\n",
    "```\n",
    "49207374696c6c206861766520584f522065796573206e6f772077686174\n",
    "```\n",
    "after hex-decoding it, and when I XOR it against\n",
    "```\n",
    "3a4f1e11060209001b04180100302a3e5045141c5345170a040016292955\n",
    "```\n",
    "it should output\n",
    "```\n",
    "736f6d656f6e652073656e642068656c70206d7920657965732061414821\n",
    "```"
   ]
  },
  {
   "cell_type": "code",
   "execution_count": 70,
   "metadata": {},
   "outputs": [
    {
     "name": "stdout",
     "output_type": "stream",
     "text": [
      "b'I still have XOR eyes now what'\n",
      "b':O\\x1e\\x11\\x06\\x02\\t\\x00\\x1b\\x04\\x18\\x01\\x000*>PE\\x14\\x1cSE\\x17\\n\\x04\\x00\\x16))U'\n",
      "b'someone send help my eyes aAH!'\n",
      "b'736f6d656f6e652073656e642068656c70206d7920657965732061414821'\n"
     ]
    }
   ],
   "source": [
    "from binascii import hexlify, unhexlify\n",
    "\n",
    "def xor_bytes(a, b):\n",
    "    #this is to see if the length of the two bytestrings are equal or not\n",
    "    if len(a) != len(b):\n",
    "        #return an empty bytes object if lengths are different\n",
    "        return b''\n",
    "    \n",
    "    # XOR the byte strings and return the result as a bytes object\n",
    "    return bytes(byte_a ^ byte_b for byte_a, byte_b in zip(a, b))\n",
    "\n",
    "a = b'49207374696c6c206861766520584f522065796573206e6f772077686174'\n",
    "b = b'3a4f1e11060209001b04180100302a3e5045141c5345170a040016292955'\n",
    "\n",
    "test = xor_bytes(unhexlify(a), unhexlify(b))\n",
    "\n",
    "print(unhexlify(a))\n",
    "print(unhexlify(b))\n",
    "\n",
    "print(test)\n",
    "\n",
    "print(hexlify(test))"
   ]
  },
  {
   "cell_type": "code",
   "execution_count": 71,
   "metadata": {},
   "outputs": [],
   "source": [
    "# if your function works properly, no error should appear when running this line\n",
    "assert hexlify(xor_bytes(unhexlify(b'49207374696c6c206861766520584f522065796573206e6f772077686174'), unhexlify(b'3a4f1e11060209001b04180100302a3e5045141c5345170a040016292955'))) == b'736f6d656f6e652073656e642068656c70206d7920657965732061414821'"
   ]
  },
  {
   "cell_type": "markdown",
   "metadata": {},
   "source": [
    "## 1-3. Single-byte XOR cipher [6 pts]"
   ]
  },
  {
   "cell_type": "markdown",
   "metadata": {},
   "source": [
    "You could say that this is just the Caesar cipher but it works over binary strings instead. Anyways, I have encrypted the hex-encoded bytestring\n",
    "```\n",
    "264f0300190a4f0d06084f1c0a02061f1d06020a1c4f0e010b4f264f0c0e0101001b4f03060a4e\n",
    "```\n",
    "by XOR'ing it against a single character. Find out what key I used, and decrypt the message."
   ]
  },
  {
   "cell_type": "markdown",
   "metadata": {},
   "source": [
    "You can do this by hand (since there are only 256 possible keys to choose from), but don't!\n",
    "**Write code to do this for you.**\n",
    "Have some way of \"scoring\" a piece of English plaintext, like using character frequency, so you can try each possible key and just output the one with the best score.\n",
    "\n",
    "Write a function called `try_decrypt_xor` that does just that, i.e., it takes a bytestring and outputs the key and the decrypted message (and optionally the score). And yes, you may implement your own functions as well."
   ]
  },
  {
   "cell_type": "code",
   "execution_count": 72,
   "metadata": {},
   "outputs": [],
   "source": [
    "# taken from http://pi.math.cornell.edu/~mec/2003-2004/cryptography/subs/frequencies.html\n",
    "FREQ_TABLE = {'e': 12.02, 't': 9.10, 'a': 8.12, 'o': 7.68, 'i': 7.31, 'n': 6.95, \n",
    "              's': 6.28,  'r': 6.02, 'h': 5.92, 'd': 4.32, 'l': 3.98, 'u': 2.88, \n",
    "              'c': 2.71,  'm': 2.61, 'f': 2.30, 'y': 2.11, 'w': 2.09, 'g': 2.03, \n",
    "              'p': 1.82,  'b': 1.49, 'v': 1.11, 'k': 0.69, 'x': 0.17, 'q': 0.11, \n",
    "              'j': 0.10,  'z': 0.07, ' ': 19.18}"
   ]
  },
  {
   "cell_type": "code",
   "execution_count": 73,
   "metadata": {},
   "outputs": [
    {
     "name": "stdout",
     "output_type": "stream",
     "text": [
      "Key: 111 (o)\n",
      "Message: b'I love big semiprimes and I cannot lie!'\n",
      "Score: 332.99000000000007\n"
     ]
    }
   ],
   "source": [
    "from binascii import unhexlify\n",
    "\n",
    "def score_text(text):\n",
    "    # Use frequency table to score the encryption\n",
    "    return sum(FREQ_TABLE.get(chr(c).lower(), 0) for c in text)\n",
    "\n",
    "def xor_bytes(data, key):\n",
    "    #XOR the byte string with a single byte key.\n",
    "    key_bytes = bytes([key]) * len(data)  # Repeat the key for the length of data\n",
    "    return bytes(byte_a ^ byte_b for byte_a, byte_b in zip(data, key_bytes))\n",
    "\n",
    "def try_decrypt_xor(c):\n",
    "    #Try decrypting a bytestring XOR'd with a single-character key.\n",
    "    ciphertext = unhexlify(c.strip())  # Convert hex to raw bytes\n",
    "    best_score = 0\n",
    "    best_key = None\n",
    "    best_message = None\n",
    "\n",
    "    for key in range(256):  # Try all possible single-byte keys\n",
    "        decrypted = xor_bytes(ciphertext, key)\n",
    "        try:\n",
    "            score = score_text(decrypted)\n",
    "            if score > best_score:\n",
    "                best_score = score\n",
    "                best_key = key\n",
    "                best_message = decrypted\n",
    "        except:\n",
    "            continue  # Skip invalid decryption attempts\n",
    "\n",
    "    return best_key, best_message, best_score\n",
    "\n",
    "# Test\n",
    "key, message, score = try_decrypt_xor(b\"264f0300190a4f0d06084f1c0a02061f1d06020a1c4f0e010b4f264f0c0e0101001b4f03060a4e\")\n",
    "\n",
    "print(\"Key: \" + str(key) + \" (\" + chr(key) + \")\")\n",
    "print(\"Message: \" + str(message))\n",
    "print(\"Score: \" + str(score))\n"
   ]
  },
  {
   "cell_type": "markdown",
   "metadata": {},
   "source": [
    "## 1-4. Detect single-character XOR [6 pts]"
   ]
  },
  {
   "cell_type": "markdown",
   "metadata": {},
   "source": [
    "I have a [file](http://lunchtimeattack.wtf/csci184.03/xor_strings.txt) that contains 420 64-character hex-encoded strings, and **only one** of them has been encrypted by single-character XOR. \n",
    "\n",
    "Find that string.\n",
    "\n",
    "*Hint:* Your code from the previous item should help."
   ]
  },
  {
   "cell_type": "code",
   "execution_count": 74,
   "metadata": {},
   "outputs": [],
   "source": [
    "fin = open('xor_strings.txt', 'rb')"
   ]
  },
  {
   "cell_type": "code",
   "execution_count": 75,
   "metadata": {},
   "outputs": [],
   "source": [
    "strings = fin.readlines()"
   ]
  },
  {
   "cell_type": "code",
   "execution_count": 76,
   "metadata": {},
   "outputs": [
    {
     "name": "stdout",
     "output_type": "stream",
     "text": [
      "Encrypted string: 761f59504a515b1f4b575a1f575e461f56511f5e1f515a5a5b535a4c4b5e5c54\n",
      "Key: 63 (?)\n",
      "Decrypted message: b'I found the hay in a needlestack'\n",
      "Score: 290.3\n"
     ]
    }
   ],
   "source": [
    "from binascii import unhexlify\n",
    "\n",
    "def score_text(text):\n",
    "    # Score a string based on the frequency of English letters.\n",
    "    return sum(FREQ_TABLE.get(chr(c).lower(), 0) for c in text)\n",
    "\n",
    "def xor_with_key(data, key):\n",
    "    #XOR the byte string with a single byte key.\n",
    "    key_bytes = bytes([key]) * len(data)  # Repeat the key for the length of data\n",
    "    return bytes(byte_a ^ byte_b for byte_a, byte_b in zip(data, key_bytes))\n",
    "\n",
    "def try_decrypt_xor(c):\n",
    "    ciphertext = unhexlify(c.strip())  # Convert from hex to raw bytes\n",
    "    best_score = 0\n",
    "    best_key = None\n",
    "    best_message = None\n",
    "\n",
    "    for key in range(256):  # Try all 256 possible single-byte keys\n",
    "        decrypted = xor_with_key(ciphertext, key)\n",
    "        try:\n",
    "            score = score_text(decrypted)\n",
    "            if score > best_score:\n",
    "                best_score = score\n",
    "                best_key = key\n",
    "                best_message = decrypted\n",
    "        except:\n",
    "            continue  # Skip invalid results\n",
    "\n",
    "    return best_key, best_message, best_score\n",
    "\n",
    "def find_encrypted_string(strings):\n",
    "    #Processes multiple hex strings and finds the one encrypted with single-character XOR.\n",
    "    best_overall_score = 0\n",
    "    best_string = None\n",
    "    best_key = None\n",
    "    best_decrypted_message = None\n",
    "\n",
    "    for c in strings:\n",
    "        key, message, score = try_decrypt_xor(c)\n",
    "        if score > best_overall_score:  # Track the best result across all strings\n",
    "            best_overall_score = score\n",
    "            best_string = c\n",
    "            best_key = key\n",
    "            best_decrypted_message = message\n",
    "\n",
    "    return best_string, best_key, best_decrypted_message, best_overall_score\n",
    "\n",
    "# Example usage (assuming `strings` is already defined in a previous cell)\n",
    "best_string, best_key, best_message, best_score = find_encrypted_string(strings)\n",
    "\n",
    "# Test\n",
    "if best_string:\n",
    "    print(\"Encrypted string: \" + best_string.strip().decode())\n",
    "    print(\"Key: \" + str(best_key) + \" (\" + chr(best_key) + \")\")\n",
    "    print(\"Decrypted message: \" + str(best_message))\n",
    "    print(\"Score: \" + str(best_score))\n",
    "else:\n",
    "    print(\"No valid encrypted string found.\")\n"
   ]
  },
  {
   "cell_type": "markdown",
   "metadata": {},
   "source": [
    "## 1-5. Implement repeating-key XOR [4 pts]"
   ]
  },
  {
   "cell_type": "markdown",
   "metadata": {},
   "source": [
    "Here are the first two lines of what people consider one of [Frank's greatest hits](https://youtu.be/ntULIFnj7MY):\n",
    "```\n",
    "Shawty had them apple bottom jeans,\n",
    "The boots with the fur\n",
    "```\n",
    "Encrypt it using repeating-key XOR, with the key \"`LOW`\"."
   ]
  },
  {
   "cell_type": "markdown",
   "metadata": {},
   "source": [
    "The way repeating-key XOR works is that the first byte of plaintext will be XOR'd against `L`, the next `O`, the next `W`, then `L` again for the 4th byte, and so on. In effect, it will look something like this:\n",
    "```\n",
    "Plaintext:   S h a w t y   h a d   t ...\n",
    "Key:         L O W L O W L O W L O W ...\n",
    "```\n",
    "If this reminds you of the Vigenère cipher, you're absolutely right! This *is* just Vigenère, but we're working over binary strings instead."
   ]
  },
  {
   "cell_type": "markdown",
   "metadata": {},
   "source": [
    "Write a function called `xor_repeating` that takes two bytestrings corresponding to the plaintext and the key, and encrypts it using repeating-key XOR. Using the plaintext and key above, your function should output:\n",
    "```\n",
    "1f27363b3b2e6c2736286f23242a3a6c2e273c23326c2d38383b38216f\n",
    "3d292e393f635d1827326c2d38233b246c383e3827773827326c29223e\n",
    "```\n",
    "when hex-encoded. (Note that this is a single hex string; it's only split into two lines to make it fit.)"
   ]
  },
  {
   "cell_type": "code",
   "execution_count": 77,
   "metadata": {},
   "outputs": [
    {
     "name": "stdout",
     "output_type": "stream",
     "text": [
      "b'1f27363b3b2e6c2736286f23242a3a6c2e273c23326c2d38383b38216f3d292e393f635d1827326c2d38233b246c383e3827773827326c29223e'\n"
     ]
    }
   ],
   "source": [
    "from binascii import hexlify\n",
    "\n",
    "#Get message, key, encrypt using key\n",
    "def xor_repeating(m, key):\n",
    "    key_length = len(key) #low\n",
    "    encode = bytes([b ^ key[i % key_length] for i, b in enumerate(m)]) #go through each byte of m, cycle depending on key-leth\n",
    "    return encode\n",
    "\n",
    "\n",
    "# Test \n",
    "test = hexlify(xor_repeating(b'Shawty had them apple bottom jeans,\\nThe boots with the fur', b'LOW'))\n",
    "print(test)"
   ]
  },
  {
   "cell_type": "code",
   "execution_count": 78,
   "metadata": {},
   "outputs": [],
   "source": [
    "# if your function works properly, no error should appear when running this line\n",
    "assert hexlify(xor_repeating(b'Shawty had them apple bottom jeans,\\nThe boots with the fur', b'LOW')) == b'1f27363b3b2e6c2736286f23242a3a6c2e273c23326c2d38383b38216f3d292e393f635d1827326c2d38233b246c383e3827773827326c29223e'"
   ]
  },
  {
   "cell_type": "markdown",
   "metadata": {},
   "source": [
    "## 1-6. Break repeating-key XOR [10 pts]"
   ]
  },
  {
   "cell_type": "markdown",
   "metadata": {},
   "source": [
    "I have [another file here](http://lunchtimeattack.wtf/csci184.03/encrypted.txt).\n",
    "It has been Base64-encoded after being encrypted with repeating-key XOR.\n",
    "\n",
    "Decrypt it."
   ]
  },
  {
   "cell_type": "markdown",
   "metadata": {},
   "source": [
    "Here's how:\n",
    "\n",
    "1. Let $n$ be the guessed key length. Try values from $n = 2$ up to $n = 40$.\n",
    "\n",
    "2. Write a function called `hamming_dist` that computes the [Hamming distance](https://en.wikipedia.org/wiki/Hamming_distance) between two bytestrings of equal length.\n",
    "The Hamming distance is just the number of differing bits.\n",
    "For example, the Hamming distance between `twelve plus one` and `ElEveN pLUs twO` is $30$. **Please make sure your function works correctly first before proceeding.**\n",
    "\n",
    "3. For each $n$, take the first $n$ bytes and the second $n$ bytes, and find the Hamming distance between them. \n",
    "Divide the result by $n$ to normalize it.\n",
    "\n",
    "4. The $n$ with the smallest normalized Hamming distance is *probably* the key. But just to make sure, you could proceed with the smallest 2 or 3 values of $n$, or you could take 4 blocks of $n$ instead of 2 and average their distances.\n",
    "\n",
    "5. Now that you probably know $n$, split the ciphertext into blocks of length $n$.\n",
    "\n",
    "6. Now transpose the blocks: make a block that is the first byte of every block, and a block that is the second byte of every block, and so on. For example, suppose we have the ciphertext split into blocks of length 5:\n",
    "```\n",
    "QWERT YUIOP ASDFG HJKLZ\n",
    "```\n",
    "then transposing these blocks will yield five blocks of length 4:\n",
    "```\n",
    "QYAH WUSJ EIDK ROFL TPGZ\n",
    "```\n",
    "\n",
    "7. Solve each block as if it was single-character XOR. You have code to do this, so go use that.\n",
    "\n",
    "8. For each block, the single-byte XOR key that has the best score is the repeating-key XOR key byte for that block. All you need to do is to put them together and you have the key!\n",
    "\n",
    "As before, you may implement additional functions of your own."
   ]
  },
  {
   "cell_type": "code",
   "execution_count": 93,
   "metadata": {},
   "outputs": [],
   "source": [
    "# taken from http://pi.math.cornell.edu/~mec/2003-2004/cryptography/subs/frequencies.html\n",
    "FREQ_TABLE = {'e': 12.02, 't': 9.10, 'a': 8.12, 'o': 7.68, 'i': 7.31, 'n': 6.95, \n",
    "              's': 6.28,  'r': 6.02, 'h': 5.92, 'd': 4.32, 'l': 3.98, 'u': 2.88, \n",
    "              'c': 2.71,  'm': 2.61, 'f': 2.30, 'y': 2.11, 'w': 2.09, 'g': 2.03, \n",
    "              'p': 1.82,  'b': 1.49, 'v': 1.11, 'k': 0.69, 'x': 0.17, 'q': 0.11, \n",
    "              'j': 0.10,  'z': 0.07, ' ': 19.18}"
   ]
  },
  {
   "cell_type": "code",
   "execution_count": 98,
   "metadata": {},
   "outputs": [
    {
     "name": "stdout",
     "output_type": "stream",
     "text": [
      "Key: ne\n",
      "tLUD\u000fXR\u0017:*P$Hmg is<aT-ne\"ms! hceLdl se} \\dkz+h=2i~reNcecanseI-fx*,t1'y4k\u0016\u0006\u0003CHONUi7'T+mh1ilo)\u0019\u0006\u0003NARNAnBU,nEsetbeAihr --,\n",
      "=7:~<-i0:*k\u0016\")Jap}n\u001a`nq&x=+o~:-Yzl beyn\u001aebd+\"=\fn*n-],pear<-\u000e=+&~<=,t*m$K,aere<aTi'o!y=&ov!\u0018{hlk ho\u001ads8nMs! yu(],yeoppe\u001azfz%iyete:,L\"\u0003\n",
      "Thy Chfdneneneme\u0015=;,00,\n",
      "0CFD\u001cMI\n",
      "<9.xeseo+\\,ff a<dUbut+`qecbs(]\")The<y_lu6'=+o}:heaWh'w ,t6lkt!\u0014,hnd roM-s~+~xbs*v*L)of hr_ht6,i~$uyeQx.s w}rWhu8D\u0006I-e*c Y~)is roM-*'~ -u0\u0000\u0010\u000by^[ATON:\u001a^h:nbr2 ~r Ji.s pyoJab6!b=1ho:,K`hnd }n^-s~+u:7e*x$Kejalle Ibubnc{ehkt\"Qbn ouh Sc't+xj ed:1Pi)mourt[dieni|1id}eVy}s ozf\u001ayus+=$nn:0Kegg tte\u001aafb+ietoy-Vceogy2 vdlsni*noieYbm boklI#\n",
      "\n",
      "SUn^NR\u000b,J\n",
      "RF^e\u0010GFREA5:\u001aInx),y*nm4O2BHRRAHOh7'_:+netbeWy}sidy Mbuz* =$nn:1Pip haje\u001aybu&br)omce^~fm tte\u001akrb;~xi fs.],{ealpy\u001ajhy*,p tkveYbm cr}zC-u-i=#axw6\u0019\u0006Gow,<yUx'u/b=(aaeY,eot sf\u001anu+,o afv<\u0014,{ealpy\u001a|r-gq<.\u0000N-Yx)mears\u001ada67cheo}teLdl fanm\u0016-~y;,r2n*{eTc} of<fUbc:n{u,cb:,K,zomehhSc`6+zx7yhu!A,geedo Nb'e;~k,vo4ekc% th}t\u001a`f}+=<o:.Qbn.\n",
      "\n",
      "\u001c\u0000MO\u0017A^U\u0017\u0002,]he reM-wd'b~  }{+L)evenyUcb6:c=1rs:1Pez hoh Thp6<iq,gcu+\u0018j{om ^a_fms`\u0006\u0017\u0015RCT\u0006},ZHOTSKo7'F\"i|6e*n7A,}his<r_anq'csk.$\u0010OvM[RATSR\u0000-)8`,u  y{,\\\"\u0003w5W~}ant<kSc`r!anewoh \u0018dlre,<h_b:ndx7e&:-]~l, hyr_!'~+~xi kt!\u0018dlre.<BOy+6:dt6 et \u0018{hs tte\u001a`he:,p*s~:,U|frtart\u0016-uc\"iyebs:$\u0018.aeavynVt'e;|x7poh6Wb%\" on _`ws<coefeheKdfrt.<KTbd}ngs*ca6e_i} thy ^bhdb,t1'y:7]``gior.0\u0007S~+,d ax:,K,gow )9\t#\n",
      "JALAtHTSt,S*!\u0000\u0010\u000by^[ATON:\u001a#)8=mt! ol Jukody2\n",
      "0]U_\u0000OXeSBU\u0011wG\\: Tny\u001ads8`\"\u0017ONKH\u0017yXFR: 2.\u0014-osn|,d$\u0010OrMYANEOE\u0000-Iy`\"3O\n",
      "D[\u0017jM]OR:<.\u0014#'e/eyee|7Anfdy }g[di:n}h,e~7\u0018xais hiWh)\u001cDXu  s$J,`s nsw\u001a;7\"`\u0006\u0017\u000bAXH\u0004lC[: Ard\u001a~h:nxu  x)Qk`on kaI-wc:,t+te:5Tmje ard\u001alkznxu  xo)])thah Yljsn{t1h*s1\u0016\u0006\u0003The<y_lu6'=+o}:s\f9'\n",
      "\n",
      "N]RhLSY\u001c6=\u0011hoti\u0018xae gsv_i{+biewkieLmben sv_'t7,|+o~r J,jliqie\u001alirnxu y*w$\\i)somy Hhay<anelcq \u0002,dakirg\u001ayosnkr3ext(]b} gojeHc'{!~xi kt!\u0018ahkin{ Neb6)ck rdw Vx)mory VdlsnOu,nk=6\u0018kfverrm_cs:n{u,cb:,K,h gojeHcjs x=1hkne_cerno Wbus`\u0006\u0017\u000fAZ[\u000b\u0002,Ai, _hScf8D\u0006S\u0004RX[\u0011w^3 ..2 Nebon|,d$\u0010O{D@NA:<HS!'r'|n-i~4O2BHRRAHOh7'8`\"n$in:\u0006Pega.\n",
      "\u0016J{]FXt,^$n*c*M,jall<uI-ty#ii-id}e]`ze ohh_'b&msedcj6Pe}?\n",
      "\n",
      "X\u000f^O\u0004TEH\u0018\"'. s}i^-Mw>msk.\u0000\u0010\u000fy\\HN: ToM-ft!yiest7Ql lard\u0005\u0007\n",
      "\u0000T\u0004j^HTOR& {cc6:dx< yn*Ti)Chira\u001d~'w\"|u$boneYbm wrst_-f6,cr..$4O2Xae yyaH-nenbr2 =+t\u0016\u0006\u0003NARNAnBU,n\"3k kx*Mx)theqs_aqs=\"=\u0004nn:1Pig thyy\u001a`fr+,q*ty:*^,yoetny\u001alirnmo1 kt!\u0018mgothyr\u001aohy%\"3k\n",
      "\u0000N-],pear<iI-iy9,*w0$\u0010OvM[RATSR\u0000-)8`,|'oneLdlmsepv_~)\u001cDMnetbe[myitap Uk'\\/||+ m1K,dovex,\u001ayosnux$r*}*])froq \u000f876:c=r434O2BHRRAHOh7'B&isi ~r A,ztople^-jy8es\" ~r \u0018ohpit}l\u001ahqs<u=1igeLdl emleHbu6*ex!,*{+\\,bept<iN-nxncs  zv$[i)for<a\u001azo\"i3eRc}-L,aere2 {cc:nxu y*y*V}|erex Neb6 co1h&:#Qbhlly2\n",
      "0Yosnux$r*s6\u0018bfw 8,20\u0007IW\u001c^\\\u0011OX ei} th}t\u001a~vc/~x! km$A\"\u0003\n",
      "Thy Chfdneneneme\u0000<=\n",
      "\n",
      "N]RhLSY\u001c6=\u0004 xs&P,aipsheH-iw#iyeKq$Q,`s bsr_i'a'xueme~ Jb)BudxhS~j:nzt6i~ie{d`na,<aTi'z+mo+s*{eZi}ter<v_t!b=2hcy-\u0018ez mone\u0014#)\u001cDOU\n",
      "R_I\u0018yirihu[a&\u001cDB\\\u0017RKN\n",
      "j6)...<cU`benn|&k&:7]egvenhs\u001ayosnmq5hkx L,hnd aO~benmo1 kt!\u0018``ter}tOb6:c='e\u0000\u0010\u0006pC[US:<gHhfbo\u0006\u0017\u000bAXH\u0004lC[: .2.\u001akhdnm=)od}eLede. ]n^-s~+,o*ykveHmeace<tOis*,t+te:6Moa a xr_lj69co)d*u#\u0018m{t ttaN-s~+u=7ekv)A,midn;t\u001ajn`+,|esbs1\u0018mkout<rOci k=1ho:&Wygtry2 ib+6'j=<o:)Qzl ouhsSib6:dxepkv$[i% hok [b67chesj5Wld ts Jhb+oieyeo7\u0018ait zrU`'u<ep,nkv6\u0007\u0006\u0003CHONUi7'^'~xea*i$Uy{ai.\u0016\n",
      "{~'b&i=6ago7Ye)filp plww  =1ho:<]m{ goys\u001akuy#,,u0=:1W,8042\u0016\n",
      "\u001c\u000f,~*rx&Lefn bsx\u001a}hf=,h5h=-ixs+_,zamunaS#\n",
      "\u0000T\u0004j^HTOR& hdd~nep5oxn$Vx)peoll_-o<iyeskw0Jm`. PsoH-ws!|q  }r*\u0018ofuld<nUy'w(jr7d*n*\u0018d`re oaWxuw',y,d*t*L,aire<s[`rd/e3eTbeKmdurau Xhdw#i=*rm{+Qvld ard\u001a}ha+~{0l&:(W~l pokeHkrznxu$n*n-],novennWhib`,N*,*n-]u)mady Neb<,r2n*w,Te}ary<gU{bd ax+t*r Ji'\n",
      "\n",
      "Tte\u001atbw<,t6 du2\u0018=892\n",
      "\u0016N{_UW\u001aCO ^r A,eet hh_-b{>io*r*i1Q`e be<\"_`ws<coi\"*x0L,}he ohUjrxneneain0Y`ey ir Ybib<cqk\n",
      "\u0000N-],pear<iI-iy9,,w6<\u0010OvM[RATSR\u0000-Ed+mv,nm:\u000b]{z: Tte\u001a@hx)cq6 b{3],`nvaxe^-D~'b|k\n",
      "\u0000W\n",
      "X\u000f^O\u0004TEH\u0018\"'.saud\u001ayosnAr+gev6\u0016\u0006\u0003MON[Ov^=6\u001e`x$so:7]yect<uI-hdniq6e*m \u0018a`ght<iT{fr+,d*u*{6\u0018{lll.>\n",
      "0GFF\u000fB'eOa{<\u0016\"'\n",
      "\n",
      "Tte\u001a~hc h=*f*o+Kdlathun]-ta!~y6\n",
      "\u0000T\u0004j^HTOR& \u0014#)6=mt! @{5Yb'\n",
      "\n",
      "Tte\u001atbw<,t6 du2\u0018=;74\n",
      "RAh_FB\u0001^'eSe6eLdl MorgUat6-mp  el J,{eade \\bu69moead~e\\eld ir [-sy<b|!o$\u0010\u0011Pi)yean S~'x!{=t22+O2BHRRAHOh7'T;x1etb<\u0018x{ied<a]lnxnms! b{!\u0018m)nicy Ndjsnjt\"h~s+_,~ith<tRh'\\/||+eyeZy} thyn\u001ains*,t+ k:1W~gado2\n",
      "X\u000f^O\u0004TEH\u0018Xaen hh_-b{>io*r*u3]~}hroks\u001ayosnu*gt$Li'\n",
      "\n",
      "Tte\u001atbw<,t6 du2\u0018=:36\n",
      "\u0016N{_UW\u001aCO ^r V,}he ohUjrx/xxeo|7Ld{ows<hS`'t/ovead~eUces ho\u001aF~y:c=$nn:(Ygls a<n_z'e&cz0nkn \u0016,Hnd hh_-b{>io*r*y$V,ztilp ^be=,q,ko:$V,lmpenoH-npndxewkt1K7)thah'I-a i3O\n",
      "IR\n",
      "jYZ: Nsw\u001ayos<i:6 gu7],hrt!\u0016\n",
      "e*i$A'..\u0018E}'s hiWh'p!~=gWbubK,noin{ Nb't+,i-e*t @x)sho{uT2%6\u001bh$lfci\u0018e}'s hh_-t~!kh+'y:.Qh% buh Neb6=dr\"ud:!Wizn't<h[{b6/,v,d&:6W,ae tni_~'b!,z t*r,K,krotteH-syn}h,t*x Qbn a qoTf'w h='e*n-],gext<sRb`c \"=\n",
      "X\u000f^O\u0004TEH\u0018N|t tteT-s~+,n-omo+\u0018dhs a<kSi)6\u001dc1enemeOdf's ut\u001ajhx m='e5:\u0013Wxl nok Uc'o!yoepbu+]'.. ]n^-b`+~d*no:3Wxld ss Rlurnxu$t*n-],yalae\u001anfc)dieod:#Q~l anx Xxux+h=!o}tk2\u0006LxplssSbi6=ch+d\u0000\u0010\u000by^[ATON:\u001aYosnu*gteYo}ualpy\u001ainr +ieckh \u0016,Ae w}s\u001abapnr(e}r Ji)doirg\u001a}hs:~dk Kt!\u0018xae wtoVh'u!ys1rs:'Jcbe ts Jdbu+3O\n",
      "Kiermyan ~r_lleb,i-e*c Y~)goeo \\h{n=)s7*n*\u0018=<03\n",
      "\u0016N{_UW\u001aCO Ol Jufne us\u001aknq&xt+g*m,Ld)eact Uyos<,{*r*v*[me pokeH-fx*,t1'y:$Vukody;s\u001ajf{+\"\u0017OE_H\n",
      "hI3 KnscQ-lx!ovk\n",
      "\u0000N-],zounx Uk'e!ax*no:.Vcjkin{.\u001aLt6/,n-iz:$J~`ves<tU-Mw>msi ~r \u0018ular {o_~'p<cpe1?.q\u0018xf 15*10\u0007IW\u001c^\\\u0011OX eqx.s EirU}b8nBri ~r A+{e nst\u001aebd+,i* ~{.],fver0 Nebonfh6t*m$Vbh sepl\u001a~h{+,n-i~:)Qgl clscQ~+6/byegt6\u0014,hnd.2.0\u0007D^\u0001^H\u0016:*P Kyz!\n",
      "\n",
      "RAh_FB\u0001^'eSe6eLdht's<cUbk:nnh1 ol Jufne'o Iynz\",{,gbn,Vk)eact Uyos<,{*r*y*Vx{ol,<nUz'a'xuegt6\u0019,Hnd koOacxix=,t*x \u0018b`ce ho\u001anhx:~r) ~r \u0018ohpit}l\u0016-p~'oui xs\"Px)now0 S~'f;|m ty:2Qxa no<oTh'u!bi7ofv,Vk)theq?0\u0007S~+,d ax:,K,gow -5\f=)\u001cDB\\\u0017RKN\n",
      "j6)Thio Yafxnenero{!A,}o m}k_-f6<ysefeheQx% buh \\due:,i-es:-Yzl to<tHljf\"i=1hcieKahllen Yafxn{u,cb:,K,`n tte\u001azfo`,N0rzh,Ki( Thy I`fz\"ioecf{+\u0018{`ns.<ATi'b&i=)ek~ J,ff ttaN-dz/b=6to{)K,}he ud_l'y(,t+vk~,Vk)the<c[}nb/`=$nn:,Vzhdes<tRh'u/|t1af4O2Xae yyaH-nenbr2 ;/s\u0000\"\u0003\n",
      "NANR{YHDt,\\+d*s1\u0018kfes jeHt'a+`qk BbK,hbouh Rlkp9mdetbh*Mka corqOhu k=\u000faz{+\u0018{aen ooWhhx+,j-o*m*Jgz fon Rdj6%eq)s*r,U\"\u0003\n",
      "Thy Chfdneneneme\t912.\n",
      "\u001c\u0000MO\u0017A^U\u0017\u0002,Hnd hh_c'~+,~*nls6[m}ed yv_~t!hdbs*i2W~ms ard\u001a`fr+,n*mo:7M`ls.A,oinioh_~'u!bl0exs+_,Capar.0\u0007S~+,d ax:,K,gow -5\u0003=\n",
      "\u0016NZ'E\u0006CZ\u0010N0:gybm nok s*j6)ct+g*n*\u0018egvady qbus/ =$nn:1Pig hole\\xkz7,^-id{i\u001a,ae s}i^!'w h=#acv \\ )and<aV~h6*ex!.\u0000\u0010\u0011Pi)yean S~'x!{=t53\"k2\u0006GARR]Tu_=6\fyiebo|*Ji)he xi_i'~+,i*ln:1Pize fuv_-`c7=1o*n$Si)cary Uk'~'=#i|hAihr-opd\u001a~hxnys1if:-]+z olx _chc)d=1o*x \u0018xae nyxN-uc\"ioeol:\u000fY|hn. ]n^-s~+,{,vo:\"Muz saud\u0014#)\u001cDJT\u0013E*]\u0010a_3 Ye}h\u0016-u)dik CnbK,got {oTcf6,i=1hcieSem. Ihs\u001ajhx m='e*u+],ff uo.\u001a*Dw;xewo=7],nrowruJ~)\u001cDB\\\u0017RKN\n",
      "j6)And0 Sy en|o*bkx)A,nonn} Xh'b&enegceOdf halp_ct6:c='e*m$A,dore<rSno6/byepem Jj|l ttaT-s~+,r1hoh6\u0016\u0006\u0003An um[jb6!j=\u0001od{)\\,]ruml S~'e;|x7igj*Kim ovyr\u001ayosnep$go:*^,}he ooUc*b!!  d2\u0018aogur.0\u0007IW\u001c^\\\u0011OX ey,eot sf\u001a}by>`xesj5W~} hiq.\u001aOrbnm=)o~:*^,yeoppe\u001a~rf>co1 du1\u0018|ppontSc`6&epk\n",
      "\u0000N-],pear<iI-iy9,,s0:4O2BHRRAHOh7'B&idehkl \u0018m)figtt\u001alirndxewct6\u0018mgd shaHyt6/,s w*}*Ni{nmert\u001anq&x=-ex2\u0006]he ee['=,s*w*+?\u0003\n",
      "CHSRo^=6\u000bhrd\n",
      "\u0000T\u0004j^HTOR& {cc6&i=6tcv)\u0018`lts hh_-b{>io*r*~7]z liwe\u001ali6+am reheYbm haje\u001a{bd7,s,co:1Peggs.<BOy'r!b:1 m1\u0018ofnfuoe^#'B&eneiy:1Pi)new<gU{bd ax+t&:$Vh)thee [b68io< yn7Qo}. Ss Iyu-x1etb<\u0018oeosex Neb6-ch+txck2\u0006]he ee['=,s*w*+s\u000b5'\n",
      "\n",
      "N]RhLSY\u001c6=\u000bo*u+],jan pe[{b:nms! dueWbl car Ybjsnesi ob&]|} fon Neb6\n",
      "yi&h&:,^,}hey<w[ciwnnh< yu(],zhit2 xxs6:dx< b{3],}o ds Sy'd'ku1 b7]\"\u0003\n",
      "Thy Chfdneneneme\t:?4.\n",
      "\u0016N{_UW\u001aCO Du2\u0018xaat hh_-bx:eo  iu0Vx{y w}s\u001achbnmiewkheOe}h ihs_aa:nxu  zu5M`htior Scdd+mn d*{eTc}. BisScbe=,t+cx$Kim, shUbken{x7e*x0Q`}, rsa^~'a+~xebs)L )evenyUcb6\"i|7no~eLc)reax,\u001aohy%=2exeHykliste^!'b&io  }{6\u0018|fetre,\u001a}kw71esob<\u0018x`mes0 Jxwf+x=6hem6\u0014,hnd XuNno6=xh!ioik2\u0006]he ee['=,s*w*+r\u000b9'\n",
      "\n",
      "W=,i-e*_&Wbfmic<&\u001aNrz:yo$l*J7Wyerihy\u001aibu<i|6ey6eLdl ye}r\u001ajhs=,{7og:t\u000f5: to<1\u0002858D\u0006S\u0004RX[\u0011w^3 Ovyr\u001ayn{+,i-e*&Wbfmic<aTi'u;`i0rkveH~fspeniNt't+k|+ ~ue_~hduaplC-tz!{=!o}7O2NFNUS& |bu6/,~-ady \u0018xf geh Neus+,x=tx{eHc`nts<fU'b&i=+ernePcdewonk\u0016-js=|\"e*w \u0018cg Carv[~'a'xueyeo7\u0018mgswen Nb'b&i=4uoi1Qcg \"Io Qhsu&ymecet6Qhlred<jOddsq,J-y*u7\u0018{ay nst\u0005/'e:~t&tfceWb)or ~e\\busnxu  n$\\``ne sf\u001ayo=,u*mom*Jg' If<yUx d+,i-e*u+Tu)one<iT-s~+,~)ayieLdht arsMhuenxu,s*k0]}ion0 Uckonur0 }s)T,net hh_-s~<ixeern7Y,yoinhs\u0014-Npnie$c~v<\u0018lven<o\\-~y;,t+ ~r \u0018oeass<aT~ps<,i-iy:4Miztior,\u001ahqs<ur+e*} L)one<eByuwn|r,n~4ewxaerwus_!'x!,r+e*m,T`)get<tRh's6xo$ zu,Vxz. AkTbpz+hz,nm:1Pm} thus\u001aohx;= xci1K,}o tte\u001ankw==2ifve^c{feih Nenennr+uy:#W~)the<eTynd+,~)ayii\u0018f be<c[bp;`<O\n",
      "_T\flIM ST]T^=6\u0005br&k*q+Wob! Ih'I-s~+,H+i~!\u0018_}ateo.\u001aZnb&,u0go:'Wm}s, kiNe'q;bnk Mo+Zchts.\u0016\n",
      "wLSB\u0006IJePOH\u0017a,!UNIHE~-TB\u000fXX\u0016)0:\n",
      "Hig thy Ybrx:~dk Yn*H,aavirg\u001ads6,i=&lei \\\"\u0003\n",
      "DR\u0016H_:c\u0018_HTSUQA\u0000-S~/x=6uiq6\u0019\u0006\u0003NARNAnBU,n\"3k ~r A,zaid2u1Pegg tteC-dy;`yede4ekc% thyy\u001a~nq iyea*y*Vx{act<tRls6\"ii6 ~r \u0018Ygitex iyfb+1eBxs1Yeg, ard\u001a_re=e|evci,L,Capar [c~b'axetb<\u0018{hnt.<CRbt~;,|+d*I$L|ma taNhc6:dt6.\u0000\u0010\u0015jC_INCYS\u001aBA6\n",
      "0]UY\u0018ES\u0006EY:\n",
      "\u001c\u001adxeyo{7\u0018ez nok \u000b5>\"`\u0006\u0017\u000bAXH\u0004lC[: TteC-dy }h r*Q*Jih, t}kSc`6'x=#reweQxz pryvSbrencj+ex6e{d`na,<aTi'b&isege:$\u0018``ttly Xds6(yo1hohk\u0018Mgd RisIdf6<yn-ey:,V,fut sf\u001acha&io  kt!\u0018hys:\u0016ox:$_m`n, }n^-jy8iyehcweLc)Edo0 Menu&,i-es:7]bhmed<\"ltb+~seckj,Lme.\" Hh_t'{/hxea*t O,novennWhibn{u,cb:2Y)a lst\u001a`hd+,J s~7V\")Thee Wlcsnm=+e}:&WbztititSbi6:d|1 }{6\u0018|{ette mhtb+~sk Kt!\u0018m)milut[~6:d|1 }{6\u0016\"' prytNt'A+i rd4e|c)you<kTbp69d|1 ov6],`s WysNhuxq,I-a~=6\u0018~`ght2 sy enor+q7Qbn stif\\#\n",
      "hXTE\u0007M'eS~u5\u0014,go, eoO-dw +ietkq \u0018xaat.<W_-ps<i=\"odt$\u0018n|ilt<a\u001af\"~r$d*n-Jc|gh teHh'b!,i7y*n*\u0018klt ssm_-pw<a=2a~7\u0016\u0006\u0003The<y_lu6'=+o}:t\u000050.\n",
      "N]RhLSY\u001c6=\u0004nn:\u0017Mzia ~uSacenxu ix:7Yeeroax,\u001a~rf+~k,so~eZu)a stiN sy ,r# yu)\\elrs.<ATi'b&isewb+\u0018xae r}iVhw*,j$s*~*Vi% thyy\u001aiha ko$do~eLc)a ficQ sy \"=\u0001in:\f\u0018hy dswTjuw*i\"eI*w Yb} up{r[ib8nMs! @{5Yb)sayo:0\u0007MW\u001eMS I{+\u0018ufu m}yXh'u&eq)?\u0000\u0010\u000by^[ATON:\u001aLirn^h6sc{eKmps:\n",
      "o}:$Zc|t m}yXh'o!y=&hcv)\u0007\u0006\u0003NARNAnBU,nF|5ad:,K,bind} Infd+h=*f*H0K`a. EoO*kznbx3ex:\"Mizs wto\u001d~'w\"rekct!\u0018co sc}r_i'y(,O0sys$\u0002,Nreah xnb/esd\n",
      "\u0000N-],pear<iI-iy9,,|084O2BHRRAHOh7'E! =\u000faz{+\u0018mgd Gne[y'T<ei$id:(Ygl an<aVanw oxete} Ldlr ss Nebono|+ he\u001am)lithl_-ks==6ckh \\,ff RisIdf8l\u0006\u0017\u0011ho:<]m{ is<nUz''w<)k\n",
      "\u0000T\u0004j^HTOR& |hbz'bzecet#Qhlnt,<J[}fxnkr s*n*\u0018{hr a{aSctbn^h6sc{i\u0018f|st zoH-f6#cp n~4eybm thyn\u001ayos7,*tb:\"]x)tiryd\u001alirni*p$\u0010O{DFRUS& sy enxt(e*|*J,^orlx mlu6\u0007-\u0017OTbeAihr io Tbp65,q.\u0000\u0010\u000by^[ATON:\u001aYosn{r7ln:,K,hbouh Nb'~/zxea*m$J,kecais_-nbi=1ho:t\u0001<9s ard\u001azbw>cs6 kh \u0018klttirg\u001anuw4u=$nn:$T`)theoe\u001ahjf'~x6 kh \u0018iqcityd\u001ayh6:~detb(\u0018c|t or _ld~nci-ex4euihnwhul_!'\\/||+ b{6\u0018nlen ynPb~ k=&odk0]~`ng otOka6/byewkt1K\"'.\n",
      "\n",
      "VAjLI,n\"3k Gu7]-\u0003\n",
      "NANR{YHDt,\\+d*n-],gext<tRdiqncsetb,J,eist<iI-s~'=5axneWj)Chira\u001alirn`r1s*u#\u0018x`ny usVlir=\"=\u0004lf:1Pm} stif\\-es\"cs\"s*n*\u0018Klrmary\u0016-p~'oueji1\u0018dhd w}r\u001aibu\"mo d*u+\u0018np Brut[di6,i~$uyez~`tair Mlt6(~t nnieOe}h Byl]dr{b,j-iireOmz beun]-sd+m$sy!\u0018np Genm[c~6'b=*rn7\u0018xf geh Nb'P<ms&e*n*\u0018g`ck Zr[cdsi=$sy:']ohuse<FHliu+,j$s*|7Qigds kiNe'D;n,a&:2Pc)was<g_ys k=7ek~<\u0018xf kik\u001aLre:~t$'y:$K)bec}uIh'W;i7ik:2Y)gethiTj'd+my< ~ueSejk SyrXdf1=,|6s*x [m|se ooWhhx+,{7og:\u0016]~kia ohUy'b&i=)ek~ J,ff AisNnwi=$sy4e\u0010C{, atOlkz7 =-e*i-Wx)him<iT-s~+,u an4l\u0018Mgd BniNlnxnenech7]b}ly zrShir=,j,tb:\u000fY|hn. Oo\u0016-~y;,v+o}:2Pm} th}t\u001a`bw 3eDrd2\u0006JHORIS\u0000-Mw>msesbu0Th)taky Neb6'q$nnid2\u0006GARR]Tu_=6\u0019dt&h*s6\u0018{aat hh_t'a/bi d*n*\u0018hf anew[t)6\u001dc1etb<\u0018ohllex xnb/eseod:1Pi)\"tepe\u0018-synr7t*u#\u0018`lt tteW-lx!{3eAd~eLdln tteC-c*,t1.*[+\\,}hey<aV~h6&iq5en:\u0007Je}ain<a\u001aanb:`xehoh \u0018mgd tteHh'a'xuesew \u0018i{ranxs\u001alirni0fl4O2M)schsoVobz\",o,nmik\u0018Xae yyaH-nenbr2 ;#t\u0001\"\u0003\n",
      "NANR{YHDt,S*w*n-],~ar us\u001abqs<\"=\u0004nn6e[cggrahuVls!bneJkj$V-)You<t_nox'o|)ls:#Wynht un\u001ayosn{|7,*m-Qoa me}nI-~y;,z t*n*\u0018`t ah Neb6 iz*tc{1Qbn ta~l_-p:d=1ho:'Qk)dudys\u0016-p~+~xetb<\u0018hlcidyd\u001azoyncj+s*m-Yx' Anx Cht:nF|5ad:\"]xz to<k_hw6/`qetb{1\u0018ait hh_t'e:cq  lh*U,Nerm}nC#'O!y=$lyue_i} to<jUdi6:dxepei1\u0015{hr myg[-fz\"e|+co O2OAORUO:\u001ayosn@x$geWj)NatuoT~&\u001cDB\\\u0017RKN\n",
      "j6)Whooe\u001a`ne=er+ yn$Lident<iI-synxo< du1\u0018xf tawe\u001abqs<,i-e*m*J`m.\n",
      "\n",
      "Hh_-~s/~=,s*t*O,89292\n",
      "0CFD\u001cMI\n",
      "R0:\u0011Pi)Gre}t\u001aIbf<in6ieteQ)bad0 [cc6\u0004mm$n-ie]ofnome S~'x!{=&rkj5A\")But<tRh'{'`t1axceQ)doirg\u001agre:,{,no6eYbm it<iT{fr+ady-M~`a.\n",
      "\u0016TRh'o+moeiy:+W{)193-.0\u0007IW\u001c^\\\u0011OX eybm thy vhfq;i=*f*T$Lefns us\u001aan}+6\u0017OLO[\u0002mI)OF RAnDHX\u001d6=\u000bo&:!Wb.t ds Nefb`,T# su0\u001f~l in<tRh'Z+mz0e*u#\u0018Bhtiors\u0016-~y;+o  du1\u0018|ppooe^-synx|.e*u3]~)the<wUkro\u0006\u0017\u000bAXH\u0004lC[: Ard\u001aGff/b=6ac~k\u0016\"\u0003\n",
      "CHSRo^'W\u001d,W\u0004PKT\u0018\"'.Hok \u001dohc:,Tede:$Vu~ay?\u0016\n",
      "{~'\\/||+'y:1]~{itony\u001adiu<i|6ey6eLdl ye}r\u001ajhs=,{7og:t\u0001?> to<1\u0003>>8D\u0006S\u0004RX[\u0011w^3 Anx plww ,t+vk~ \\,dore<aTi'{!~xead~eUc{e ard\u001a`hd+,|+d*w*Ji)of _hScf6/byewkieH`hnnirg\u001ayh6'bk$do:1Pi)entur_-bw=x3O\n",
      "DR\u0017UY eqx.s tum_-ay<,J*rf~eom{ II=z`\u0006\u0017\u000bAXH\u0004lC[: Ih'I-ad!a=\u0002exw$Vu' Thy Thp6\"i|!ex:*^,Nerm}nC#'^+,u$s*{e[cfl misNld~+,|+d*s6\u0018x{yin{ Nb'b/gxeo|7\u0018xae wsrVi'w h=+eo~6\u0018j{ienxs\u0014-S~'=$lyue_c} fonw[cs*,i* Cn$Tu' Thyy\u001alkznhx&in!\u0018xf be<fHdbx*='ei{0Ki)thee Rlc6=c=(uireQb)comqoT#\n",
      "\u001c\u0000MO\u0017A^U\u0017\u0002,Nerm}nC-nenes3ans+_,}he reSjot!~nk ^r V,}hey<iT{fr+,i-e*t Qkabor;s\u001acb)d*ry4eldln tte\u001acb)d*r-ieVi`ghbsr\u001d~'x+ez-beh6\u0014,~ho taJ}bxnxrebo:\u0007Je}ain0 Ilnr`\"3O\n",
      "IR\n",
      "jYZ AS<BhDSW\u0007B'eHev<\u0018ait!\u0016\n",
      "tLUD\u000fXR\u0017:*[+\\ )the<UTdss*,N1a~6\u0018}artyd\u001aebz>es\" Hh,Lm`n byc[xtsnxu y-h \u0016\"'\n",
      "\n",
      "CTOhXT6\u000f_=\u0010NCN\u0000|,ZTATYS\u0000-@y!h=#rc+\\(\n",
      "\n",
      "N]RhLSY\u001c6=k.$:$Vh)stant_i'x!x=-efj,Vk)Jap}n\u001aobu/yn .$4O2OAORUO {^'C\u0000EI\u0000D*I\u0011yXLS: Hh_du6(~t nnieYbm oun \\ns hneaxeVc} frueTit8n\\q0s&:1Pip're<pVlix'bzeod:,Vzhdin{ Neb6+bi,ro:*[ihn.\n",
      "\u0016N{_UW\u001aCO ^r \u0018Ygitex iyfb+=,s*{)Kc)worwiTj'y ,|elkh\"] )vere Rx`snnr(b$:\u0007Qkner hh[c'w u=*tb7\u0018nfmb,<eLhuʮ3eJi1\u0018eg caoe\u0014-Ec:,i-es:6Leel h}v_c bnfr,no~eLdl wan.\u001aZfdn`r*ky:'Yh)on HV\u0016-fx*,i-e*O+Qxld ShaNht6'=7ekv)A,ztarhiTj'b!,~$ro:$Zc|t tteS'#mz .\u0000\u0010\u0011Pi)yean S~'x!{=t9>+O2BHRRAHOh7'T;x=1hotermyan opSyt6!b=1howeQb)Haw}iS!'w h=&hkv)]bnes hh_`'b!,j$r$:\u0004Vh)thee Il~8`\"\u0017OUDS\u0011}H)STAHEi7'O+<O\n",
      "D[\u0017jM]OR:<ATi'b&iseGoh(Ybp, ao [-to#nr) e|e^~`endohS}+6*i~)ax6\u0018{hr or Neb6\u001bbt1en:\u0016Lm}es,<aV~h8n_ri ~r \u0018Ygitex iyfb+=\"ooieLc)war<iT-Bc<cm ,*{+\\,}hey<h_aw6:dxegkt\"\u0018oaase<G_jw u='aiqeQb}o GyrWliob,|+d*n-]u)alss Iyfd:,~-ays+_,Capar Xld}nes1o*P$Hmg, ard\u001ayos7,u$votbL,|sed<tRh't!aeyoneYbm ary Yxu!ynete:6]i)if ut\u001azhd%3eSe:1Pip drsp\u001ads6!b=\u000faz{+\u0016\u0006\u0003The<y_lu6'=+o}:t\u00018<\n",
      "\n",
      "TteC-fu:y|)ls:!Jcy tws.0\u0007IW\u001c^\\\u0011OX eldl Unut_~'E:mi s*s+Kxhllex [-is9,z*voh+Uigt irsJdus*,< ~r \u0018Ygitex iyfb+=\"o|7Valnt kiNe'|;ietbeJenht un]br'is1s*|*J,h...\u0016\n",
      "yEHD\u001b_'epei1\u0015{hr eoTbj-,p,rky)]-\u0003\n",
      "Thy Chfdnkr s*|7Wa)195- Nb''w4-k\n",
      "\\/||+'y: [cgomy<iW}uy8inefxu(\u0018=060 ho\u001a<>/{\"\u0017ONKH\u0017yXFR: Hh_t'q+x=7iireYbm thy _nhx!adege6\u0018{`ld.\u0016byi kv6W,kettyr\u001ayow ,x3exc'Whp eloe\u0014\u0007\n",
      "plww +neeiu+Wap der_lts=,|#tohe\t505.\n",
      "\u0016N{_UW\u001aCO Kt!\u0018xaen,<tRh'{'~|&lo:2]m{s ozf\u0014-Ec:,x3exc1Pegg' otSak6>~x1ts:&Wce, I<gOhte`\u0006\u0017\u0006HEH\u0010k6)Bye=\n",
      "\n"
     ]
    }
   ],
   "source": [
    "from base64 import b64decode\n",
    "\n",
    "# Hamming distance function\n",
    "def hamming_dist(a, b):\n",
    "    if len(a) != len(b):\n",
    "        return b'' \n",
    "    return sum(bin(byte1 ^ byte2).count('1') for byte1, byte2 in zip(a, b))\n",
    "\n",
    "# Read and decode the encrypted file\n",
    "def read_encrypted_file(filename):\n",
    "    with open(filename, 'rb') as fin:\n",
    "        b64str = fin.read()  # Read the file content\n",
    "    return b64decode(b64str)\n",
    "\n",
    "# Guess the key length based on Hamming distance\n",
    "def guess_length(data):\n",
    "    return min(range(2, 41), key=lambda n: hamming_dist(data[:n], data[n:n*2]) / n)\n",
    "\n",
    "# Transpose the ciphertext into blocks of size n\n",
    "def transpose_blocks(data, n):\n",
    "    return [data[i::n] for i in range(n)]\n",
    "\n",
    "# To score text based on character frequency\n",
    "def score_text(text):\n",
    "    return sum(FREQ_TABLE.get(chr(c).lower(), 0) for c in text if 32 <= c <= 126)\n",
    "\n",
    "# To determine the best single-byte XOR key for a block\n",
    "def best_single_byte_xor(block):\n",
    "    return max(range(256), key=lambda k: score_text(bytes(x ^ k for x in block)))\n",
    "\n",
    "# XOR the data with a repeating key\n",
    "def xor_repeating(data, key):\n",
    "    return bytes(data[i] ^ key[i % len(key)] for i in range(len(data)))\n",
    "\n",
    "# Path to the locally saved encrypted file (replace with actual file path)\n",
    "filename = '/Users/angelinemicaela/Desktop/encrypted.txt'\n",
    "\n",
    "# Read the encrypted file and decode the Base64 content\n",
    "ciphertext = read_encrypted_file(filename)\n",
    "\n",
    "# Guess the key size based on Hamming distance\n",
    "keysize = guess_length(ciphertext)\n",
    "\n",
    "# Transpose the ciphertext into blocks based on the guessed key size\n",
    "blocks = transpose_blocks(ciphertext, keysize)\n",
    "\n",
    "# Find the key by applying single-byte XOR to each block\n",
    "key = bytes(best_single_byte_xor(block) for block in blocks)\n",
    "\n",
    "# Decrypt the ciphertext using the key\n",
    "decrypted_text = xor_repeating(ciphertext, key)\n",
    "\n",
    "# Print the results\n",
    "print(f\"Key: {key.decode(errors='ignore')}\")\n",
    "print(decrypted_text.decode(errors='ignore'))\n"
   ]
  },
  {
   "cell_type": "code",
   "execution_count": 99,
   "metadata": {},
   "outputs": [],
   "source": [
    "# if your function works properly, no error should appear when running this line\n",
    "assert hamming_dist(b'twelve plus one', b'ElEveN pLUs twO') == 30"
   ]
  }
 ],
 "metadata": {
  "kernelspec": {
   "display_name": "Python 3",
   "language": "python",
   "name": "python3"
  },
  "language_info": {
   "codemirror_mode": {
    "name": "ipython",
    "version": 3
   },
   "file_extension": ".py",
   "mimetype": "text/x-python",
   "name": "python",
   "nbconvert_exporter": "python",
   "pygments_lexer": "ipython3",
   "version": "3.9.6"
  },
  "vscode": {
   "interpreter": {
    "hash": "31f2aee4e71d21fbe5cf8b01ff0e069b9275f58929596ceb00d14d90e3e16cd6"
   }
  }
 },
 "nbformat": 4,
 "nbformat_minor": 4
}
