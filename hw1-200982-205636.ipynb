{
 "cells": [
  {
   "cell_type": "markdown",
   "metadata": {},
   "source": [
    "**Angeline Micaela Cantal & Sebastian Louis de Leon [200982 & 205636]**"
   ]
  },
  {
   "cell_type": "markdown",
   "metadata": {},
   "source": [
    "# Homework 1"
   ]
  },
  {
   "cell_type": "markdown",
   "metadata": {},
   "source": [
    "*Due date:* February 4, 2025 (Tuesday) at 8 PM"
   ]
  },
  {
   "cell_type": "markdown",
   "metadata": {},
   "source": [
    "This homework is designed to get you started in implementing some cryptographic algorithms in Python.\n",
    "This should be easy enough for you to do solo, but it doesn't hurt if you want to work with a partner.\n",
    "These exercises are important in the sense that they serve as stepping stones to future attacks, and most likely you'll need your code for these for the final contest.\n",
    "If you can finish this homework on time, then you'll very likely do well in the final contest!\n",
    "\n",
    "Much of classical crypto operates on alphabetic strings (strings only containing letters) while modern \n",
    "crypto deals excusively with binary strings.\n",
    "Despite that crucial difference, we may see some familiar parallels between historical ciphers like \n",
    "Caesar or Vigenère and relatively modern ones like the XOR cipher and the one-time pad."
   ]
  },
  {
   "cell_type": "markdown",
   "metadata": {},
   "source": [
    "This homework has 32 points in total, but will be divided by 30 to get the final percentage. Final percentages are capped at 100%.\n",
    "\n",
    "Please be guided on the policies regarding late submissions, regrading, and collaboration.\n",
    "If any, please direct all your questions and clarifications about this homework in the `#hw1-help` channel on the Discord server."
   ]
  },
  {
   "cell_type": "markdown",
   "metadata": {},
   "source": [
    "## Dealing with binary data in Python"
   ]
  },
  {
   "cell_type": "markdown",
   "metadata": {},
   "source": [
    "Python supports *byte literals* (I just call them \"bytestrings\" for convenience), string-like sequences that are prefixed by `b`."
   ]
  },
  {
   "cell_type": "code",
   "execution_count": 3,
   "metadata": {},
   "outputs": [
    {
     "data": {
      "text/plain": [
       "b'This is a byte literal'"
      ]
     },
     "execution_count": 3,
     "metadata": {},
     "output_type": "execute_result"
    }
   ],
   "source": [
    "b'This is a byte literal'"
   ]
  },
  {
   "cell_type": "code",
   "execution_count": 4,
   "metadata": {},
   "outputs": [
    {
     "data": {
      "text/plain": [
       "'Meanwhile this is a string literal'"
      ]
     },
     "execution_count": 4,
     "metadata": {},
     "output_type": "execute_result"
    }
   ],
   "source": [
    "'Meanwhile this is a string literal'"
   ]
  },
  {
   "cell_type": "markdown",
   "metadata": {},
   "source": [
    "A bytestring is not the same as its string counterpart..."
   ]
  },
  {
   "cell_type": "code",
   "execution_count": 5,
   "metadata": {},
   "outputs": [
    {
     "data": {
      "text/plain": [
       "False"
      ]
     },
     "execution_count": 5,
     "metadata": {},
     "output_type": "execute_result"
    }
   ],
   "source": [
    "'some_string' == b'some_string'"
   ]
  },
  {
   "cell_type": "markdown",
   "metadata": {},
   "source": [
    "...because they have different types."
   ]
  },
  {
   "cell_type": "code",
   "execution_count": 6,
   "metadata": {},
   "outputs": [
    {
     "name": "stdout",
     "output_type": "stream",
     "text": [
      "<class 'str'>\n",
      "<class 'bytes'>\n"
     ]
    }
   ],
   "source": [
    "print(type('some_string'))\n",
    "print(type(b'some_string'))"
   ]
  },
  {
   "cell_type": "markdown",
   "metadata": {},
   "source": [
    "The usual string operations work with bytestrings."
   ]
  },
  {
   "cell_type": "code",
   "execution_count": 7,
   "metadata": {},
   "outputs": [
    {
     "name": "stdout",
     "output_type": "stream",
     "text": [
      "b's is a '\n",
      "32\n"
     ]
    }
   ],
   "source": [
    "test = b'this is a long bytestring'\n",
    "print(test[3:10])   # slicing\n",
    "print(test[4])      # get the 4th byte (returns an int)"
   ]
  },
  {
   "cell_type": "code",
   "execution_count": 8,
   "metadata": {},
   "outputs": [
    {
     "name": "stdout",
     "output_type": "stream",
     "text": [
      "b'this is a long bytestring and anotha one!'\n",
      "b' and anotha one! and anotha one! and anotha one! and anotha one! and anotha one! and anotha one! and anotha one! and anotha one! and anotha one! and anotha one!'\n"
     ]
    }
   ],
   "source": [
    "another = b' and anotha one!'\n",
    "print(test + another)   # concatenating bytestrings\n",
    "print(another * 10)     # n-fold concatenation"
   ]
  },
  {
   "cell_type": "markdown",
   "metadata": {},
   "source": [
    "We can use the following libraries to convert between encodings (hex and Base64)."
   ]
  },
  {
   "cell_type": "code",
   "execution_count": 9,
   "metadata": {},
   "outputs": [],
   "source": [
    "from binascii import hexlify, unhexlify"
   ]
  },
  {
   "cell_type": "code",
   "execution_count": 10,
   "metadata": {},
   "outputs": [],
   "source": [
    "from base64 import b64encode, b64decode"
   ]
  },
  {
   "cell_type": "code",
   "execution_count": 11,
   "metadata": {},
   "outputs": [
    {
     "data": {
      "text/plain": [
       "b'7468697320697320676f6e6e612062652068657820736f6f6e'"
      ]
     },
     "execution_count": 11,
     "metadata": {},
     "output_type": "execute_result"
    }
   ],
   "source": [
    "hexlify(b'this is gonna be hex soon')"
   ]
  },
  {
   "cell_type": "code",
   "execution_count": 12,
   "metadata": {},
   "outputs": [
    {
     "data": {
      "text/plain": [
       "b'this is hex no more'"
      ]
     },
     "execution_count": 12,
     "metadata": {},
     "output_type": "execute_result"
    }
   ],
   "source": [
    "unhexlify(b'7468697320697320686578206e6f206d6f7265')"
   ]
  },
  {
   "cell_type": "code",
   "execution_count": 13,
   "metadata": {},
   "outputs": [
    {
     "data": {
      "text/plain": [
       "b'QmFzZTY0IHRoaXMgdGhpbmch'"
      ]
     },
     "execution_count": 13,
     "metadata": {},
     "output_type": "execute_result"
    }
   ],
   "source": [
    "b64encode(b'Base64 this thing!')"
   ]
  },
  {
   "cell_type": "code",
   "execution_count": 14,
   "metadata": {},
   "outputs": [
    {
     "data": {
      "text/plain": [
       "b'base64 is not encryption!'"
      ]
     },
     "execution_count": 14,
     "metadata": {},
     "output_type": "execute_result"
    }
   ],
   "source": [
    "b64decode(b'YmFzZTY0IGlzIG5vdCBlbmNyeXB0aW9uIQ==')"
   ]
  },
  {
   "cell_type": "markdown",
   "metadata": {},
   "source": [
    "## Some reminders\n",
    "\n",
    "You are not allowed to use additional libraries (even within the Python standard library) other than those explicitly used here, though you may implement additional functions of your own.\n",
    "\n",
    "**Very important:** Always work with raw bytes, never with encoded strings.\n",
    "\n",
    "The following pages from the Python documentation may be helpful:\n",
    "- https://docs.python.org/3/library/stdtypes.html#bytes-objects\n",
    "- https://docs.python.org/3/library/binascii.html\n",
    "- https://docs.python.org/3/library/base64.html"
   ]
  },
  {
   "cell_type": "markdown",
   "metadata": {},
   "source": [
    "## 1-1. Hex to Base64 [2 pts]"
   ]
  },
  {
   "cell_type": "markdown",
   "metadata": {},
   "source": [
    "Write a function called `hex_to_b64` to convert a hex-encoded bytestring into Base64. For example, the string\n",
    "```\n",
    "48656c7021204920676f7420584f52206579657320616e642069742773206b696c6c696e67206d65\n",
    "```\n",
    "should output\n",
    "```\n",
    "SGVscCEgSSBnb3QgWE9SIGV5ZXMgYW5kIGl0J3Mga2lsbGluZyBtZQ==\n",
    "```"
   ]
  },
  {
   "cell_type": "code",
   "execution_count": 1,
   "metadata": {},
   "outputs": [
    {
     "name": "stdout",
     "output_type": "stream",
     "text": [
      "b'SGVscCEgSSBnb3QgWE9SIGV5ZXMgYW5kIGl0J3Mga2lsbGluZyBtZQ=='\n"
     ]
    }
   ],
   "source": [
    "from binascii import hexlify, unhexlify\n",
    "from base64 import b64encode, b64decode\n",
    "\n",
    "def hex_to_b64(h):\n",
    "    #Decode hexstring to bytestring\n",
    "    hex_bytes = unhexlify(h)\n",
    "\n",
    "    b64_bytes = b64encode(hex_bytes)\n",
    "    return b64_bytes\n",
    "\n",
    "test = hex_to_b64(b'48656c7021204920676f7420584f52206579657320616e642069742773206b696c6c696e67206d65')\n",
    "print(test)"
   ]
  },
  {
   "cell_type": "code",
   "execution_count": 2,
   "metadata": {},
   "outputs": [],
   "source": [
    "# if your function works properly, no error should appear when running this line\n",
    "assert hex_to_b64(b'48656c7021204920676f7420584f52206579657320616e642069742773206b696c6c696e67206d65') == b'SGVscCEgSSBnb3QgWE9SIGV5ZXMgYW5kIGl0J3Mga2lsbGluZyBtZQ=='"
   ]
  },
  {
   "cell_type": "markdown",
   "metadata": {
    "tags": []
   },
   "source": [
    "## 1-2. XOR'ing two bytestrings [4 pts]"
   ]
  },
  {
   "cell_type": "markdown",
   "metadata": {},
   "source": [
    "Write a function called `xor_bytes` that takes two bytestrings of equal length and outputs their XOR. For example, if I have a bytestring\n",
    "```\n",
    "49207374696c6c206861766520584f522065796573206e6f772077686174\n",
    "```\n",
    "after hex-decoding it, and when I XOR it against\n",
    "```\n",
    "3a4f1e11060209001b04180100302a3e5045141c5345170a040016292955\n",
    "```\n",
    "it should output\n",
    "```\n",
    "736f6d656f6e652073656e642068656c70206d7920657965732061414821\n",
    "```"
   ]
  },
  {
   "cell_type": "code",
   "execution_count": 3,
   "metadata": {},
   "outputs": [
    {
     "name": "stdout",
     "output_type": "stream",
     "text": [
      "b'someone send help my eyes aAH!'\n",
      "b'736f6d656f6e652073656e642068656c70206d7920657965732061414821'\n"
     ]
    }
   ],
   "source": [
    "from binascii import hexlify, unhexlify\n",
    "\n",
    "def xor_bytes(a, b):\n",
    "    #this is to see if the length of the two bytestrings are equal or not\n",
    "    if len(a) != len(b):\n",
    "        #return an empty bytes object if lengths are different\n",
    "        return b''\n",
    "    \n",
    "    # XOR the byte strings and return the result as a bytes object\n",
    "    return bytes(byte_a ^ byte_b for byte_a, byte_b in zip(a, b))\n",
    "\n",
    "a = b'49207374696c6c206861766520584f522065796573206e6f772077686174'\n",
    "b = b'3a4f1e11060209001b04180100302a3e5045141c5345170a040016292955'\n",
    "\n",
    "test = xor_bytes(unhexlify(a), unhexlify(b))\n",
    "\n",
    "print(test)\n",
    "\n",
    "print(hexlify(test))"
   ]
  },
  {
   "cell_type": "code",
   "execution_count": 4,
   "metadata": {},
   "outputs": [],
   "source": [
    "# if your function works properly, no error should appear when running this line\n",
    "assert hexlify(xor_bytes(unhexlify(b'49207374696c6c206861766520584f522065796573206e6f772077686174'), unhexlify(b'3a4f1e11060209001b04180100302a3e5045141c5345170a040016292955'))) == b'736f6d656f6e652073656e642068656c70206d7920657965732061414821'"
   ]
  },
  {
   "cell_type": "markdown",
   "metadata": {},
   "source": [
    "## 1-3. Single-byte XOR cipher [6 pts]"
   ]
  },
  {
   "cell_type": "markdown",
   "metadata": {},
   "source": [
    "You could say that this is just the Caesar cipher but it works over binary strings instead. Anyways, I have encrypted the hex-encoded bytestring\n",
    "```\n",
    "264f0300190a4f0d06084f1c0a02061f1d06020a1c4f0e010b4f264f0c0e0101001b4f03060a4e\n",
    "```\n",
    "by XOR'ing it against a single character. Find out what key I used, and decrypt the message."
   ]
  },
  {
   "cell_type": "markdown",
   "metadata": {},
   "source": [
    "You can do this by hand (since there are only 256 possible keys to choose from), but don't!\n",
    "**Write code to do this for you.**\n",
    "Have some way of \"scoring\" a piece of English plaintext, like using character frequency, so you can try each possible key and just output the one with the best score.\n",
    "\n",
    "Write a function called `try_decrypt_xor` that does just that, i.e., it takes a bytestring and outputs the key and the decrypted message (and optionally the score). And yes, you may implement your own functions as well."
   ]
  },
  {
   "cell_type": "code",
   "execution_count": 6,
   "metadata": {},
   "outputs": [],
   "source": [
    "# taken from http://pi.math.cornell.edu/~mec/2003-2004/cryptography/subs/frequencies.html\n",
    "FREQ_TABLE = {'e': 12.02, 't': 9.10, 'a': 8.12, 'o': 7.68, 'i': 7.31, 'n': 6.95, \n",
    "              's': 6.28,  'r': 6.02, 'h': 5.92, 'd': 4.32, 'l': 3.98, 'u': 2.88, \n",
    "              'c': 2.71,  'm': 2.61, 'f': 2.30, 'y': 2.11, 'w': 2.09, 'g': 2.03, \n",
    "              'p': 1.82,  'b': 1.49, 'v': 1.11, 'k': 0.69, 'x': 0.17, 'q': 0.11, \n",
    "              'j': 0.10,  'z': 0.07, ' ': 19.18}"
   ]
  },
  {
   "cell_type": "code",
   "execution_count": 10,
   "metadata": {},
   "outputs": [
    {
     "name": "stdout",
     "output_type": "stream",
     "text": [
      "Key: 111 (o)\n",
      "Message: b'I love big semiprimes and I cannot lie!'\n",
      "Score: 332.99000000000007\n"
     ]
    }
   ],
   "source": [
    "from binascii import unhexlify\n",
    "\n",
    "def score_text(text):\n",
    "    #Score a string based on the frequency of English letters.\n",
    "    return sum(FREQ_TABLE.get(chr(c).lower(), 0) for c in text)\n",
    "\n",
    "def xor_with_key(data, key):\n",
    "    #XOR the data with a single byte key.\n",
    "    return bytes(byte ^ key for byte in data)\n",
    "\n",
    "def try_decrypt_xor(c):\n",
    "    #Try decrypting a bytestring XOR'd with a single-character key.\n",
    "    ciphertext = unhexlify(c)  # Convert the hex-encoded bytestring to raw bytes\n",
    "    best_score = 0\n",
    "    best_key = None\n",
    "    best_message = None\n",
    "\n",
    "    for key in range(256):  # Try all possible single-byte keys\n",
    "        decrypted = xor_with_key(ciphertext, key)\n",
    "        try:\n",
    "            score = score_text(decrypted)\n",
    "            if score > best_score:  # Keep track of the best-scoring result\n",
    "                best_score = score\n",
    "                best_key = key\n",
    "                best_message = decrypted\n",
    "        except:\n",
    "            continue  # Skip invalid decryption attempts\n",
    "\n",
    "    return best_key, best_message, best_score\n",
    "\n",
    "# Example usage\n",
    "key, message, score = try_decrypt_xor(b\"264f0300190a4f0d06084f1c0a02061f1d06020a1c4f0e010b4f264f0c0e0101001b4f03060a4e\")\n",
    "\n",
    "print(f\"Key: {key} ({chr(key)})\")\n",
    "print(f\"Message: {message}\")\n",
    "print(f\"Score: {score}\")"
   ]
  },
  {
   "cell_type": "markdown",
   "metadata": {},
   "source": [
    "## 1-4. Detect single-character XOR [6 pts]"
   ]
  },
  {
   "cell_type": "markdown",
   "metadata": {},
   "source": [
    "I have a [file](http://lunchtimeattack.wtf/csci184.03/xor_strings.txt) that contains 420 64-character hex-encoded strings, and **only one** of them has been encrypted by single-character XOR. \n",
    "\n",
    "Find that string.\n",
    "\n",
    "*Hint:* Your code from the previous item should help."
   ]
  },
  {
   "cell_type": "code",
   "execution_count": null,
   "metadata": {},
   "outputs": [
    {
     "ename": "",
     "evalue": "",
     "output_type": "error",
     "traceback": [
      "\u001b[1;31mFailed to start the Kernel. \n",
      "\u001b[1;31mTraceback (most recent call last):\n",
      "\u001b[1;31m  File \"/opt/anaconda3/lib/python3.9/site-packages/notebook/traittypes.py\", line 232, in _resolve_classes\n",
      "\u001b[1;31m    klass = self._resolve_string(klass)\n",
      "\u001b[1;31m  File \"/opt/anaconda3/lib/python3.9/site-packages/traitlets/traitlets.py\", line 2015, in _resolve_string\n",
      "\u001b[1;31m    return import_item(string)\n",
      "\u001b[1;31m  File \"/opt/anaconda3/lib/python3.9/site-packages/traitlets/utils/importstring.py\", line 33, in import_item\n",
      "\u001b[1;31m    module = __import__(package, fromlist=[obj])\n",
      "\u001b[1;31mModuleNotFoundError: No module named 'jupyter_server.contents'\n",
      "\u001b[1;31m\n",
      "\u001b[1;31mDuring handling of the above exception, another exception occurred:\n",
      "\u001b[1;31m\n",
      "\u001b[1;31mTraceback (most recent call last):\n",
      "\u001b[1;31m  File \"/Users/angelinemicaela/.vscode/extensions/ms-toolsai.jupyter-2022.11.1003412109/pythonFiles/vscode_datascience_helpers/daemon/daemon_python.py\", line 54, in _decorator\n",
      "\u001b[1;31m    return func(self, *args, **kwargs)\n",
      "\u001b[1;31m  File \"/Users/angelinemicaela/.vscode/extensions/ms-toolsai.jupyter-2022.11.1003412109/pythonFiles/vscode_datascience_helpers/jupyter_daemon.py\", line 111, in m_exec_module_observable\n",
      "\u001b[1;31m    self._start_notebook(args, cwd, env)\n",
      "\u001b[1;31m  File \"/Users/angelinemicaela/.vscode/extensions/ms-toolsai.jupyter-2022.11.1003412109/pythonFiles/vscode_datascience_helpers/jupyter_daemon.py\", line 168, in _start_notebook\n",
      "\u001b[1;31m    app.launch_new_instance()\n",
      "\u001b[1;31m  File \"/opt/anaconda3/lib/python3.9/site-packages/jupyter_core/application.py\", line 283, in launch_instance\n",
      "\u001b[1;31m    super().launch_instance(argv=argv, **kwargs)\n",
      "\u001b[1;31m  File \"/opt/anaconda3/lib/python3.9/site-packages/traitlets/config/application.py\", line 1073, in launch_instance\n",
      "\u001b[1;31m    app = cls.instance(**kwargs)\n",
      "\u001b[1;31m  File \"/opt/anaconda3/lib/python3.9/site-packages/traitlets/config/configurable.py\", line 583, in instance\n",
      "\u001b[1;31m    inst = cls(*args, **kwargs)\n",
      "\u001b[1;31m  File \"/opt/anaconda3/lib/python3.9/site-packages/traitlets/traitlets.py\", line 1292, in __new__\n",
      "\u001b[1;31m    inst.setup_instance(*args, **kwargs)\n",
      "\u001b[1;31m  File \"/opt/anaconda3/lib/python3.9/site-packages/traitlets/traitlets.py\", line 1335, in setup_instance\n",
      "\u001b[1;31m    super(HasTraits, self).setup_instance(*args, **kwargs)\n",
      "\u001b[1;31m  File \"/opt/anaconda3/lib/python3.9/site-packages/traitlets/traitlets.py\", line 1311, in setup_instance\n",
      "\u001b[1;31m    init(self)\n",
      "\u001b[1;31m  File \"/opt/anaconda3/lib/python3.9/site-packages/notebook/traittypes.py\", line 223, in instance_init\n",
      "\u001b[1;31m    self._resolve_classes()\n",
      "\u001b[1;31m  File \"/opt/anaconda3/lib/python3.9/site-packages/notebook/traittypes.py\", line 235, in _resolve_classes\n",
      "\u001b[1;31m    warn(f\"{klass} is not importable. Is it installed?\", ImportWarning)\n",
      "\u001b[1;31mTypeError: warn() missing 1 required keyword-only argument: 'stacklevel'\n",
      "\u001b[1;31m\n",
      "\u001b[1;31mFailed to run jupyter as observable with args notebook --no-browser --notebook-dir=\"/Users/angelinemicaela/Documents/GitHub/CSCI180.03-Mica-and-Basti-Assignments\" --config=/var/folders/96/lm2f1_xj78n9l89gnzdbhfj40000gn/T/ee6d4dfb-313a-4ef9-9aaa-a52d4ac9d994/jupyter_notebook_config.py --NotebookApp.iopub_data_rate_limit=10000000000.0. \n",
      "\u001b[1;31mView Jupyter <a href='command:jupyter.viewOutput'>log</a> for further details."
     ]
    }
   ],
   "source": [
    "fin = open('xor_strings.txt', 'rb')"
   ]
  },
  {
   "cell_type": "code",
   "execution_count": null,
   "metadata": {},
   "outputs": [
    {
     "ename": "",
     "evalue": "",
     "output_type": "error",
     "traceback": [
      "\u001b[1;31mFailed to start the Kernel. \n",
      "\u001b[1;31mTraceback (most recent call last):\n",
      "\u001b[1;31m  File \"/opt/anaconda3/lib/python3.9/site-packages/notebook/traittypes.py\", line 232, in _resolve_classes\n",
      "\u001b[1;31m    klass = self._resolve_string(klass)\n",
      "\u001b[1;31m  File \"/opt/anaconda3/lib/python3.9/site-packages/traitlets/traitlets.py\", line 2015, in _resolve_string\n",
      "\u001b[1;31m    return import_item(string)\n",
      "\u001b[1;31m  File \"/opt/anaconda3/lib/python3.9/site-packages/traitlets/utils/importstring.py\", line 33, in import_item\n",
      "\u001b[1;31m    module = __import__(package, fromlist=[obj])\n",
      "\u001b[1;31mModuleNotFoundError: No module named 'jupyter_server.contents'\n",
      "\u001b[1;31m\n",
      "\u001b[1;31mDuring handling of the above exception, another exception occurred:\n",
      "\u001b[1;31m\n",
      "\u001b[1;31mTraceback (most recent call last):\n",
      "\u001b[1;31m  File \"/Users/angelinemicaela/.vscode/extensions/ms-toolsai.jupyter-2022.11.1003412109/pythonFiles/vscode_datascience_helpers/daemon/daemon_python.py\", line 54, in _decorator\n",
      "\u001b[1;31m    return func(self, *args, **kwargs)\n",
      "\u001b[1;31m  File \"/Users/angelinemicaela/.vscode/extensions/ms-toolsai.jupyter-2022.11.1003412109/pythonFiles/vscode_datascience_helpers/jupyter_daemon.py\", line 111, in m_exec_module_observable\n",
      "\u001b[1;31m    self._start_notebook(args, cwd, env)\n",
      "\u001b[1;31m  File \"/Users/angelinemicaela/.vscode/extensions/ms-toolsai.jupyter-2022.11.1003412109/pythonFiles/vscode_datascience_helpers/jupyter_daemon.py\", line 168, in _start_notebook\n",
      "\u001b[1;31m    app.launch_new_instance()\n",
      "\u001b[1;31m  File \"/opt/anaconda3/lib/python3.9/site-packages/jupyter_core/application.py\", line 283, in launch_instance\n",
      "\u001b[1;31m    super().launch_instance(argv=argv, **kwargs)\n",
      "\u001b[1;31m  File \"/opt/anaconda3/lib/python3.9/site-packages/traitlets/config/application.py\", line 1073, in launch_instance\n",
      "\u001b[1;31m    app = cls.instance(**kwargs)\n",
      "\u001b[1;31m  File \"/opt/anaconda3/lib/python3.9/site-packages/traitlets/config/configurable.py\", line 583, in instance\n",
      "\u001b[1;31m    inst = cls(*args, **kwargs)\n",
      "\u001b[1;31m  File \"/opt/anaconda3/lib/python3.9/site-packages/traitlets/traitlets.py\", line 1292, in __new__\n",
      "\u001b[1;31m    inst.setup_instance(*args, **kwargs)\n",
      "\u001b[1;31m  File \"/opt/anaconda3/lib/python3.9/site-packages/traitlets/traitlets.py\", line 1335, in setup_instance\n",
      "\u001b[1;31m    super(HasTraits, self).setup_instance(*args, **kwargs)\n",
      "\u001b[1;31m  File \"/opt/anaconda3/lib/python3.9/site-packages/traitlets/traitlets.py\", line 1311, in setup_instance\n",
      "\u001b[1;31m    init(self)\n",
      "\u001b[1;31m  File \"/opt/anaconda3/lib/python3.9/site-packages/notebook/traittypes.py\", line 223, in instance_init\n",
      "\u001b[1;31m    self._resolve_classes()\n",
      "\u001b[1;31m  File \"/opt/anaconda3/lib/python3.9/site-packages/notebook/traittypes.py\", line 235, in _resolve_classes\n",
      "\u001b[1;31m    warn(f\"{klass} is not importable. Is it installed?\", ImportWarning)\n",
      "\u001b[1;31mTypeError: warn() missing 1 required keyword-only argument: 'stacklevel'\n",
      "\u001b[1;31m\n",
      "\u001b[1;31mFailed to run jupyter as observable with args notebook --no-browser --notebook-dir=\"/Users/angelinemicaela/Documents/GitHub/CSCI180.03-Mica-and-Basti-Assignments\" --config=/var/folders/96/lm2f1_xj78n9l89gnzdbhfj40000gn/T/ee6d4dfb-313a-4ef9-9aaa-a52d4ac9d994/jupyter_notebook_config.py --NotebookApp.iopub_data_rate_limit=10000000000.0. \n",
      "\u001b[1;31mView Jupyter <a href='command:jupyter.viewOutput'>log</a> for further details."
     ]
    }
   ],
   "source": [
    "strings = fin.readlines()"
   ]
  },
  {
   "cell_type": "code",
   "execution_count": null,
   "metadata": {},
   "outputs": [
    {
     "ename": "",
     "evalue": "",
     "output_type": "error",
     "traceback": [
      "\u001b[1;31mFailed to start the Kernel. \n",
      "\u001b[1;31mTraceback (most recent call last):\n",
      "\u001b[1;31m  File \"/opt/anaconda3/lib/python3.9/site-packages/notebook/traittypes.py\", line 232, in _resolve_classes\n",
      "\u001b[1;31m    klass = self._resolve_string(klass)\n",
      "\u001b[1;31m  File \"/opt/anaconda3/lib/python3.9/site-packages/traitlets/traitlets.py\", line 2015, in _resolve_string\n",
      "\u001b[1;31m    return import_item(string)\n",
      "\u001b[1;31m  File \"/opt/anaconda3/lib/python3.9/site-packages/traitlets/utils/importstring.py\", line 33, in import_item\n",
      "\u001b[1;31m    module = __import__(package, fromlist=[obj])\n",
      "\u001b[1;31mModuleNotFoundError: No module named 'jupyter_server.contents'\n",
      "\u001b[1;31m\n",
      "\u001b[1;31mDuring handling of the above exception, another exception occurred:\n",
      "\u001b[1;31m\n",
      "\u001b[1;31mTraceback (most recent call last):\n",
      "\u001b[1;31m  File \"/Users/angelinemicaela/.vscode/extensions/ms-toolsai.jupyter-2022.11.1003412109/pythonFiles/vscode_datascience_helpers/daemon/daemon_python.py\", line 54, in _decorator\n",
      "\u001b[1;31m    return func(self, *args, **kwargs)\n",
      "\u001b[1;31m  File \"/Users/angelinemicaela/.vscode/extensions/ms-toolsai.jupyter-2022.11.1003412109/pythonFiles/vscode_datascience_helpers/jupyter_daemon.py\", line 111, in m_exec_module_observable\n",
      "\u001b[1;31m    self._start_notebook(args, cwd, env)\n",
      "\u001b[1;31m  File \"/Users/angelinemicaela/.vscode/extensions/ms-toolsai.jupyter-2022.11.1003412109/pythonFiles/vscode_datascience_helpers/jupyter_daemon.py\", line 168, in _start_notebook\n",
      "\u001b[1;31m    app.launch_new_instance()\n",
      "\u001b[1;31m  File \"/opt/anaconda3/lib/python3.9/site-packages/jupyter_core/application.py\", line 283, in launch_instance\n",
      "\u001b[1;31m    super().launch_instance(argv=argv, **kwargs)\n",
      "\u001b[1;31m  File \"/opt/anaconda3/lib/python3.9/site-packages/traitlets/config/application.py\", line 1073, in launch_instance\n",
      "\u001b[1;31m    app = cls.instance(**kwargs)\n",
      "\u001b[1;31m  File \"/opt/anaconda3/lib/python3.9/site-packages/traitlets/config/configurable.py\", line 583, in instance\n",
      "\u001b[1;31m    inst = cls(*args, **kwargs)\n",
      "\u001b[1;31m  File \"/opt/anaconda3/lib/python3.9/site-packages/traitlets/traitlets.py\", line 1292, in __new__\n",
      "\u001b[1;31m    inst.setup_instance(*args, **kwargs)\n",
      "\u001b[1;31m  File \"/opt/anaconda3/lib/python3.9/site-packages/traitlets/traitlets.py\", line 1335, in setup_instance\n",
      "\u001b[1;31m    super(HasTraits, self).setup_instance(*args, **kwargs)\n",
      "\u001b[1;31m  File \"/opt/anaconda3/lib/python3.9/site-packages/traitlets/traitlets.py\", line 1311, in setup_instance\n",
      "\u001b[1;31m    init(self)\n",
      "\u001b[1;31m  File \"/opt/anaconda3/lib/python3.9/site-packages/notebook/traittypes.py\", line 223, in instance_init\n",
      "\u001b[1;31m    self._resolve_classes()\n",
      "\u001b[1;31m  File \"/opt/anaconda3/lib/python3.9/site-packages/notebook/traittypes.py\", line 235, in _resolve_classes\n",
      "\u001b[1;31m    warn(f\"{klass} is not importable. Is it installed?\", ImportWarning)\n",
      "\u001b[1;31mTypeError: warn() missing 1 required keyword-only argument: 'stacklevel'\n",
      "\u001b[1;31m\n",
      "\u001b[1;31mFailed to run jupyter as observable with args notebook --no-browser --notebook-dir=\"/Users/angelinemicaela/Documents/GitHub/CSCI180.03-Mica-and-Basti-Assignments\" --config=/var/folders/96/lm2f1_xj78n9l89gnzdbhfj40000gn/T/ee6d4dfb-313a-4ef9-9aaa-a52d4ac9d994/jupyter_notebook_config.py --NotebookApp.iopub_data_rate_limit=10000000000.0. \n",
      "\u001b[1;31mView Jupyter <a href='command:jupyter.viewOutput'>log</a> for further details."
     ]
    }
   ],
   "source": []
  },
  {
   "cell_type": "markdown",
   "metadata": {},
   "source": [
    "## 1-5. Implement repeating-key XOR [4 pts]"
   ]
  },
  {
   "cell_type": "markdown",
   "metadata": {},
   "source": [
    "Here are the first two lines of what people consider one of [Frank's greatest hits](https://youtu.be/ntULIFnj7MY):\n",
    "```\n",
    "Shawty had them apple bottom jeans,\n",
    "The boots with the fur\n",
    "```\n",
    "Encrypt it using repeating-key XOR, with the key \"`LOW`\"."
   ]
  },
  {
   "cell_type": "markdown",
   "metadata": {},
   "source": [
    "The way repeating-key XOR works is that the first byte of plaintext will be XOR'd against `L`, the next `O`, the next `W`, then `L` again for the 4th byte, and so on. In effect, it will look something like this:\n",
    "```\n",
    "Plaintext:   S h a w t y   h a d   t ...\n",
    "Key:         L O W L O W L O W L O W ...\n",
    "```\n",
    "If this reminds you of the Vigenère cipher, you're absolutely right! This *is* just Vigenère, but we're working over binary strings instead."
   ]
  },
  {
   "cell_type": "markdown",
   "metadata": {},
   "source": [
    "Write a function called `xor_repeating` that takes two bytestrings corresponding to the plaintext and the key, and encrypts it using repeating-key XOR. Using the plaintext and key above, your function should output:\n",
    "```\n",
    "1f27363b3b2e6c2736286f23242a3a6c2e273c23326c2d38383b38216f\n",
    "3d292e393f635d1827326c2d38233b246c383e3827773827326c29223e\n",
    "```\n",
    "when hex-encoded. (Note that this is a single hex string; it's only split into two lines to make it fit.)"
   ]
  },
  {
   "cell_type": "code",
   "execution_count": null,
   "metadata": {},
   "outputs": [
    {
     "ename": "",
     "evalue": "",
     "output_type": "error",
     "traceback": [
      "\u001b[1;31mFailed to start the Kernel. \n",
      "\u001b[1;31mTraceback (most recent call last):\n",
      "\u001b[1;31m  File \"/opt/anaconda3/lib/python3.9/site-packages/notebook/traittypes.py\", line 232, in _resolve_classes\n",
      "\u001b[1;31m    klass = self._resolve_string(klass)\n",
      "\u001b[1;31m  File \"/opt/anaconda3/lib/python3.9/site-packages/traitlets/traitlets.py\", line 2015, in _resolve_string\n",
      "\u001b[1;31m    return import_item(string)\n",
      "\u001b[1;31m  File \"/opt/anaconda3/lib/python3.9/site-packages/traitlets/utils/importstring.py\", line 33, in import_item\n",
      "\u001b[1;31m    module = __import__(package, fromlist=[obj])\n",
      "\u001b[1;31mModuleNotFoundError: No module named 'jupyter_server.contents'\n",
      "\u001b[1;31m\n",
      "\u001b[1;31mDuring handling of the above exception, another exception occurred:\n",
      "\u001b[1;31m\n",
      "\u001b[1;31mTraceback (most recent call last):\n",
      "\u001b[1;31m  File \"/Users/angelinemicaela/.vscode/extensions/ms-toolsai.jupyter-2022.11.1003412109/pythonFiles/vscode_datascience_helpers/daemon/daemon_python.py\", line 54, in _decorator\n",
      "\u001b[1;31m    return func(self, *args, **kwargs)\n",
      "\u001b[1;31m  File \"/Users/angelinemicaela/.vscode/extensions/ms-toolsai.jupyter-2022.11.1003412109/pythonFiles/vscode_datascience_helpers/jupyter_daemon.py\", line 111, in m_exec_module_observable\n",
      "\u001b[1;31m    self._start_notebook(args, cwd, env)\n",
      "\u001b[1;31m  File \"/Users/angelinemicaela/.vscode/extensions/ms-toolsai.jupyter-2022.11.1003412109/pythonFiles/vscode_datascience_helpers/jupyter_daemon.py\", line 168, in _start_notebook\n",
      "\u001b[1;31m    app.launch_new_instance()\n",
      "\u001b[1;31m  File \"/opt/anaconda3/lib/python3.9/site-packages/jupyter_core/application.py\", line 283, in launch_instance\n",
      "\u001b[1;31m    super().launch_instance(argv=argv, **kwargs)\n",
      "\u001b[1;31m  File \"/opt/anaconda3/lib/python3.9/site-packages/traitlets/config/application.py\", line 1073, in launch_instance\n",
      "\u001b[1;31m    app = cls.instance(**kwargs)\n",
      "\u001b[1;31m  File \"/opt/anaconda3/lib/python3.9/site-packages/traitlets/config/configurable.py\", line 583, in instance\n",
      "\u001b[1;31m    inst = cls(*args, **kwargs)\n",
      "\u001b[1;31m  File \"/opt/anaconda3/lib/python3.9/site-packages/traitlets/traitlets.py\", line 1292, in __new__\n",
      "\u001b[1;31m    inst.setup_instance(*args, **kwargs)\n",
      "\u001b[1;31m  File \"/opt/anaconda3/lib/python3.9/site-packages/traitlets/traitlets.py\", line 1335, in setup_instance\n",
      "\u001b[1;31m    super(HasTraits, self).setup_instance(*args, **kwargs)\n",
      "\u001b[1;31m  File \"/opt/anaconda3/lib/python3.9/site-packages/traitlets/traitlets.py\", line 1311, in setup_instance\n",
      "\u001b[1;31m    init(self)\n",
      "\u001b[1;31m  File \"/opt/anaconda3/lib/python3.9/site-packages/notebook/traittypes.py\", line 223, in instance_init\n",
      "\u001b[1;31m    self._resolve_classes()\n",
      "\u001b[1;31m  File \"/opt/anaconda3/lib/python3.9/site-packages/notebook/traittypes.py\", line 235, in _resolve_classes\n",
      "\u001b[1;31m    warn(f\"{klass} is not importable. Is it installed?\", ImportWarning)\n",
      "\u001b[1;31mTypeError: warn() missing 1 required keyword-only argument: 'stacklevel'\n",
      "\u001b[1;31m\n",
      "\u001b[1;31mFailed to run jupyter as observable with args notebook --no-browser --notebook-dir=\"/Users/angelinemicaela/Documents/GitHub/CSCI180.03-Mica-and-Basti-Assignments\" --config=/var/folders/96/lm2f1_xj78n9l89gnzdbhfj40000gn/T/ee6d4dfb-313a-4ef9-9aaa-a52d4ac9d994/jupyter_notebook_config.py --NotebookApp.iopub_data_rate_limit=10000000000.0. \n",
      "\u001b[1;31mView Jupyter <a href='command:jupyter.viewOutput'>log</a> for further details."
     ]
    }
   ],
   "source": [
    "def xor_repeating(m, key):\n",
    "    # TO-DO: do stuff here"
   ]
  },
  {
   "cell_type": "code",
   "execution_count": null,
   "metadata": {},
   "outputs": [
    {
     "ename": "",
     "evalue": "",
     "output_type": "error",
     "traceback": [
      "\u001b[1;31mFailed to start the Kernel. \n",
      "\u001b[1;31mTraceback (most recent call last):\n",
      "\u001b[1;31m  File \"/opt/anaconda3/lib/python3.9/site-packages/notebook/traittypes.py\", line 232, in _resolve_classes\n",
      "\u001b[1;31m    klass = self._resolve_string(klass)\n",
      "\u001b[1;31m  File \"/opt/anaconda3/lib/python3.9/site-packages/traitlets/traitlets.py\", line 2015, in _resolve_string\n",
      "\u001b[1;31m    return import_item(string)\n",
      "\u001b[1;31m  File \"/opt/anaconda3/lib/python3.9/site-packages/traitlets/utils/importstring.py\", line 33, in import_item\n",
      "\u001b[1;31m    module = __import__(package, fromlist=[obj])\n",
      "\u001b[1;31mModuleNotFoundError: No module named 'jupyter_server.contents'\n",
      "\u001b[1;31m\n",
      "\u001b[1;31mDuring handling of the above exception, another exception occurred:\n",
      "\u001b[1;31m\n",
      "\u001b[1;31mTraceback (most recent call last):\n",
      "\u001b[1;31m  File \"/Users/angelinemicaela/.vscode/extensions/ms-toolsai.jupyter-2022.11.1003412109/pythonFiles/vscode_datascience_helpers/daemon/daemon_python.py\", line 54, in _decorator\n",
      "\u001b[1;31m    return func(self, *args, **kwargs)\n",
      "\u001b[1;31m  File \"/Users/angelinemicaela/.vscode/extensions/ms-toolsai.jupyter-2022.11.1003412109/pythonFiles/vscode_datascience_helpers/jupyter_daemon.py\", line 111, in m_exec_module_observable\n",
      "\u001b[1;31m    self._start_notebook(args, cwd, env)\n",
      "\u001b[1;31m  File \"/Users/angelinemicaela/.vscode/extensions/ms-toolsai.jupyter-2022.11.1003412109/pythonFiles/vscode_datascience_helpers/jupyter_daemon.py\", line 168, in _start_notebook\n",
      "\u001b[1;31m    app.launch_new_instance()\n",
      "\u001b[1;31m  File \"/opt/anaconda3/lib/python3.9/site-packages/jupyter_core/application.py\", line 283, in launch_instance\n",
      "\u001b[1;31m    super().launch_instance(argv=argv, **kwargs)\n",
      "\u001b[1;31m  File \"/opt/anaconda3/lib/python3.9/site-packages/traitlets/config/application.py\", line 1073, in launch_instance\n",
      "\u001b[1;31m    app = cls.instance(**kwargs)\n",
      "\u001b[1;31m  File \"/opt/anaconda3/lib/python3.9/site-packages/traitlets/config/configurable.py\", line 583, in instance\n",
      "\u001b[1;31m    inst = cls(*args, **kwargs)\n",
      "\u001b[1;31m  File \"/opt/anaconda3/lib/python3.9/site-packages/traitlets/traitlets.py\", line 1292, in __new__\n",
      "\u001b[1;31m    inst.setup_instance(*args, **kwargs)\n",
      "\u001b[1;31m  File \"/opt/anaconda3/lib/python3.9/site-packages/traitlets/traitlets.py\", line 1335, in setup_instance\n",
      "\u001b[1;31m    super(HasTraits, self).setup_instance(*args, **kwargs)\n",
      "\u001b[1;31m  File \"/opt/anaconda3/lib/python3.9/site-packages/traitlets/traitlets.py\", line 1311, in setup_instance\n",
      "\u001b[1;31m    init(self)\n",
      "\u001b[1;31m  File \"/opt/anaconda3/lib/python3.9/site-packages/notebook/traittypes.py\", line 223, in instance_init\n",
      "\u001b[1;31m    self._resolve_classes()\n",
      "\u001b[1;31m  File \"/opt/anaconda3/lib/python3.9/site-packages/notebook/traittypes.py\", line 235, in _resolve_classes\n",
      "\u001b[1;31m    warn(f\"{klass} is not importable. Is it installed?\", ImportWarning)\n",
      "\u001b[1;31mTypeError: warn() missing 1 required keyword-only argument: 'stacklevel'\n",
      "\u001b[1;31m\n",
      "\u001b[1;31mFailed to run jupyter as observable with args notebook --no-browser --notebook-dir=\"/Users/angelinemicaela/Documents/GitHub/CSCI180.03-Mica-and-Basti-Assignments\" --config=/var/folders/96/lm2f1_xj78n9l89gnzdbhfj40000gn/T/ee6d4dfb-313a-4ef9-9aaa-a52d4ac9d994/jupyter_notebook_config.py --NotebookApp.iopub_data_rate_limit=10000000000.0. \n",
      "\u001b[1;31mView Jupyter <a href='command:jupyter.viewOutput'>log</a> for further details."
     ]
    }
   ],
   "source": [
    "# if your function works properly, no error should appear when running this line\n",
    "assert hexlify(xor_repeating(b'Shawty had them apple bottom jeans,\\nThe boots with the fur', b'LOW')) == b'1f27363b3b2e6c2736286f23242a3a6c2e273c23326c2d38383b38216f3d292e393f635d1827326c2d38233b246c383e3827773827326c29223e'"
   ]
  },
  {
   "cell_type": "markdown",
   "metadata": {},
   "source": [
    "## 1-6. Break repeating-key XOR [10 pts]"
   ]
  },
  {
   "cell_type": "markdown",
   "metadata": {},
   "source": [
    "I have [another file here](http://lunchtimeattack.wtf/csci184.03/encrypted.txt).\n",
    "It has been Base64-encoded after being encrypted with repeating-key XOR.\n",
    "\n",
    "Decrypt it."
   ]
  },
  {
   "cell_type": "markdown",
   "metadata": {},
   "source": [
    "Here's how:\n",
    "\n",
    "1. Let $n$ be the guessed key length. Try values from $n = 2$ up to $n = 40$.\n",
    "\n",
    "2. Write a function called `hamming_dist` that computes the [Hamming distance](https://en.wikipedia.org/wiki/Hamming_distance) between two bytestrings of equal length.\n",
    "The Hamming distance is just the number of differing bits.\n",
    "For example, the Hamming distance between `twelve plus one` and `ElEveN pLUs twO` is $30$. **Please make sure your function works correctly first before proceeding.**\n",
    "\n",
    "3. For each $n$, take the first $n$ bytes and the second $n$ bytes, and find the Hamming distance between them. \n",
    "Divide the result by $n$ to normalize it.\n",
    "\n",
    "4. The $n$ with the smallest normalized Hamming distance is *probably* the key. But just to make sure, you could proceed with the smallest 2 or 3 values of $n$, or you could take 4 blocks of $n$ instead of 2 and average their distances.\n",
    "\n",
    "5. Now that you probably know $n$, split the ciphertext into blocks of length $n$.\n",
    "\n",
    "6. Now transpose the blocks: make a block that is the first byte of every block, and a block that is the second byte of every block, and so on. For example, suppose we have the ciphertext split into blocks of length 5:\n",
    "```\n",
    "QWERT YUIOP ASDFG HJKLZ\n",
    "```\n",
    "then transposing these blocks will yield five blocks of length 4:\n",
    "```\n",
    "QYAH WUSJ EIDK ROFL TPGZ\n",
    "```\n",
    "\n",
    "7. Solve each block as if it was single-character XOR. You have code to do this, so go use that.\n",
    "\n",
    "8. For each block, the single-byte XOR key that has the best score is the repeating-key XOR key byte for that block. All you need to do is to put them together and you have the key!\n",
    "\n",
    "As before, you may implement additional functions of your own."
   ]
  },
  {
   "cell_type": "code",
   "execution_count": null,
   "metadata": {},
   "outputs": [
    {
     "ename": "",
     "evalue": "",
     "output_type": "error",
     "traceback": [
      "\u001b[1;31mFailed to start the Kernel. \n",
      "\u001b[1;31mTraceback (most recent call last):\n",
      "\u001b[1;31m  File \"/opt/anaconda3/lib/python3.9/site-packages/notebook/traittypes.py\", line 232, in _resolve_classes\n",
      "\u001b[1;31m    klass = self._resolve_string(klass)\n",
      "\u001b[1;31m  File \"/opt/anaconda3/lib/python3.9/site-packages/traitlets/traitlets.py\", line 2015, in _resolve_string\n",
      "\u001b[1;31m    return import_item(string)\n",
      "\u001b[1;31m  File \"/opt/anaconda3/lib/python3.9/site-packages/traitlets/utils/importstring.py\", line 33, in import_item\n",
      "\u001b[1;31m    module = __import__(package, fromlist=[obj])\n",
      "\u001b[1;31mModuleNotFoundError: No module named 'jupyter_server.contents'\n",
      "\u001b[1;31m\n",
      "\u001b[1;31mDuring handling of the above exception, another exception occurred:\n",
      "\u001b[1;31m\n",
      "\u001b[1;31mTraceback (most recent call last):\n",
      "\u001b[1;31m  File \"/Users/angelinemicaela/.vscode/extensions/ms-toolsai.jupyter-2022.11.1003412109/pythonFiles/vscode_datascience_helpers/daemon/daemon_python.py\", line 54, in _decorator\n",
      "\u001b[1;31m    return func(self, *args, **kwargs)\n",
      "\u001b[1;31m  File \"/Users/angelinemicaela/.vscode/extensions/ms-toolsai.jupyter-2022.11.1003412109/pythonFiles/vscode_datascience_helpers/jupyter_daemon.py\", line 111, in m_exec_module_observable\n",
      "\u001b[1;31m    self._start_notebook(args, cwd, env)\n",
      "\u001b[1;31m  File \"/Users/angelinemicaela/.vscode/extensions/ms-toolsai.jupyter-2022.11.1003412109/pythonFiles/vscode_datascience_helpers/jupyter_daemon.py\", line 168, in _start_notebook\n",
      "\u001b[1;31m    app.launch_new_instance()\n",
      "\u001b[1;31m  File \"/opt/anaconda3/lib/python3.9/site-packages/jupyter_core/application.py\", line 283, in launch_instance\n",
      "\u001b[1;31m    super().launch_instance(argv=argv, **kwargs)\n",
      "\u001b[1;31m  File \"/opt/anaconda3/lib/python3.9/site-packages/traitlets/config/application.py\", line 1073, in launch_instance\n",
      "\u001b[1;31m    app = cls.instance(**kwargs)\n",
      "\u001b[1;31m  File \"/opt/anaconda3/lib/python3.9/site-packages/traitlets/config/configurable.py\", line 583, in instance\n",
      "\u001b[1;31m    inst = cls(*args, **kwargs)\n",
      "\u001b[1;31m  File \"/opt/anaconda3/lib/python3.9/site-packages/traitlets/traitlets.py\", line 1292, in __new__\n",
      "\u001b[1;31m    inst.setup_instance(*args, **kwargs)\n",
      "\u001b[1;31m  File \"/opt/anaconda3/lib/python3.9/site-packages/traitlets/traitlets.py\", line 1335, in setup_instance\n",
      "\u001b[1;31m    super(HasTraits, self).setup_instance(*args, **kwargs)\n",
      "\u001b[1;31m  File \"/opt/anaconda3/lib/python3.9/site-packages/traitlets/traitlets.py\", line 1311, in setup_instance\n",
      "\u001b[1;31m    init(self)\n",
      "\u001b[1;31m  File \"/opt/anaconda3/lib/python3.9/site-packages/notebook/traittypes.py\", line 223, in instance_init\n",
      "\u001b[1;31m    self._resolve_classes()\n",
      "\u001b[1;31m  File \"/opt/anaconda3/lib/python3.9/site-packages/notebook/traittypes.py\", line 235, in _resolve_classes\n",
      "\u001b[1;31m    warn(f\"{klass} is not importable. Is it installed?\", ImportWarning)\n",
      "\u001b[1;31mTypeError: warn() missing 1 required keyword-only argument: 'stacklevel'\n",
      "\u001b[1;31m\n",
      "\u001b[1;31mFailed to run jupyter as observable with args notebook --no-browser --notebook-dir=\"/Users/angelinemicaela/Documents/GitHub/CSCI180.03-Mica-and-Basti-Assignments\" --config=/var/folders/96/lm2f1_xj78n9l89gnzdbhfj40000gn/T/ee6d4dfb-313a-4ef9-9aaa-a52d4ac9d994/jupyter_notebook_config.py --NotebookApp.iopub_data_rate_limit=10000000000.0. \n",
      "\u001b[1;31mView Jupyter <a href='command:jupyter.viewOutput'>log</a> for further details."
     ]
    }
   ],
   "source": [
    "def hamming_dist(a, b):\n",
    "    # TO-DO: do stuff here"
   ]
  },
  {
   "cell_type": "code",
   "execution_count": null,
   "metadata": {},
   "outputs": [
    {
     "ename": "",
     "evalue": "",
     "output_type": "error",
     "traceback": [
      "\u001b[1;31mFailed to start the Kernel. \n",
      "\u001b[1;31mTraceback (most recent call last):\n",
      "\u001b[1;31m  File \"/opt/anaconda3/lib/python3.9/site-packages/notebook/traittypes.py\", line 232, in _resolve_classes\n",
      "\u001b[1;31m    klass = self._resolve_string(klass)\n",
      "\u001b[1;31m  File \"/opt/anaconda3/lib/python3.9/site-packages/traitlets/traitlets.py\", line 2015, in _resolve_string\n",
      "\u001b[1;31m    return import_item(string)\n",
      "\u001b[1;31m  File \"/opt/anaconda3/lib/python3.9/site-packages/traitlets/utils/importstring.py\", line 33, in import_item\n",
      "\u001b[1;31m    module = __import__(package, fromlist=[obj])\n",
      "\u001b[1;31mModuleNotFoundError: No module named 'jupyter_server.contents'\n",
      "\u001b[1;31m\n",
      "\u001b[1;31mDuring handling of the above exception, another exception occurred:\n",
      "\u001b[1;31m\n",
      "\u001b[1;31mTraceback (most recent call last):\n",
      "\u001b[1;31m  File \"/Users/angelinemicaela/.vscode/extensions/ms-toolsai.jupyter-2022.11.1003412109/pythonFiles/vscode_datascience_helpers/daemon/daemon_python.py\", line 54, in _decorator\n",
      "\u001b[1;31m    return func(self, *args, **kwargs)\n",
      "\u001b[1;31m  File \"/Users/angelinemicaela/.vscode/extensions/ms-toolsai.jupyter-2022.11.1003412109/pythonFiles/vscode_datascience_helpers/jupyter_daemon.py\", line 111, in m_exec_module_observable\n",
      "\u001b[1;31m    self._start_notebook(args, cwd, env)\n",
      "\u001b[1;31m  File \"/Users/angelinemicaela/.vscode/extensions/ms-toolsai.jupyter-2022.11.1003412109/pythonFiles/vscode_datascience_helpers/jupyter_daemon.py\", line 168, in _start_notebook\n",
      "\u001b[1;31m    app.launch_new_instance()\n",
      "\u001b[1;31m  File \"/opt/anaconda3/lib/python3.9/site-packages/jupyter_core/application.py\", line 283, in launch_instance\n",
      "\u001b[1;31m    super().launch_instance(argv=argv, **kwargs)\n",
      "\u001b[1;31m  File \"/opt/anaconda3/lib/python3.9/site-packages/traitlets/config/application.py\", line 1073, in launch_instance\n",
      "\u001b[1;31m    app = cls.instance(**kwargs)\n",
      "\u001b[1;31m  File \"/opt/anaconda3/lib/python3.9/site-packages/traitlets/config/configurable.py\", line 583, in instance\n",
      "\u001b[1;31m    inst = cls(*args, **kwargs)\n",
      "\u001b[1;31m  File \"/opt/anaconda3/lib/python3.9/site-packages/traitlets/traitlets.py\", line 1292, in __new__\n",
      "\u001b[1;31m    inst.setup_instance(*args, **kwargs)\n",
      "\u001b[1;31m  File \"/opt/anaconda3/lib/python3.9/site-packages/traitlets/traitlets.py\", line 1335, in setup_instance\n",
      "\u001b[1;31m    super(HasTraits, self).setup_instance(*args, **kwargs)\n",
      "\u001b[1;31m  File \"/opt/anaconda3/lib/python3.9/site-packages/traitlets/traitlets.py\", line 1311, in setup_instance\n",
      "\u001b[1;31m    init(self)\n",
      "\u001b[1;31m  File \"/opt/anaconda3/lib/python3.9/site-packages/notebook/traittypes.py\", line 223, in instance_init\n",
      "\u001b[1;31m    self._resolve_classes()\n",
      "\u001b[1;31m  File \"/opt/anaconda3/lib/python3.9/site-packages/notebook/traittypes.py\", line 235, in _resolve_classes\n",
      "\u001b[1;31m    warn(f\"{klass} is not importable. Is it installed?\", ImportWarning)\n",
      "\u001b[1;31mTypeError: warn() missing 1 required keyword-only argument: 'stacklevel'\n",
      "\u001b[1;31m\n",
      "\u001b[1;31mFailed to run jupyter as observable with args notebook --no-browser --notebook-dir=\"/Users/angelinemicaela/Documents/GitHub/CSCI180.03-Mica-and-Basti-Assignments\" --config=/var/folders/96/lm2f1_xj78n9l89gnzdbhfj40000gn/T/ee6d4dfb-313a-4ef9-9aaa-a52d4ac9d994/jupyter_notebook_config.py --NotebookApp.iopub_data_rate_limit=10000000000.0. \n",
      "\u001b[1;31mView Jupyter <a href='command:jupyter.viewOutput'>log</a> for further details."
     ]
    }
   ],
   "source": [
    "# if your function works properly, no error should appear when running this line\n",
    "assert hamming_dist(b'twelve plus one', b'ElEveN pLUs twO') == 30"
   ]
  },
  {
   "cell_type": "code",
   "execution_count": null,
   "metadata": {},
   "outputs": [
    {
     "ename": "",
     "evalue": "",
     "output_type": "error",
     "traceback": [
      "\u001b[1;31mFailed to start the Kernel. \n",
      "\u001b[1;31mTraceback (most recent call last):\n",
      "\u001b[1;31m  File \"/opt/anaconda3/lib/python3.9/site-packages/notebook/traittypes.py\", line 232, in _resolve_classes\n",
      "\u001b[1;31m    klass = self._resolve_string(klass)\n",
      "\u001b[1;31m  File \"/opt/anaconda3/lib/python3.9/site-packages/traitlets/traitlets.py\", line 2015, in _resolve_string\n",
      "\u001b[1;31m    return import_item(string)\n",
      "\u001b[1;31m  File \"/opt/anaconda3/lib/python3.9/site-packages/traitlets/utils/importstring.py\", line 33, in import_item\n",
      "\u001b[1;31m    module = __import__(package, fromlist=[obj])\n",
      "\u001b[1;31mModuleNotFoundError: No module named 'jupyter_server.contents'\n",
      "\u001b[1;31m\n",
      "\u001b[1;31mDuring handling of the above exception, another exception occurred:\n",
      "\u001b[1;31m\n",
      "\u001b[1;31mTraceback (most recent call last):\n",
      "\u001b[1;31m  File \"/Users/angelinemicaela/.vscode/extensions/ms-toolsai.jupyter-2022.11.1003412109/pythonFiles/vscode_datascience_helpers/daemon/daemon_python.py\", line 54, in _decorator\n",
      "\u001b[1;31m    return func(self, *args, **kwargs)\n",
      "\u001b[1;31m  File \"/Users/angelinemicaela/.vscode/extensions/ms-toolsai.jupyter-2022.11.1003412109/pythonFiles/vscode_datascience_helpers/jupyter_daemon.py\", line 111, in m_exec_module_observable\n",
      "\u001b[1;31m    self._start_notebook(args, cwd, env)\n",
      "\u001b[1;31m  File \"/Users/angelinemicaela/.vscode/extensions/ms-toolsai.jupyter-2022.11.1003412109/pythonFiles/vscode_datascience_helpers/jupyter_daemon.py\", line 168, in _start_notebook\n",
      "\u001b[1;31m    app.launch_new_instance()\n",
      "\u001b[1;31m  File \"/opt/anaconda3/lib/python3.9/site-packages/jupyter_core/application.py\", line 283, in launch_instance\n",
      "\u001b[1;31m    super().launch_instance(argv=argv, **kwargs)\n",
      "\u001b[1;31m  File \"/opt/anaconda3/lib/python3.9/site-packages/traitlets/config/application.py\", line 1073, in launch_instance\n",
      "\u001b[1;31m    app = cls.instance(**kwargs)\n",
      "\u001b[1;31m  File \"/opt/anaconda3/lib/python3.9/site-packages/traitlets/config/configurable.py\", line 583, in instance\n",
      "\u001b[1;31m    inst = cls(*args, **kwargs)\n",
      "\u001b[1;31m  File \"/opt/anaconda3/lib/python3.9/site-packages/traitlets/traitlets.py\", line 1292, in __new__\n",
      "\u001b[1;31m    inst.setup_instance(*args, **kwargs)\n",
      "\u001b[1;31m  File \"/opt/anaconda3/lib/python3.9/site-packages/traitlets/traitlets.py\", line 1335, in setup_instance\n",
      "\u001b[1;31m    super(HasTraits, self).setup_instance(*args, **kwargs)\n",
      "\u001b[1;31m  File \"/opt/anaconda3/lib/python3.9/site-packages/traitlets/traitlets.py\", line 1311, in setup_instance\n",
      "\u001b[1;31m    init(self)\n",
      "\u001b[1;31m  File \"/opt/anaconda3/lib/python3.9/site-packages/notebook/traittypes.py\", line 223, in instance_init\n",
      "\u001b[1;31m    self._resolve_classes()\n",
      "\u001b[1;31m  File \"/opt/anaconda3/lib/python3.9/site-packages/notebook/traittypes.py\", line 235, in _resolve_classes\n",
      "\u001b[1;31m    warn(f\"{klass} is not importable. Is it installed?\", ImportWarning)\n",
      "\u001b[1;31mTypeError: warn() missing 1 required keyword-only argument: 'stacklevel'\n",
      "\u001b[1;31m\n",
      "\u001b[1;31mFailed to run jupyter as observable with args notebook --no-browser --notebook-dir=\"/Users/angelinemicaela/Documents/GitHub/CSCI180.03-Mica-and-Basti-Assignments\" --config=/var/folders/96/lm2f1_xj78n9l89gnzdbhfj40000gn/T/ee6d4dfb-313a-4ef9-9aaa-a52d4ac9d994/jupyter_notebook_config.py --NotebookApp.iopub_data_rate_limit=10000000000.0. \n",
      "\u001b[1;31mView Jupyter <a href='command:jupyter.viewOutput'>log</a> for further details."
     ]
    }
   ],
   "source": [
    "fin = open('encrypted.txt', 'rb')"
   ]
  },
  {
   "cell_type": "code",
   "execution_count": null,
   "metadata": {},
   "outputs": [
    {
     "ename": "",
     "evalue": "",
     "output_type": "error",
     "traceback": [
      "\u001b[1;31mFailed to start the Kernel. \n",
      "\u001b[1;31mTraceback (most recent call last):\n",
      "\u001b[1;31m  File \"/opt/anaconda3/lib/python3.9/site-packages/notebook/traittypes.py\", line 232, in _resolve_classes\n",
      "\u001b[1;31m    klass = self._resolve_string(klass)\n",
      "\u001b[1;31m  File \"/opt/anaconda3/lib/python3.9/site-packages/traitlets/traitlets.py\", line 2015, in _resolve_string\n",
      "\u001b[1;31m    return import_item(string)\n",
      "\u001b[1;31m  File \"/opt/anaconda3/lib/python3.9/site-packages/traitlets/utils/importstring.py\", line 33, in import_item\n",
      "\u001b[1;31m    module = __import__(package, fromlist=[obj])\n",
      "\u001b[1;31mModuleNotFoundError: No module named 'jupyter_server.contents'\n",
      "\u001b[1;31m\n",
      "\u001b[1;31mDuring handling of the above exception, another exception occurred:\n",
      "\u001b[1;31m\n",
      "\u001b[1;31mTraceback (most recent call last):\n",
      "\u001b[1;31m  File \"/Users/angelinemicaela/.vscode/extensions/ms-toolsai.jupyter-2022.11.1003412109/pythonFiles/vscode_datascience_helpers/daemon/daemon_python.py\", line 54, in _decorator\n",
      "\u001b[1;31m    return func(self, *args, **kwargs)\n",
      "\u001b[1;31m  File \"/Users/angelinemicaela/.vscode/extensions/ms-toolsai.jupyter-2022.11.1003412109/pythonFiles/vscode_datascience_helpers/jupyter_daemon.py\", line 111, in m_exec_module_observable\n",
      "\u001b[1;31m    self._start_notebook(args, cwd, env)\n",
      "\u001b[1;31m  File \"/Users/angelinemicaela/.vscode/extensions/ms-toolsai.jupyter-2022.11.1003412109/pythonFiles/vscode_datascience_helpers/jupyter_daemon.py\", line 168, in _start_notebook\n",
      "\u001b[1;31m    app.launch_new_instance()\n",
      "\u001b[1;31m  File \"/opt/anaconda3/lib/python3.9/site-packages/jupyter_core/application.py\", line 283, in launch_instance\n",
      "\u001b[1;31m    super().launch_instance(argv=argv, **kwargs)\n",
      "\u001b[1;31m  File \"/opt/anaconda3/lib/python3.9/site-packages/traitlets/config/application.py\", line 1073, in launch_instance\n",
      "\u001b[1;31m    app = cls.instance(**kwargs)\n",
      "\u001b[1;31m  File \"/opt/anaconda3/lib/python3.9/site-packages/traitlets/config/configurable.py\", line 583, in instance\n",
      "\u001b[1;31m    inst = cls(*args, **kwargs)\n",
      "\u001b[1;31m  File \"/opt/anaconda3/lib/python3.9/site-packages/traitlets/traitlets.py\", line 1292, in __new__\n",
      "\u001b[1;31m    inst.setup_instance(*args, **kwargs)\n",
      "\u001b[1;31m  File \"/opt/anaconda3/lib/python3.9/site-packages/traitlets/traitlets.py\", line 1335, in setup_instance\n",
      "\u001b[1;31m    super(HasTraits, self).setup_instance(*args, **kwargs)\n",
      "\u001b[1;31m  File \"/opt/anaconda3/lib/python3.9/site-packages/traitlets/traitlets.py\", line 1311, in setup_instance\n",
      "\u001b[1;31m    init(self)\n",
      "\u001b[1;31m  File \"/opt/anaconda3/lib/python3.9/site-packages/notebook/traittypes.py\", line 223, in instance_init\n",
      "\u001b[1;31m    self._resolve_classes()\n",
      "\u001b[1;31m  File \"/opt/anaconda3/lib/python3.9/site-packages/notebook/traittypes.py\", line 235, in _resolve_classes\n",
      "\u001b[1;31m    warn(f\"{klass} is not importable. Is it installed?\", ImportWarning)\n",
      "\u001b[1;31mTypeError: warn() missing 1 required keyword-only argument: 'stacklevel'\n",
      "\u001b[1;31m\n",
      "\u001b[1;31mFailed to run jupyter as observable with args notebook --no-browser --notebook-dir=\"/Users/angelinemicaela/Documents/GitHub/CSCI180.03-Mica-and-Basti-Assignments\" --config=/var/folders/96/lm2f1_xj78n9l89gnzdbhfj40000gn/T/ee6d4dfb-313a-4ef9-9aaa-a52d4ac9d994/jupyter_notebook_config.py --NotebookApp.iopub_data_rate_limit=10000000000.0. \n",
      "\u001b[1;31mView Jupyter <a href='command:jupyter.viewOutput'>log</a> for further details."
     ]
    }
   ],
   "source": [
    "b64str = fin.read()"
   ]
  },
  {
   "cell_type": "code",
   "execution_count": null,
   "metadata": {},
   "outputs": [
    {
     "ename": "",
     "evalue": "",
     "output_type": "error",
     "traceback": [
      "\u001b[1;31mFailed to start the Kernel. \n",
      "\u001b[1;31mTraceback (most recent call last):\n",
      "\u001b[1;31m  File \"/opt/anaconda3/lib/python3.9/site-packages/notebook/traittypes.py\", line 232, in _resolve_classes\n",
      "\u001b[1;31m    klass = self._resolve_string(klass)\n",
      "\u001b[1;31m  File \"/opt/anaconda3/lib/python3.9/site-packages/traitlets/traitlets.py\", line 2015, in _resolve_string\n",
      "\u001b[1;31m    return import_item(string)\n",
      "\u001b[1;31m  File \"/opt/anaconda3/lib/python3.9/site-packages/traitlets/utils/importstring.py\", line 33, in import_item\n",
      "\u001b[1;31m    module = __import__(package, fromlist=[obj])\n",
      "\u001b[1;31mModuleNotFoundError: No module named 'jupyter_server.contents'\n",
      "\u001b[1;31m\n",
      "\u001b[1;31mDuring handling of the above exception, another exception occurred:\n",
      "\u001b[1;31m\n",
      "\u001b[1;31mTraceback (most recent call last):\n",
      "\u001b[1;31m  File \"/Users/angelinemicaela/.vscode/extensions/ms-toolsai.jupyter-2022.11.1003412109/pythonFiles/vscode_datascience_helpers/daemon/daemon_python.py\", line 54, in _decorator\n",
      "\u001b[1;31m    return func(self, *args, **kwargs)\n",
      "\u001b[1;31m  File \"/Users/angelinemicaela/.vscode/extensions/ms-toolsai.jupyter-2022.11.1003412109/pythonFiles/vscode_datascience_helpers/jupyter_daemon.py\", line 111, in m_exec_module_observable\n",
      "\u001b[1;31m    self._start_notebook(args, cwd, env)\n",
      "\u001b[1;31m  File \"/Users/angelinemicaela/.vscode/extensions/ms-toolsai.jupyter-2022.11.1003412109/pythonFiles/vscode_datascience_helpers/jupyter_daemon.py\", line 168, in _start_notebook\n",
      "\u001b[1;31m    app.launch_new_instance()\n",
      "\u001b[1;31m  File \"/opt/anaconda3/lib/python3.9/site-packages/jupyter_core/application.py\", line 283, in launch_instance\n",
      "\u001b[1;31m    super().launch_instance(argv=argv, **kwargs)\n",
      "\u001b[1;31m  File \"/opt/anaconda3/lib/python3.9/site-packages/traitlets/config/application.py\", line 1073, in launch_instance\n",
      "\u001b[1;31m    app = cls.instance(**kwargs)\n",
      "\u001b[1;31m  File \"/opt/anaconda3/lib/python3.9/site-packages/traitlets/config/configurable.py\", line 583, in instance\n",
      "\u001b[1;31m    inst = cls(*args, **kwargs)\n",
      "\u001b[1;31m  File \"/opt/anaconda3/lib/python3.9/site-packages/traitlets/traitlets.py\", line 1292, in __new__\n",
      "\u001b[1;31m    inst.setup_instance(*args, **kwargs)\n",
      "\u001b[1;31m  File \"/opt/anaconda3/lib/python3.9/site-packages/traitlets/traitlets.py\", line 1335, in setup_instance\n",
      "\u001b[1;31m    super(HasTraits, self).setup_instance(*args, **kwargs)\n",
      "\u001b[1;31m  File \"/opt/anaconda3/lib/python3.9/site-packages/traitlets/traitlets.py\", line 1311, in setup_instance\n",
      "\u001b[1;31m    init(self)\n",
      "\u001b[1;31m  File \"/opt/anaconda3/lib/python3.9/site-packages/notebook/traittypes.py\", line 223, in instance_init\n",
      "\u001b[1;31m    self._resolve_classes()\n",
      "\u001b[1;31m  File \"/opt/anaconda3/lib/python3.9/site-packages/notebook/traittypes.py\", line 235, in _resolve_classes\n",
      "\u001b[1;31m    warn(f\"{klass} is not importable. Is it installed?\", ImportWarning)\n",
      "\u001b[1;31mTypeError: warn() missing 1 required keyword-only argument: 'stacklevel'\n",
      "\u001b[1;31m\n",
      "\u001b[1;31mFailed to run jupyter as observable with args notebook --no-browser --notebook-dir=\"/Users/angelinemicaela/Documents/GitHub/CSCI180.03-Mica-and-Basti-Assignments\" --config=/var/folders/96/lm2f1_xj78n9l89gnzdbhfj40000gn/T/ee6d4dfb-313a-4ef9-9aaa-a52d4ac9d994/jupyter_notebook_config.py --NotebookApp.iopub_data_rate_limit=10000000000.0. \n",
      "\u001b[1;31mView Jupyter <a href='command:jupyter.viewOutput'>log</a> for further details."
     ]
    }
   ],
   "source": []
  }
 ],
 "metadata": {
  "kernelspec": {
   "display_name": "Python 3",
   "language": "python",
   "name": "python3"
  },
  "language_info": {
   "codemirror_mode": {
    "name": "ipython",
    "version": 3
   },
   "file_extension": ".py",
   "mimetype": "text/x-python",
   "name": "python",
   "nbconvert_exporter": "python",
   "pygments_lexer": "ipython3",
   "version": "3.8.4"
  },
  "vscode": {
   "interpreter": {
    "hash": "31f2aee4e71d21fbe5cf8b01ff0e069b9275f58929596ceb00d14d90e3e16cd6"
   }
  }
 },
 "nbformat": 4,
 "nbformat_minor": 4
}
