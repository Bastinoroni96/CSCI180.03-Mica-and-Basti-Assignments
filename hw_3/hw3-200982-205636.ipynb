{
 "cells": [
  {
   "cell_type": "markdown",
   "metadata": {},
   "source": [
    "**[✏️ replace this text with your name(s) and your ID number(s)]**"
   ]
  },
  {
   "cell_type": "markdown",
   "metadata": {},
   "source": [
    "# Homework 3"
   ]
  },
  {
   "cell_type": "markdown",
   "metadata": {},
   "source": [
    "*Due date:* March 6, 2025 (Thursday) at **11:59 PM** (note the non-standard time!)"
   ]
  },
  {
   "cell_type": "markdown",
   "metadata": {},
   "source": [
    "The premise behind [confessions pages](https://en.wikipedia.org/wiki/Confessions_page) is pretty simple.\n",
    "Students can anonymously submit their confessions and secrets, and then the admins decide which confessions to post on the page for everyone to view.\n",
    "While anonymity has empowered many people into revealing their thoughts online, this can possibly make confessions pages very, *very* toxic!\n",
    "\n",
    "After yet another Freedom Wall shut down just recently, some CS students decided that they would make a new and better Freedom Wall.\n",
    "A very ambitious goal if I do say so myself.\n",
    "It is currently hosted at http://hw3.lunchtimeattack.wtf.\n",
    "\n",
    "Now's the time to bring out the big guns. In this homework, you will carry out one of the best-known attacks in modern cryptography called the *padding oracle attack*.\n",
    "More specifically, your task is to use the Freedom Wall site as a padding oracle to decrypt the messages."
   ]
  },
  {
   "cell_type": "markdown",
   "metadata": {},
   "source": [
    "This homework has 30 points in total. Final percentages are capped at 100%.\n",
    "\n",
    "Please be guided on the policies regarding late submissions, regrading, and collaboration.\n",
    "If any, please direct all your questions and clarifications about this homework in the `#hw3-help` channel on \n",
    "the Discord server."
   ]
  },
  {
   "cell_type": "markdown",
   "metadata": {},
   "source": [
    "## Some reminders"
   ]
  },
  {
   "cell_type": "markdown",
   "metadata": {},
   "source": [
    "You are not allowed to use additional third-party libraries other than those explicitly used here, though libraries within the Python standard library are fair game.\n",
    "\n",
    "**Very important:** Always work with raw bytes, never with encoded strings."
   ]
  },
  {
   "cell_type": "markdown",
   "metadata": {},
   "source": [
    "## Some background"
   ]
  },
  {
   "cell_type": "markdown",
   "metadata": {},
   "source": [
    "A *padding oracle* is an oracle (think of it like a black box or an API) that can tell whether or not the padding in a CBC-encrypted ciphertext is valid. \n",
    "In practice, a padding oracle can be found in a service on a remote host sending error messages whenever it receives malformed ciphertexts.\n",
    "\n",
    "In a client-server scenario where the server is supposed to decrypt the message but keep the message content secret, a padding oracle vulnerability exists if the server indicates to the client that the padding was invalid. In this case, it is possible for an attacker to interactively query the server with manipulated copies of the ciphertext until the padding error does not occur, allowing them to determine, byte-by-byte, what the plaintext contains **without knowing the key!** In effect, what we're doing is a *side-channel attack*, since this attack targets the implementation of a computer system (the invalid padding error messages), rather than weaknesses in the implemented algorithm itself (AES-CBC).\n",
    "\n",
    "Therefore padding oracle attacks keep track of inputs that have a valid padding and those that don't, and exploit this information to decrypt chosen ciphertext values, so it is an example of a *chosen-ciphertext attack* (CCA).\n",
    "\n",
    "The padding oracle attack was first described in a 2002 paper by Serge Vaudenay: [*On Security Flaws Induced by CBC Padding\n",
    "Applications to SSL, IPSEC, WTLS...*](https://www.iacr.org/archive/eurocrypt2002/23320530/cbc02_e02d.pdf)"
   ]
  },
  {
   "cell_type": "markdown",
   "metadata": {},
   "source": [
    "## Getting started"
   ]
  },
  {
   "cell_type": "markdown",
   "metadata": {},
   "source": [
    "First, go to the Freedom Wall site at http://hw3.lunchtimeattack.wtf/. It should look like this:\n",
    "\n",
    "![fwsite](https://i.imgur.com/9ICCYUt.png)\n",
    "\n",
    "The site has a form that allows users to test whether messages can be properly decrypted. The form uses JavaScript to make an HTTP GET request to an API endpoint `/api/verify`. You can verify this by opening Developer Tools (press F12 to open it) and make the request.\n",
    "\n",
    "For example, if I enter `1234567890abcdef1234567890abcdef1234567890abcdef1234567890abcdef` into the input box and then click \"Verify\", it makes a GET request to this URL: `http://hw3.lunchtimeattack.wtf/api/verify?message=1234567890abcdef1234567890abcdef1234567890abcdef1234567890abcdef`.\n",
    "In response, it returns a JSON object containing a boolean value whether or not the message is valid and a string for any error returned.\n",
    "\n",
    "![devtools](https://i.imgur.com/U04lVtY.png)\n",
    "\n",
    "For the morbidly curious, you can see the Python server code for this website here: https://gist.github.com/alltootechnical/6954863e92c49d780d431b633bc6d0ec"
   ]
  },
  {
   "cell_type": "markdown",
   "metadata": {},
   "source": [
    "## 3-1. Interacting with the `verify` API [4 pts]"
   ]
  },
  {
   "cell_type": "markdown",
   "metadata": {},
   "source": [
    "To efficiently carry out this attack, you don't want to manually copy and paste hex-encoded bytes!\n",
    "Since we have access to the `/api/verify` endpoint, why not use that instead?"
   ]
  },
  {
   "cell_type": "markdown",
   "metadata": {},
   "source": [
    "We will use the `requests` library to make GET requests."
   ]
  },
  {
   "cell_type": "code",
   "execution_count": 1,
   "metadata": {},
   "outputs": [],
   "source": [
    "import requests"
   ]
  },
  {
   "cell_type": "code",
   "execution_count": 2,
   "metadata": {},
   "outputs": [
    {
     "data": {
      "text/plain": [
       "<Response [200]>"
      ]
     },
     "execution_count": 2,
     "metadata": {},
     "output_type": "execute_result"
    }
   ],
   "source": [
    "req = requests.get('http://hw3.lunchtimeattack.wtf/api/verify?message=b75af2483be584bdba53b47694f3bf9a36d4ebe30a22174a57a526925babcd31')\n",
    "req"
   ]
  },
  {
   "cell_type": "markdown",
   "metadata": {},
   "source": [
    "To get the actual JSON response, we use `req.json()`. This outputs a dictionary, for which we can access the value of `key1` using `response['key1']`."
   ]
  },
  {
   "cell_type": "code",
   "execution_count": 3,
   "metadata": {},
   "outputs": [
    {
     "data": {
      "text/plain": [
       "{'reason': 'Invalid padding', 'result': False}"
      ]
     },
     "execution_count": 3,
     "metadata": {},
     "output_type": "execute_result"
    }
   ],
   "source": [
    "response = req.json()\n",
    "response"
   ]
  },
  {
   "cell_type": "code",
   "execution_count": 4,
   "metadata": {},
   "outputs": [
    {
     "name": "stdout",
     "output_type": "stream",
     "text": [
      "Is it valid? False\n",
      "Why? Invalid padding\n"
     ]
    }
   ],
   "source": [
    "print(f\"Is it valid? {response['result']}\")\n",
    "print(f\"Why? {response['reason']}\")"
   ]
  },
  {
   "cell_type": "markdown",
   "metadata": {},
   "source": [
    "Now write a function called `padding_oracle` that makes a GET request to the `verify` API, given a hex-encoded string, and then outputs the JSON response."
   ]
  },
  {
   "cell_type": "code",
   "execution_count": null,
   "metadata": {},
   "outputs": [],
   "source": [
    "def padding_oracle(hexstring):\n",
    "    # to-do"
   ]
  },
  {
   "cell_type": "code",
   "execution_count": null,
   "metadata": {},
   "outputs": [],
   "source": [
    "# if you did everything correctly, there should be no errors when running this cell\n",
    "assert padding_oracle('148ba22d8923171fd4b70422acc45e06a6aee1e2882e2e9c636b4b07005e6e9f') == {'reason': 'Invalid padding', 'result': False}\n",
    "assert padding_oracle('148ba22d8923171fd4b70422acc45e06a6aee1e2882e2e9c636b4b07005e6e9e') == {'result': True}"
   ]
  },
  {
   "cell_type": "markdown",
   "metadata": {},
   "source": [
    "## 3-2. Decrypting the last byte [6 pts]"
   ]
  },
  {
   "cell_type": "markdown",
   "metadata": {},
   "source": [
    "Let's start simple. For the next three parts including this one, we'll deal with this ciphertext to practice on:\n",
    "```\n",
    "7f58c8d06944c9504541f70bcc34bed37f7a2156c16ea20cb2b9b9822bf9d301e89eb96c26fe64bcc8526d43bd1edbbfe12a54f7ec4314d7052bf313807dacd0\n",
    "```\n",
    "\n",
    "This is also encrypted with the same key as the encrypted messages on the website.\n",
    "Our goal for this part is to recover the last byte of the first plaintext block."
   ]
  },
  {
   "cell_type": "code",
   "execution_count": null,
   "metadata": {},
   "outputs": [],
   "source": [
    "test_ctxt = unhexlify(b'7f58c8d06944c9504541f70bcc34bed37f7a2156c16ea20cb2b9b9822bf9d301e89eb96c26fe64bcc8526d43bd1edbbfe12a54f7ec4314d7052bf313807dacd0')"
   ]
  },
  {
   "cell_type": "markdown",
   "metadata": {},
   "source": [
    "A key property about CBC mode is that it is [*malleable*](https://en.wikipedia.org/wiki/Malleability_(cryptography)), meaning it's possible to transform a ciphertext into another ciphertext which decrypts to a related plaintext.\n",
    "To be more precise, CBC mode is partly malleable since flipping a bit in a ciphertext block will completely mangle the plaintext it decrypts to, but will result in the same bit being flipped in the plaintext of the next block."
   ]
  },
  {
   "cell_type": "markdown",
   "metadata": {},
   "source": [
    "Suppose we want to decrypt the ciphertext block `C2`, like the one shown below. We're looking for some value `X`, which is the result of `Dec_k(C2)`, and `P2`, the block obtained after decrypting in CBC mode. If we pick a random block `C1` and send the two-block ciphertext `C1 || C2` to the oracle, decryption will only succeed if `C1 || C2` ends with a valid padding.\n",
    "\n",
    "![cbcdec](https://i.imgur.com/Nle7ZtP.png)\n",
    "\n",
    "So to decrypt `C2[15]`, we \"force\" the resulting plaintext to have a valid padding (`01` in this case) by taking `C1` and changing its last byte until decryption succeeds.\n",
    "We can do this with a for loop for the last byte `b` from `0x00` to `0xff` (255), and we'll call this modified version as `C1'`:\n",
    "```\n",
    "C1' = C1[:15] || bytes([b])\n",
    "```\n",
    "We'll call the result of XORing the decryption of `C2` and the modified ciphertext block `C1'` as `P2'`, where the last byte is \n",
    "```\n",
    "P2'[15] = X[15] ^ C1'[15]\n",
    "```\n",
    "If the decryption of `C1' || C2` succeeds, then we know that `P2'[15] = X[15] ^ C1'[15] = 0x01`. Now what does that tell us?\n",
    "\n",
    "Since `C2` is the result of `Enc_k(P2 ^ C1)`, we have:\n",
    "```\n",
    "P2'[15] = X[15] ^ C1'[15]\n",
    "        = Dec_k(C2)[15] ^ C1'[15]\n",
    "        = Dec_k(Enc_k(P2 ^ C1))[15] ^ C1'[15]\n",
    "        = (P2 ^ C1)[15] ^ C1'[15]\n",
    "        = P2[15] ^ C1[15] ^ C1'[15]\n",
    "```\n",
    "and we have shown that `P2'[15] = 0x01`, so:\n",
    "```\n",
    "P2[15] ^ C1[15] ^ C1'[15] = 0x01\n",
    "```\n",
    "which we can rearrange to get\n",
    "```\n",
    "P2[15] = C1[15] ^ C1'[15] ^ 0x01\n",
    "```"
   ]
  },
  {
   "cell_type": "markdown",
   "metadata": {},
   "source": [
    "Using all of these steps, write a function called `decrypt_last_byte` that outputs the last byte of the plaintext. Use your `padding_oracle` function to check if the decryption is successful. Use the `split_blocks` function provided below to split your ciphertext input into blocks of 16 bytes. Use a `bytearray` object instead of `bytes` so that you can modify bytes. Use the `.hex()` method to convert a hex-encoded bytestring into an actual string for the `padding_oracle` function."
   ]
  },
  {
   "cell_type": "markdown",
   "metadata": {},
   "source": [
    "**⚠️ Important:** You should get this step correctly first before proceeding to the next steps."
   ]
  },
  {
   "cell_type": "code",
   "execution_count": null,
   "metadata": {},
   "outputs": [],
   "source": [
    "def split_blocks(data, blksz=16):\n",
    "    blocks = []\n",
    "    for i in range(len(data) // blksz):\n",
    "        blocks += [data[i*blksz:(i+1)*blksz]]\n",
    "    return blocks"
   ]
  },
  {
   "cell_type": "code",
   "execution_count": null,
   "metadata": {},
   "outputs": [],
   "source": [
    "def decrypt_last_byte(ctxt):\n",
    "    blocks = split_blocks(ctxt)\n",
    "    # TO-DO"
   ]
  },
  {
   "cell_type": "markdown",
   "metadata": {},
   "source": [
    "The last byte should decrypt to the space character `b' '` or 32 in decimal."
   ]
  },
  {
   "cell_type": "code",
   "execution_count": null,
   "metadata": {},
   "outputs": [],
   "source": [
    "# if you did everything correctly, there should be no errors when running this cell\n",
    "assert decrypt_last_byte(test_ctxt) == ord(' ')"
   ]
  },
  {
   "cell_type": "markdown",
   "metadata": {},
   "source": [
    "## 3-3. Decrypting another byte [4 pts]"
   ]
  },
  {
   "cell_type": "markdown",
   "metadata": {},
   "source": [
    "For the next byte, we have to choose a byte for `C1[14]`. At this point we already know what `P2[15]` is.\n",
    "Recall the equation we use to get `P2[15]`:\n",
    "```\n",
    "P2[15] = C1[15] ^ C1'[15] ^ 0x01\n",
    "```\n",
    "We can \"solve\" for `C1'[15]` by rearranging it to get:\n",
    "```\n",
    "C1'[15] = P2[15] ^ C1[15] ^ 0x02\n",
    "```\n",
    "The padding byte `0x02` changes here since we moved from last byte to second to last, so now we want to \"force\" the resulting plaintext to end in `0202`.\n",
    "\n",
    "We take `C1` and change its second to last byte `C1[14]` until decryption succeeds.\n",
    "We can do this with a for loop for the second to last byte `b` from `0x00` to `0xff` (255), and we'll call this modified version as `C1'`:\n",
    "```\n",
    "C1' = C1[:14] || bytes([b]) || bytes([P2[15] ^ C1[15] ^ 0x02])\n",
    "                       ^^^           ^^^^^^^^^^^^^^^^^^^^^^^^  \n",
    "                     C1'[14]                  C1'[15]\n",
    "```\n",
    "If the decryption of `C1' || C2` succeeds, then we know that `P2'[14] = X[14] ^ C1'[14] = P2[14] ^ C1[14] ^ C1'[14] = 0x02`. We have:\n",
    "```\n",
    "P2[14] ^ C1[14] ^ C1'[14] = 0x02\n",
    "```\n",
    "which we can rearrange to get\n",
    "```\n",
    "P2[14] = C1[14] ^ C1'[14] ^ 0x02\n",
    "```"
   ]
  },
  {
   "cell_type": "markdown",
   "metadata": {},
   "source": [
    "Take your entire `decrypt_last_byte` function from last time and modify it as follows:\n",
    "* At the beginning (before the first for loop), provide a variable, say `last_two_bytes`, that will\n",
    "  store the last two bytes it finds.\n",
    "* Make a copy of the for loop (yes, copy–paste that thing), since the second for loop will deal with finding\n",
    "  the second to last byte. \n",
    "* In the first for loop, instead of returning the found value `P2[15]`, append it to the `last_two_bytes` variable.\n",
    "* In the second for loop, make the necessary changes according to the steps above. Like in the previous one, \n",
    "  instead of returning the found value `P2[14]`, append it to the `last_two_bytes` variable.\n",
    "* Your function should then return `last_two_bytes`.\n",
    "* Finally, rename your modified function as `decrypt_last_two_bytes`."
   ]
  },
  {
   "cell_type": "code",
   "execution_count": null,
   "metadata": {},
   "outputs": [],
   "source": [
    "def decrypt_last_two_bytes(ctxt):\n",
    "    # TO-DO"
   ]
  },
  {
   "cell_type": "markdown",
   "metadata": {},
   "source": [
    "Now, you should have the last two bytes of the plaintext `b' d'`. This is actually reversed, but we'll fix that in the next step."
   ]
  },
  {
   "cell_type": "code",
   "execution_count": null,
   "metadata": {},
   "outputs": [],
   "source": [
    "# if you did everything correctly, there should be no errors when running this cell\n",
    "assert decrypt_last_two_bytes(test_ctxt) == b' d'"
   ]
  },
  {
   "cell_type": "markdown",
   "metadata": {},
   "source": [
    "## 3-4. Decrypting a whole block [6 pts]"
   ]
  },
  {
   "cell_type": "markdown",
   "metadata": {},
   "source": [
    "By now, you may (or may not) have noticed a pattern:\n",
    "```\n",
    "# decrypt last byte\n",
    "C1'[15] = b\n",
    "P2[15] = C1[15] ^ C1'[15] ^ 0x01\n",
    "\n",
    "# decrypt 2nd to last byte\n",
    "C1'[14] = b\n",
    "C1'[15] = P2[15] ^ C1[15] ^ 0x02\n",
    "P2[14] = C1[14] ^ C1'[14] ^ 0x02\n",
    "\n",
    "# decrypt 3rd to last byte\n",
    "C1'[13] = b\n",
    "C1'[14] = P2[14] ^ C1[14] ^ 0x03\n",
    "C1'[15] = P2[15] ^ C1[15] ^ 0x03\n",
    "P2[13] = C1[13] ^ C1'[13] ^ 0x03\n",
    "\n",
    "... and so on\n",
    "```\n",
    "So we can generalize it like this (in pseudocode):\n",
    "```\n",
    "P = bytearray([0, ..., 0])\n",
    "              ^^^^^^^^^^^\n",
    "               16 times\n",
    "for each i from 0 to 15:    # for each byte position\n",
    "    # calculate the padding\n",
    "    pad_byte := i+1\n",
    "    padding := bytearray([0, ..., 0] || [pad_byte, ..., pad_byte])\n",
    "                         ^^^^^^^^^^^    ^^^^^^^^^^^^^^^^^^^^^^^^^\n",
    "                         15-i times              i+1 times\n",
    "    C1' := C1 ^ P ^ padding\n",
    "    \n",
    "    for each byte b from 0x00 to 0xff:\n",
    "        # set the (15-i) byte to b\n",
    "        C1'[15-i] := b\n",
    "        # assemble the ciphertext to be tested\n",
    "        modified := C1' || C2\n",
    "        \n",
    "        if the oracle says that decryption is successful:\n",
    "            # compute the plaintext byte\n",
    "            P[15-i] := b ^ C1[15-i] ^ pad_byte\n",
    "            break\n",
    "            \n",
    "remove the padding characters (i.e., 0x00 to 0x10) from P\n",
    "return P\n",
    "```"
   ]
  },
  {
   "cell_type": "markdown",
   "metadata": {},
   "source": [
    "Write a function called `decrypt_block` that does what's described in the pseudocode.\n",
    "You already have your `xor_bytes` function from Homework 1 to XOR two bytestrings, so use that. Use `bytearray`s so that you can manipulate bytes."
   ]
  },
  {
   "cell_type": "markdown",
   "metadata": {},
   "source": [
    "*Note:* Partial points may be given if you can only partially decrypt the ciphertext."
   ]
  },
  {
   "cell_type": "code",
   "execution_count": null,
   "metadata": {},
   "outputs": [],
   "source": [
    "def decrypt_block(ctxt):\n",
    "    c1, c2 = ctxt\n",
    "    # TO-DO"
   ]
  },
  {
   "cell_type": "markdown",
   "metadata": {},
   "source": [
    "Eventually, you'll find out that the IV and first ciphertext block decrypts to the first plaintext block containing the string `b'if you can read '` (note the last character is a space)."
   ]
  },
  {
   "cell_type": "code",
   "execution_count": null,
   "metadata": {},
   "outputs": [],
   "source": [
    "# if you did everything correctly, there should be no errors when running this cell\n",
    "assert decrypt_block(split_blocks(test_ctxt)[0:2]) == b'if you can read '"
   ]
  },
  {
   "cell_type": "markdown",
   "metadata": {},
   "source": [
    "## 3-5. Decrypting multiple blocks [4 pts]"
   ]
  },
  {
   "cell_type": "markdown",
   "metadata": {},
   "source": [
    "Now that we can decrypt a whole block, we can do a for loop and use `decrypt_block` as a subroutine feeding in two blocks at a time, like so:\n",
    "```\n",
    "blocks := split_blocks(ctxt)\n",
    "plaintext := b''\n",
    "for each block i from 0 to len(blocks)-2:   # ranges are inclusive\n",
    "    decrypted_block := decrypt_block(blocks[i:i+2])\n",
    "    append decrypted_block to plaintext\n",
    "return plaintext\n",
    "```\n",
    "\n",
    "Write a function called `decrypt_message` to do this."
   ]
  },
  {
   "cell_type": "markdown",
   "metadata": {},
   "source": [
    "**⚠️ Important:** The speed of decryption may depend on your Internet connection and the server load, so expect some slowdowns when you make HTTP requests to the website when the server gets congested.\n",
    "For reference, the test ciphertext takes about 20 minutes to decrypt."
   ]
  },
  {
   "cell_type": "code",
   "execution_count": null,
   "metadata": {},
   "outputs": [],
   "source": [
    "def decrypt_message(ctxt):\n",
    "    # TO-DO"
   ]
  },
  {
   "cell_type": "code",
   "execution_count": null,
   "metadata": {},
   "outputs": [],
   "source": [
    "# if you did everything correctly, there should be no errors when running this cell\n",
    "assert decrypt_message(test_ctxt) == b'if you can read this message, congrats!'"
   ]
  },
  {
   "cell_type": "markdown",
   "metadata": {},
   "source": [
    "## 3-6. The main event [6 pts]"
   ]
  },
  {
   "cell_type": "markdown",
   "metadata": {},
   "source": [
    "Finally, go to the Freedom Wall website and decrypt the three encrypted messages posted there using your `decrypt_message` function. Use `unhexlify` to convert hex-encoded bytes to raw bytes."
   ]
  },
  {
   "cell_type": "markdown",
   "metadata": {},
   "source": [
    "**⚠️ Important:** The speed of decryption may depend on your Internet connection and the server load, so expect some slowdowns when you make HTTP requests to the website when the server gets congested.\n",
    "For reference, Posts #2 and #3 take about 25 to 30 minutes to decrypt, while Post #1 takes about an hour and a half."
   ]
  },
  {
   "cell_type": "markdown",
   "metadata": {},
   "source": [
    "*Note:* Partial points may be given if you can only partially decrypt the messages. I highly recommend to print the result after each block is decrypted."
   ]
  },
  {
   "cell_type": "code",
   "execution_count": null,
   "metadata": {},
   "outputs": [],
   "source": []
  },
  {
   "cell_type": "code",
   "execution_count": null,
   "metadata": {},
   "outputs": [],
   "source": []
  },
  {
   "cell_type": "code",
   "execution_count": null,
   "metadata": {},
   "outputs": [],
   "source": []
  }
 ],
 "metadata": {
  "kernelspec": {
   "display_name": "Python 3 (ipykernel)",
   "language": "python",
   "name": "python3"
  },
  "language_info": {
   "codemirror_mode": {
    "name": "ipython",
    "version": 3
   },
   "file_extension": ".py",
   "mimetype": "text/x-python",
   "name": "python",
   "nbconvert_exporter": "python",
   "pygments_lexer": "ipython3",
   "version": "3.12.3"
  }
 },
 "nbformat": 4,
 "nbformat_minor": 4
}
